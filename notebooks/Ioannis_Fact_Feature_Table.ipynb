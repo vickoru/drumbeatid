{
 "cells": [
  {
   "cell_type": "markdown",
   "id": "a71475b7",
   "metadata": {},
   "source": [
    "## Import Packages"
   ]
  },
  {
   "cell_type": "code",
   "execution_count": 1,
   "id": "edc11803",
   "metadata": {},
   "outputs": [],
   "source": [
    "import numpy as np\n",
    "import matplotlib.pyplot as plt\n",
    "import scipy\n",
    "from scipy.io import wavfile\n",
    "from IPython.display import Audio\n",
    "from scipy import fft\n",
    "import librosa\n",
    "import librosa.display\n",
    "from wavinfo import WavInfoReader\n",
    "import pandas as pd"
   ]
  },
  {
   "cell_type": "markdown",
   "id": "0063180d",
   "metadata": {},
   "source": [
    "## Read Data"
   ]
  },
  {
   "cell_type": "code",
   "execution_count": 2,
   "id": "fa675db8",
   "metadata": {},
   "outputs": [],
   "source": [
    "df_drummers = pd.read_csv('/home/ioannis/code/vickoru/drumbeatid/raw_data/groove/info.csv')"
   ]
  },
  {
   "cell_type": "code",
   "execution_count": 3,
   "id": "6aaaa92c",
   "metadata": {},
   "outputs": [],
   "source": [
    "# Keep only features of interest\n",
    "df_drummers = df_drummers.drop(columns=['beat_type', 'session', 'split', 'midi_filename'])\n"
   ]
  },
  {
   "cell_type": "code",
   "execution_count": 4,
   "id": "bd031b92",
   "metadata": {},
   "outputs": [
    {
     "data": {
      "text/html": [
       "<div>\n",
       "<style scoped>\n",
       "    .dataframe tbody tr th:only-of-type {\n",
       "        vertical-align: middle;\n",
       "    }\n",
       "\n",
       "    .dataframe tbody tr th {\n",
       "        vertical-align: top;\n",
       "    }\n",
       "\n",
       "    .dataframe thead th {\n",
       "        text-align: right;\n",
       "    }\n",
       "</style>\n",
       "<table border=\"1\" class=\"dataframe\">\n",
       "  <thead>\n",
       "    <tr style=\"text-align: right;\">\n",
       "      <th></th>\n",
       "      <th>drummer</th>\n",
       "      <th>id</th>\n",
       "      <th>style</th>\n",
       "      <th>bpm</th>\n",
       "      <th>time_signature</th>\n",
       "      <th>audio_filename</th>\n",
       "      <th>duration</th>\n",
       "    </tr>\n",
       "  </thead>\n",
       "  <tbody>\n",
       "    <tr>\n",
       "      <th>0</th>\n",
       "      <td>drummer1</td>\n",
       "      <td>drummer1/eval_session/1</td>\n",
       "      <td>funk/groove1</td>\n",
       "      <td>138</td>\n",
       "      <td>4-4</td>\n",
       "      <td>drummer1/eval_session/1_funk-groove1_138_beat_...</td>\n",
       "      <td>27.872308</td>\n",
       "    </tr>\n",
       "    <tr>\n",
       "      <th>1</th>\n",
       "      <td>drummer1</td>\n",
       "      <td>drummer1/eval_session/10</td>\n",
       "      <td>soul/groove10</td>\n",
       "      <td>102</td>\n",
       "      <td>4-4</td>\n",
       "      <td>drummer1/eval_session/10_soul-groove10_102_bea...</td>\n",
       "      <td>37.691158</td>\n",
       "    </tr>\n",
       "    <tr>\n",
       "      <th>2</th>\n",
       "      <td>drummer1</td>\n",
       "      <td>drummer1/eval_session/2</td>\n",
       "      <td>funk/groove2</td>\n",
       "      <td>105</td>\n",
       "      <td>4-4</td>\n",
       "      <td>drummer1/eval_session/2_funk-groove2_105_beat_...</td>\n",
       "      <td>36.351218</td>\n",
       "    </tr>\n",
       "  </tbody>\n",
       "</table>\n",
       "</div>"
      ],
      "text/plain": [
       "    drummer                        id          style  bpm time_signature  \\\n",
       "0  drummer1   drummer1/eval_session/1   funk/groove1  138            4-4   \n",
       "1  drummer1  drummer1/eval_session/10  soul/groove10  102            4-4   \n",
       "2  drummer1   drummer1/eval_session/2   funk/groove2  105            4-4   \n",
       "\n",
       "                                      audio_filename   duration  \n",
       "0  drummer1/eval_session/1_funk-groove1_138_beat_...  27.872308  \n",
       "1  drummer1/eval_session/10_soul-groove10_102_bea...  37.691158  \n",
       "2  drummer1/eval_session/2_funk-groove2_105_beat_...  36.351218  "
      ]
     },
     "execution_count": 4,
     "metadata": {},
     "output_type": "execute_result"
    }
   ],
   "source": [
    "df_drummers.head(3)"
   ]
  },
  {
   "cell_type": "markdown",
   "id": "a1ba907e",
   "metadata": {},
   "source": [
    "## put on hold for now\n"
   ]
  },
  {
   "cell_type": "code",
   "execution_count": null,
   "id": "86568bd3",
   "metadata": {},
   "outputs": [],
   "source": [
    "def fact_table(drummer_df):## x - audio file path\n",
    "    # calculate the mean of each feature\n",
    "    main_df = drummer_df[['style','bpm','duration', 'audio_filename']]\n",
    "    main_df['mfccs'] = main_df['audio_filename'].map(calculate_mfccs()) \n",
    "    main_df['specbw'] = main_df['audio_filename'].map(calculate_specbandwidth())\n",
    "    main_df['specent'] = main_df['audio_filename'].map(calculate_spectralcentroid())\n",
    "    main_df['chromafeat'] = main_df['audio_filename'].map(calculate_chroma())\n",
    "    main_df['zerocr'] = main_df['audio_filename'].map(calculate_zerocrossrate())\n",
    "    main_df['specroff'] = main_df['audio_filename'].map(calculate_spectralroff())\n",
    "    \n",
    "    return main_df"
   ]
  },
  {
   "cell_type": "code",
   "execution_count": null,
   "id": "3ba79709",
   "metadata": {},
   "outputs": [],
   "source": [
    "'''\n",
    "The calculation of one of the features, but we should adjust the function in order to have only one input\n",
    "'''\n",
    "# #def calculate_mfccs(audio_filename):\n",
    "# def calculate_mfccs(waveform, samplingrate, number_coeffs=20):\n",
    "#     '''\n",
    "#     Caluculate Mel frequency cepstral coefficients.\n",
    "#     Input:\n",
    "#     waveform: array representing the waveform originating from audio file\n",
    "#     samplingrate: sampling rate from audio\n",
    "#     number_coeffs: total number of coefficients to calculate, default is 20\n",
    "#     Output: array of mfccs\n",
    "#     '''\n",
    "#     ##intermedite step for getting wavform samplingrate\n",
    "#     #function(filename) -> wavform and samplingrate\n",
    "#     mfccs = librosa.feature.mfcc(y=waveform, sr=samplingrate,\n",
    "#                                  n_mfcc=number_coeffs)\n",
    "#     return mfccs"
   ]
  }
 ],
 "metadata": {
  "kernelspec": {
   "display_name": "Python 3 (ipykernel)",
   "language": "python",
   "name": "python3"
  },
  "language_info": {
   "codemirror_mode": {
    "name": "ipython",
    "version": 3
   },
   "file_extension": ".py",
   "mimetype": "text/x-python",
   "name": "python",
   "nbconvert_exporter": "python",
   "pygments_lexer": "ipython3",
   "version": "3.8.12"
  },
  "toc": {
   "base_numbering": 1,
   "nav_menu": {},
   "number_sections": true,
   "sideBar": true,
   "skip_h1_title": false,
   "title_cell": "Table of Contents",
   "title_sidebar": "Contents",
   "toc_cell": false,
   "toc_position": {},
   "toc_section_display": true,
   "toc_window_display": false
  }
 },
 "nbformat": 4,
 "nbformat_minor": 5
}
