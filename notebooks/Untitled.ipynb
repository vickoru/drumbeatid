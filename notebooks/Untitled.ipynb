{
 "cells": [
  {
   "cell_type": "code",
   "execution_count": null,
   "id": "97319018",
   "metadata": {},
   "outputs": [],
   "source": [
    "@app.get(\"/predict\")\n",
    "def predict():      \n",
    "\n",
    "#     X_pred = pd.DataFrame(dict(\n",
    "#         key=[pd.to_datetime(pickup_datetime)],  # useless but the pipeline requires it\n",
    "#         pickup_datetime=[pd.to_datetime(pickup_datetime)],\n",
    "#         pickup_longitude=[float(pickup_longitude)],\n",
    "#         pickup_latitude=[float(pickup_latitude)],\n",
    "#         dropoff_longitude=[float(dropoff_longitude)],\n",
    "#         dropoff_latitude=[float(dropoff_latitude)],\n",
    "#         passenger_count=[int(passenger_count)]))\n",
    "\n",
    "    # model = load_model()\n",
    "\n",
    "    X_processed = preprocess_features(X_pred)\n",
    "\n",
    "    y_pred = app.state.model.predict(X_processed)\n",
    "\n",
    "    return {'fare_amount': float(y_pred[0,0])}"
   ]
  },
  {
   "cell_type": "code",
   "execution_count": null,
   "id": "7da6cb85",
   "metadata": {},
   "outputs": [],
   "source": [
    "y, sr = librosa.load(loc_)"
   ]
  },
  {
   "cell_type": "code",
   "execution_count": null,
   "id": "0cad13f6",
   "metadata": {},
   "outputs": [],
   "source": [
    "response = librosa.util.valid_audio(y)"
   ]
  },
  {
   "cell_type": "code",
   "execution_count": null,
   "id": "b4880e26",
   "metadata": {},
   "outputs": [],
   "source": [
    "if response == True:\n",
    "    {}"
   ]
  }
 ],
 "metadata": {
  "kernelspec": {
   "display_name": "Python 3 (ipykernel)",
   "language": "python",
   "name": "python3"
  },
  "language_info": {
   "codemirror_mode": {
    "name": "ipython",
    "version": 3
   },
   "file_extension": ".py",
   "mimetype": "text/x-python",
   "name": "python",
   "nbconvert_exporter": "python",
   "pygments_lexer": "ipython3",
   "version": "3.8.12"
  },
  "toc": {
   "base_numbering": 1,
   "nav_menu": {},
   "number_sections": true,
   "sideBar": true,
   "skip_h1_title": false,
   "title_cell": "Table of Contents",
   "title_sidebar": "Contents",
   "toc_cell": false,
   "toc_position": {},
   "toc_section_display": true,
   "toc_window_display": false
  }
 },
 "nbformat": 4,
 "nbformat_minor": 5
}
