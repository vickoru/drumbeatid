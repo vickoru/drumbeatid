{
 "cells": [
  {
   "cell_type": "code",
   "execution_count": null,
   "id": "_q8uOTzh5vwJ",
   "metadata": {
    "colab": {
     "base_uri": "https://localhost:8080/"
    },
    "id": "_q8uOTzh5vwJ",
    "outputId": "7c47ae68-3d0a-447f-8bc8-2bf711fbbdd8"
   },
   "outputs": [
    {
     "name": "stdout",
     "output_type": "stream",
     "text": [
      "Mounted at /content/drive\n"
     ]
    }
   ],
   "source": [
    "from google.colab import drive\n",
    "drive.mount('/content/drive')"
   ]
  },
  {
   "cell_type": "code",
   "execution_count": null,
   "id": "ST01eNrncRdb",
   "metadata": {
    "id": "ST01eNrncRdb"
   },
   "outputs": [],
   "source": [
    "from google.colab import files"
   ]
  },
  {
   "cell_type": "code",
   "execution_count": null,
   "id": "b1bca5c4",
   "metadata": {
    "id": "b1bca5c4"
   },
   "outputs": [],
   "source": [
    "%load_ext autoreload\n",
    "%autoreload 2"
   ]
  },
  {
   "cell_type": "code",
   "execution_count": 1,
   "id": "db41e616",
   "metadata": {
    "id": "db41e616"
   },
   "outputs": [
    {
     "name": "stderr",
     "output_type": "stream",
     "text": [
      "2022-09-06 16:15:52.538231: W tensorflow/stream_executor/platform/default/dso_loader.cc:64] Could not load dynamic library 'libcudart.so.11.0'; dlerror: libcudart.so.11.0: cannot open shared object file: No such file or directory\n",
      "2022-09-06 16:15:52.538415: I tensorflow/stream_executor/cuda/cudart_stub.cc:29] Ignore above cudart dlerror if you do not have a GPU set up on your machine.\n"
     ]
    },
    {
     "ename": "ModuleNotFoundError",
     "evalue": "No module named 'tensorflow_addons'",
     "output_type": "error",
     "traceback": [
      "\u001b[0;31m---------------------------------------------------------------------------\u001b[0m",
      "\u001b[0;31mModuleNotFoundError\u001b[0m                       Traceback (most recent call last)",
      "\u001b[0;32m/tmp/ipykernel_28043/1163698331.py\u001b[0m in \u001b[0;36m<module>\u001b[0;34m\u001b[0m\n\u001b[1;32m     20\u001b[0m \u001b[0;32mfrom\u001b[0m \u001b[0mtensorflow\u001b[0m\u001b[0;34m.\u001b[0m\u001b[0mkeras\u001b[0m\u001b[0;34m.\u001b[0m\u001b[0mcallbacks\u001b[0m \u001b[0;32mimport\u001b[0m \u001b[0mEarlyStopping\u001b[0m\u001b[0;34m\u001b[0m\u001b[0;34m\u001b[0m\u001b[0m\n\u001b[1;32m     21\u001b[0m \u001b[0;32mfrom\u001b[0m \u001b[0mtensorflow\u001b[0m\u001b[0;34m.\u001b[0m\u001b[0mkeras\u001b[0m\u001b[0;34m.\u001b[0m\u001b[0moptimizers\u001b[0m \u001b[0;32mimport\u001b[0m \u001b[0mAdam\u001b[0m\u001b[0;34m\u001b[0m\u001b[0;34m\u001b[0m\u001b[0m\n\u001b[0;32m---> 22\u001b[0;31m \u001b[0;32mfrom\u001b[0m \u001b[0mtensorflow_addons\u001b[0m\u001b[0;34m.\u001b[0m\u001b[0mmetrics\u001b[0m \u001b[0;32mimport\u001b[0m \u001b[0mF1Score\u001b[0m\u001b[0;34m\u001b[0m\u001b[0;34m\u001b[0m\u001b[0m\n\u001b[0m",
      "\u001b[0;31mModuleNotFoundError\u001b[0m: No module named 'tensorflow_addons'"
     ]
    }
   ],
   "source": [
    "import numpy as np\n",
    "import matplotlib.pyplot as plt\n",
    "import scipy\n",
    "from scipy.io import wavfile\n",
    "from IPython.display import Audio\n",
    "from scipy import fft\n",
    "import librosa\n",
    "import librosa.display\n",
    "# from wavinfo import WavInfoReader\n",
    "import pandas as pd\n",
    "import os\n",
    "import sys\n",
    "import seaborn as sns\n",
    "import pickle\n",
    "\n",
    "from sklearn.preprocessing import LabelEncoder\n",
    "from sklearn.model_selection import train_test_split\n",
    "from tensorflow.keras import models,layers\n",
    "from tensorflow.keras.utils import to_categorical, plot_model\n",
    "from tensorflow.keras.callbacks import EarlyStopping\n",
    "from tensorflow.keras.optimizers import Adam\n",
    "from tensorflow_addons.metrics import F1Score\n"
   ]
  },
  {
   "cell_type": "code",
   "execution_count": null,
   "id": "8443d251",
   "metadata": {
    "id": "8443d251"
   },
   "outputs": [],
   "source": [
    "def calculate_mfccs(waveform, samplingrate, number_coeffs=128):\n",
    "    '''\n",
    "    Caluculate Mel frequency cepstral coefficients.\n",
    "    Input:\n",
    "    waveform: array representing the waveform originating from audio file\n",
    "    samplingrate: sampling rate from audio\n",
    "    number_coeffs: total number of coefficients to calculate, default is 20\n",
    "    Output: array of mfccs\n",
    "    '''\n",
    "    mfccs = librosa.feature.mfcc(y=waveform, sr=samplingrate,\n",
    "                                 n_mfcc=number_coeffs)\n",
    "    return mfccs\n",
    "\n",
    "\n",
    "def calculate_specbandwidth(waveform, samplingrate, order_p=2):\n",
    "    '''\n",
    "    Calculates spectral bandwithd of oder p\n",
    "    '''\n",
    "    specbw = librosa.feature.spectral_bandwidth(y=waveform, sr=samplingrate,\n",
    "                                                p=order_p)\n",
    "\n",
    "    return specbw\n",
    "\n",
    "\n",
    "def calculate_spectralcentroid(waveform, samplingrate, nfft=2048, hoplength=512):\n",
    "    '''\n",
    "    Calculate spectral centroid\n",
    "    '''\n",
    "    specent = librosa.feature.spectral_centroid(y=waveform,\n",
    "                                                sr=samplingrate, n_fft=nfft,\n",
    "                                                hop_length=hoplength)\n",
    "\n",
    "    return specent\n",
    "\n",
    "\n",
    "def calculate_chroma(waveform, samplingrate, nfft=2048, hoplength=512):\n",
    "    '''\n",
    "    Chroma Feature calculation with a hop length of 512 as default\n",
    "\n",
    "    '''\n",
    "    chromafeat = librosa.feature.chroma_stft(y=waveform, sr=samplingrate,\n",
    "                                             n_fft=nfft,\n",
    "                                             hop_length=hoplength)\n",
    "\n",
    "    return chromafeat\n",
    "\n",
    "\n",
    "def calculate_zerocrossrate(waveform, framelength=2048, hoplength=512,):\n",
    "    '''\n",
    "    Caluculate Zero crossing rate.\n",
    "\n",
    "    '''\n",
    "    zerocr = librosa.feature.zero_crossing_rate(y=waveform, frame_length=framelength,\n",
    "                                                hop_length=hoplength)\n",
    "\n",
    "    return zerocr\n",
    "\n",
    "\n",
    "def calculate_spectralroff(waveform, samplingrate, nfft=2048, hoplength=512):\n",
    "    '''\n",
    "    Calculate spectral roll off of the waveform\n",
    "    '''\n",
    "    specroff = librosa.feature.spectral_rolloff(y=waveform,\n",
    "                                                sr=samplingrate, n_fft=nfft,\n",
    "                                                hop_length=hoplength)\n",
    "\n",
    "    return specroff\n"
   ]
  },
  {
   "cell_type": "code",
   "execution_count": null,
   "id": "053f419f",
   "metadata": {
    "id": "053f419f"
   },
   "outputs": [],
   "source": [
    "def read_audio(audiofile_path, samplingrate=22050, duration=None):\n",
    "    '''\n",
    "    Reading in audiofile, returns 1-dimensional array x, sampling rate sr\n",
    "    '''\n",
    "\n",
    "    x , sr = librosa.load(audiofile_path, sr=samplingrate, duration=duration)\n",
    "    return x, sr\n",
    "\n",
    "\n",
    "def calculate_spectogram(waveform, nfft=2048, hoplength=512):\n",
    "    '''\n",
    "    ===  1 Spectogram  ===\n",
    "    requires 1-dimensional array x(timeseries), sampling rate sr\n",
    "    returns spectogram, a matplotlib.colormesh object\n",
    "\n",
    "    '''\n",
    "\n",
    "    #performing short time- Fourier analysis\n",
    "    X = librosa.stft(waveform, n_fft=nfft, hop_length=hoplength)\n",
    "\n",
    "    #amplitudes of given frequency at given time -> spectrogram\n",
    "    Xdb = librosa.amplitude_to_db(abs(X))\n",
    "\n",
    "    #plt.figure(figsize=(6, 5), frameon=False)\n",
    "    #librosa.display.specshow(Xdb, sr=sr, x_axis='time', y_axis='hz') # for demonstration purposes\n",
    "    \n",
    "#     spectogram = librosa.display.specshow(Xdb, sr=sr, x_axis=None, y_axis=None) # without axes\n",
    "    \n",
    "    return Xdb \n",
    "\n",
    "def calculate_melspect(waveform, samplingrate, nfft=2048, hoplength=512):\n",
    "    \n",
    "    melspec = librosa.feature.melspectrogram(y=waveform, sr=samplingrate, n_fft=nfft, hop_length=hoplength)\n",
    "    \n",
    "    melspec_dB = librosa.power_to_db(melspec)\n",
    "    \n",
    "    return melspec_dB\n"
   ]
  },
  {
   "cell_type": "code",
   "execution_count": null,
   "id": "eb3d7156",
   "metadata": {
    "id": "db166808"
   },
   "outputs": [],
   "source": [
    "def padding(feat_matrix, size, axis):\n",
    "    \n",
    "    padded = librosa.util.pad_center(feat_matrix, size=size, axis=axis)\n",
    "    \n",
    "    return padded\n",
    "\n",
    "\n",
    "def padding_waveforms(waveforms, max_length=132300, axis=0):\n",
    "    for idx, values in enumerate(waveforms):\n",
    "        if values.shape[0] < max_length:\n",
    "            waveforms[idx] = librosa.util.pad_center(waveforms[idx], size=max_length, axis=axis)\n",
    "    \n",
    "    return np.array(waveforms)  "
   ]
  },
  {
   "cell_type": "code",
   "execution_count": 16,
   "id": "139c6886",
   "metadata": {},
   "outputs": [
    {
     "name": "stdout",
     "output_type": "stream",
     "text": [
      "True\n"
     ]
    }
   ],
   "source": [
    "import pickle\n"
   ]
  },
  {
   "cell_type": "code",
   "execution_count": 45,
   "id": "db166808",
   "metadata": {
    "id": "db166808"
   },
   "outputs": [],
   "source": [
    "def minmaxscaling(matrix, var, mode):\n",
    "    '''\n",
    "    requires as input: matrix: a matrix with values of same variable)\n",
    "                       var (as string) name of the variable in the matrix (e.g. spectralroff)\n",
    "                       mode: \"fit_transform\" fits the min_max_scaler with the given values and stores\n",
    "                                              the min and max into a dictionary (scaler_dict). \n",
    "                                             Then transforms (normalizes) the given array \n",
    "                                        \n",
    "                             \"transform\" transforms the given matrix according to previously stored values\n",
    "                             \n",
    "                output: transformed matrix\n",
    "    '''\n",
    "    \n",
    "    if mode == \"fit_transform\":\n",
    "        try:\n",
    "            with open('scaler_dict.pickle', 'rb') as handle:\n",
    "                scaler_dict = pickle.load(handle)\n",
    "        except:\n",
    "            scaler_dict = {}\n",
    "        max_ = np.max(matrix)\n",
    "        min_ = np.min(matrix)\n",
    "        scaler_dict[(var + \"max\")] = max_\n",
    "        scaler_dict[(var + \"min\")] = min_\n",
    "        norm = np.array((matrix - min_)/(max_ - min_))\n",
    "        \n",
    "        with open('scaler_dict.pickle', 'wb') as shandle:\n",
    "            pickle.dump(scaler_dict, shandle, protocol=pickle.HIGHEST_PROTOCOL)\n",
    "            \n",
    "        return norm \n",
    "    \n",
    "    \n",
    "    if mode == \"transform\":\n",
    "        with open('scaler_dict.pickle', 'rb') as handle:\n",
    "            scaler_dict = pickle.load(handle)\n",
    "\n",
    "        max_ = scaler_dict[(var + \"max\")]        \n",
    "        min_ = scaler_dict[(var + \"min\")]\n",
    "        norm = np.array((matrix - min_)/(max_ - min_))\n",
    "    \n",
    "        return norm"
   ]
  },
  {
   "cell_type": "code",
   "execution_count": 18,
   "id": "24cd1371",
   "metadata": {},
   "outputs": [],
   "source": [
    "array1 = np.array([[[2,3,8],[6,7,8],[1,2,3]],[[2,3,8],[6,7,8],[1,2,3]]])\n",
    "array2= np.array([[[2,3,3],[3,3,2],[1,2,3]],[[2,3,2],[3,2,1],[1,2,3]]])\n",
    "array3=[]\n",
    "#array3.append(array)\n",
    "#array3.append(array2)"
   ]
  },
  {
   "cell_type": "code",
   "execution_count": 52,
   "id": "cb1c79f3",
   "metadata": {},
   "outputs": [
    {
     "data": {
      "text/plain": [
       "array([[[0.5, 1. , 1. ],\n",
       "        [1. , 1. , 0.5],\n",
       "        [0. , 0.5, 1. ]],\n",
       "\n",
       "       [[0.5, 1. , 0.5],\n",
       "        [1. , 0.5, 0. ],\n",
       "        [0. , 0.5, 1. ]]])"
      ]
     },
     "execution_count": 52,
     "metadata": {},
     "output_type": "execute_result"
    }
   ],
   "source": [
    "minmaxscaling(array2, \"test2\", \"fit_transform\")"
   ]
  },
  {
   "cell_type": "code",
   "execution_count": 4,
   "id": "ca708e41",
   "metadata": {},
   "outputs": [
    {
     "ename": "NameError",
     "evalue": "name 'scaler_dict' is not defined",
     "output_type": "error",
     "traceback": [
      "\u001b[0;31m---------------------------------------------------------------------------\u001b[0m",
      "\u001b[0;31mNameError\u001b[0m                                 Traceback (most recent call last)",
      "\u001b[0;32m/tmp/ipykernel_28043/3948644646.py\u001b[0m in \u001b[0;36m<module>\u001b[0;34m\u001b[0m\n\u001b[0;32m----> 1\u001b[0;31m \u001b[0mscaler_dict\u001b[0m\u001b[0;34m\u001b[0m\u001b[0;34m\u001b[0m\u001b[0m\n\u001b[0m",
      "\u001b[0;31mNameError\u001b[0m: name 'scaler_dict' is not defined"
     ]
    }
   ],
   "source": [
    "scaler_dict"
   ]
  },
  {
   "cell_type": "code",
   "execution_count": 42,
   "id": "e82d76a1",
   "metadata": {},
   "outputs": [],
   "source": [
    "#print(array.shape, array2.shape, array3.shape)\n",
    "\n",
    "# def minmaxscaling(matrix):\n",
    "#     max_ = np.max(matrix)\n",
    "#     min_ = np.min(matrix)\n",
    "#     norm = np.array((matrix - min_)/(max_ - min_))\n",
    "    \n",
    "#     return norm \n",
    "\n",
    "#np.min(array3)"
   ]
  },
  {
   "cell_type": "code",
   "execution_count": 43,
   "id": "e0d8cd53",
   "metadata": {},
   "outputs": [
    {
     "name": "stdout",
     "output_type": "stream",
     "text": [
      "(2, 2, 3, 3)\n",
      "(2, 2, 3, 3)\n"
     ]
    }
   ],
   "source": [
    "print(np.array(array3).shape)\n",
    "norm = minmaxscaling(array3)\n",
    "print(norm.shape)"
   ]
  },
  {
   "cell_type": "code",
   "execution_count": 55,
   "id": "17c2a5db",
   "metadata": {},
   "outputs": [
    {
     "ename": "IndexError",
     "evalue": "list index out of range",
     "output_type": "error",
     "traceback": [
      "\u001b[0;31m---------------------------------------------------------------------------\u001b[0m",
      "\u001b[0;31mIndexError\u001b[0m                                Traceback (most recent call last)",
      "\u001b[0;32m/tmp/ipykernel_26590/11109112.py\u001b[0m in \u001b[0;36m<module>\u001b[0;34m\u001b[0m\n\u001b[0;32m----> 1\u001b[0;31m \u001b[0mprint\u001b[0m\u001b[0;34m(\u001b[0m\u001b[0marray3\u001b[0m\u001b[0;34m[\u001b[0m\u001b[0;36m2\u001b[0m\u001b[0;34m]\u001b[0m\u001b[0;34m)\u001b[0m\u001b[0;34m\u001b[0m\u001b[0;34m\u001b[0m\u001b[0m\n\u001b[0m\u001b[1;32m      2\u001b[0m \u001b[0mprint\u001b[0m\u001b[0;34m(\u001b[0m\u001b[0;34m\"-------------------------------------\"\u001b[0m\u001b[0;34m)\u001b[0m\u001b[0;34m\u001b[0m\u001b[0;34m\u001b[0m\u001b[0m\n\u001b[1;32m      3\u001b[0m \u001b[0mprint\u001b[0m\u001b[0;34m(\u001b[0m\u001b[0mnorm\u001b[0m\u001b[0;34m[\u001b[0m\u001b[0;36m2\u001b[0m\u001b[0;34m]\u001b[0m\u001b[0;34m)\u001b[0m\u001b[0;34m\u001b[0m\u001b[0;34m\u001b[0m\u001b[0m\n",
      "\u001b[0;31mIndexError\u001b[0m: list index out of range"
     ]
    }
   ],
   "source": [
    "print(array3[2])\n",
    "print(\"-------------------------------------\")\n",
    "print(norm[2])"
   ]
  },
  {
   "cell_type": "code",
   "execution_count": null,
   "id": "96380f3e",
   "metadata": {
    "id": "96380f3e"
   },
   "outputs": [],
   "source": [
    "def processing_drummers(dataframe):\n",
    "    df_drummers = dataframe.drop(columns=['drummer', 'id', 'session', 'split', 'midi_filename'])\n",
    "    df_drummers = df_drummers.dropna()\n",
    "    df_drummers = df_drummers[df_drummers['beat_type'] == 'beat']\n",
    "    df_drummers['style_new'] = df_drummers['style'].apply(lambda x: x.split('/')[0]) \n",
    "    df_drummers['style'] = df_drummers['style_new']\n",
    "    \n",
    "    return df_drummers.drop(columns='style_new')   \n",
    "\n",
    "\n",
    "def process_genres(drummers_df):\n",
    "    \n",
    "    genres = drummers_df['style'].values\n",
    "\n",
    "    return genres\n",
    "\n",
    "\n",
    "def process_audiofiles(loc, drummers_df, samplingrate=22050, duration=6):\n",
    "    \n",
    "    waveforms_ = drummers_df['audio_filename'].apply(\n",
    "        lambda x: librosa.load(os.path.join(loc, x), sr=samplingrate, duration=duration)).values\n",
    "    # genres = drummers_df['style'].values    \n",
    "    \n",
    "    waveforms = []\n",
    "    sr = []\n",
    "    for values in waveforms_:\n",
    "        waveforms.append(values[0])\n",
    "        sr.append(values[1])\n",
    "    \n",
    "    waveforms_padded = padding_waveforms(waveforms, max_length=132300, axis=0) \n",
    "        \n",
    "    return waveforms_padded, np.array(sr)\n",
    "\n",
    "\n",
    "def spectogram_mfccs(waveform, sr):\n",
    "    mfccs = []\n",
    "    for idx in range(waveform.shape[0]):\n",
    "        mfccs.append(calculate_mfccs(waveform[idx], sr[idx], number_coeffs=128)) # mfccs\n",
    "    \n",
    "    return np.array(mfccs)\n",
    "\n",
    "\n",
    "def spectogram_chroma(waveform, sr):\n",
    "    chroma = []    \n",
    "    for idx in range(waveform.shape[0]):\n",
    "        chroma.append(calculate_chroma(waveform[idx], samplingrate=sr[idx]))\n",
    "    \n",
    "    return np.array(chroma)\n",
    "           \n",
    "\n",
    "def spectogram_stft(waveform):\n",
    "    spectogram_feat = []\n",
    "    for idx in range(waveform.shape[0]):\n",
    "        spectogram_feat.append(calculate_spectogram(waveform[idx]))\n",
    "    \n",
    "    return np.array(spectogram_feat)\n",
    "\n",
    "\n",
    "def spectogram_mel(waveform, sr):\n",
    "    melspect = [] \n",
    "    for idx in range(waveform.shape[0]):\n",
    "        melspect.append(calculate_melspect(waveform[idx], samplingrate=sr[idx]))\n",
    "    \n",
    "    return np.array(melspect)\n",
    "\n",
    "\n",
    "# def spectrograms(waveform, sr, how='all'):\n",
    "#     shape_ = waveform.shape[0]\n",
    "#     if how == 'all':\n",
    "#         return spectogram_stft(waveform), spe\n",
    "#         mfccs = []\n",
    "#         for idx in range(shape_):\n",
    "#             mfccs.append(calculate_mfccs(waveform[idx], sr[idx], number_coeffs=128)) # mfccs        \n",
    "    "
   ]
  },
  {
   "cell_type": "code",
   "execution_count": null,
   "id": "xlrGeKiNvzFq",
   "metadata": {
    "id": "xlrGeKiNvzFq"
   },
   "outputs": [],
   "source": [
    "def extracting_features(waveforms, sr):\n",
    "    '''\n",
    "    Extracts column-vector features and the chroma features\n",
    "    \n",
    "    returns a dictionary with keys: specbandwith, spectralcentroid, chroma, zeorcrossrate, spectralroff\n",
    "                        each contains a list (with features for each waveform of the array of waveforms)\n",
    "    '''\n",
    "    specbw = []\n",
    "    speccen = []\n",
    "    zcrossr = []\n",
    "    specroff = []\n",
    "    for idx, audio in enumerate(waveforms):\n",
    "        specbw.append(calculate_specbandwidth(audio, sr[idx]))\n",
    "        speccen.append(calculate_spectralcentroid(audio, sr[idx]))\n",
    "        zcrossr.append(calculate_zerocrossrate(audio))\n",
    "        specroff.append(calculate_spectralroff(audio, sr[idx]))\n",
    "                \n",
    "    return np.array(specbw), np.array(speccen), np.array(zcrossr), np.array(specroff)"
   ]
  },
  {
   "cell_type": "code",
   "execution_count": null,
   "id": "59f0ffd4",
   "metadata": {
    "id": "59f0ffd4"
   },
   "outputs": [],
   "source": [
    "# pwd = os.path.abspath('.')\n",
    "# loc = os.path.join(pwd, '..', '..', '..' , 'drumbeatid', 'raw_data', 'groove')\n",
    "# # loc_ = '../raw_data/groove/info.csv'\n",
    "# loc"
   ]
  },
  {
   "cell_type": "code",
   "execution_count": null,
   "id": "-fgDPKQRxR0r",
   "metadata": {
    "id": "-fgDPKQRxR0r"
   },
   "outputs": [],
   "source": [
    "loc = '/content/drive/MyDrive/Colab Notebooks/drumbeatid/raw_data/groove'\n",
    "# os.chdir('/content/drive/MyDrive/Colab Notebooks/drumbeatid/raw_data/groove' )"
   ]
  },
  {
   "cell_type": "code",
   "execution_count": null,
   "id": "vNzAj-MUxUA0",
   "metadata": {
    "colab": {
     "base_uri": "https://localhost:8080/",
     "height": 357
    },
    "id": "vNzAj-MUxUA0",
    "outputId": "8bb87144-d562-4014-de6e-9fba7f0f2acd"
   },
   "outputs": [
    {
     "data": {
      "text/html": [
       "\n",
       "  <div id=\"df-a14c310b-1419-4809-b769-a0eea6b09a97\">\n",
       "    <div class=\"colab-df-container\">\n",
       "      <div>\n",
       "<style scoped>\n",
       "    .dataframe tbody tr th:only-of-type {\n",
       "        vertical-align: middle;\n",
       "    }\n",
       "\n",
       "    .dataframe tbody tr th {\n",
       "        vertical-align: top;\n",
       "    }\n",
       "\n",
       "    .dataframe thead th {\n",
       "        text-align: right;\n",
       "    }\n",
       "</style>\n",
       "<table border=\"1\" class=\"dataframe\">\n",
       "  <thead>\n",
       "    <tr style=\"text-align: right;\">\n",
       "      <th></th>\n",
       "      <th>drummer</th>\n",
       "      <th>session</th>\n",
       "      <th>id</th>\n",
       "      <th>style</th>\n",
       "      <th>bpm</th>\n",
       "      <th>beat_type</th>\n",
       "      <th>time_signature</th>\n",
       "      <th>midi_filename</th>\n",
       "      <th>audio_filename</th>\n",
       "      <th>duration</th>\n",
       "      <th>split</th>\n",
       "    </tr>\n",
       "  </thead>\n",
       "  <tbody>\n",
       "    <tr>\n",
       "      <th>0</th>\n",
       "      <td>drummer1</td>\n",
       "      <td>drummer1/eval_session</td>\n",
       "      <td>drummer1/eval_session/1</td>\n",
       "      <td>funk/groove1</td>\n",
       "      <td>138</td>\n",
       "      <td>beat</td>\n",
       "      <td>4-4</td>\n",
       "      <td>drummer1/eval_session/1_funk-groove1_138_beat_...</td>\n",
       "      <td>drummer1/eval_session/1_funk-groove1_138_beat_...</td>\n",
       "      <td>27.872308</td>\n",
       "      <td>test</td>\n",
       "    </tr>\n",
       "    <tr>\n",
       "      <th>1</th>\n",
       "      <td>drummer1</td>\n",
       "      <td>drummer1/eval_session</td>\n",
       "      <td>drummer1/eval_session/10</td>\n",
       "      <td>soul/groove10</td>\n",
       "      <td>102</td>\n",
       "      <td>beat</td>\n",
       "      <td>4-4</td>\n",
       "      <td>drummer1/eval_session/10_soul-groove10_102_bea...</td>\n",
       "      <td>drummer1/eval_session/10_soul-groove10_102_bea...</td>\n",
       "      <td>37.691158</td>\n",
       "      <td>test</td>\n",
       "    </tr>\n",
       "    <tr>\n",
       "      <th>2</th>\n",
       "      <td>drummer1</td>\n",
       "      <td>drummer1/eval_session</td>\n",
       "      <td>drummer1/eval_session/2</td>\n",
       "      <td>funk/groove2</td>\n",
       "      <td>105</td>\n",
       "      <td>beat</td>\n",
       "      <td>4-4</td>\n",
       "      <td>drummer1/eval_session/2_funk-groove2_105_beat_...</td>\n",
       "      <td>drummer1/eval_session/2_funk-groove2_105_beat_...</td>\n",
       "      <td>36.351218</td>\n",
       "      <td>test</td>\n",
       "    </tr>\n",
       "    <tr>\n",
       "      <th>3</th>\n",
       "      <td>drummer1</td>\n",
       "      <td>drummer1/eval_session</td>\n",
       "      <td>drummer1/eval_session/3</td>\n",
       "      <td>soul/groove3</td>\n",
       "      <td>86</td>\n",
       "      <td>beat</td>\n",
       "      <td>4-4</td>\n",
       "      <td>drummer1/eval_session/3_soul-groove3_86_beat_4...</td>\n",
       "      <td>drummer1/eval_session/3_soul-groove3_86_beat_4...</td>\n",
       "      <td>44.716543</td>\n",
       "      <td>test</td>\n",
       "    </tr>\n",
       "    <tr>\n",
       "      <th>4</th>\n",
       "      <td>drummer1</td>\n",
       "      <td>drummer1/eval_session</td>\n",
       "      <td>drummer1/eval_session/4</td>\n",
       "      <td>soul/groove4</td>\n",
       "      <td>80</td>\n",
       "      <td>beat</td>\n",
       "      <td>4-4</td>\n",
       "      <td>drummer1/eval_session/4_soul-groove4_80_beat_4...</td>\n",
       "      <td>drummer1/eval_session/4_soul-groove4_80_beat_4...</td>\n",
       "      <td>47.987500</td>\n",
       "      <td>test</td>\n",
       "    </tr>\n",
       "  </tbody>\n",
       "</table>\n",
       "</div>\n",
       "      <button class=\"colab-df-convert\" onclick=\"convertToInteractive('df-a14c310b-1419-4809-b769-a0eea6b09a97')\"\n",
       "              title=\"Convert this dataframe to an interactive table.\"\n",
       "              style=\"display:none;\">\n",
       "        \n",
       "  <svg xmlns=\"http://www.w3.org/2000/svg\" height=\"24px\"viewBox=\"0 0 24 24\"\n",
       "       width=\"24px\">\n",
       "    <path d=\"M0 0h24v24H0V0z\" fill=\"none\"/>\n",
       "    <path d=\"M18.56 5.44l.94 2.06.94-2.06 2.06-.94-2.06-.94-.94-2.06-.94 2.06-2.06.94zm-11 1L8.5 8.5l.94-2.06 2.06-.94-2.06-.94L8.5 2.5l-.94 2.06-2.06.94zm10 10l.94 2.06.94-2.06 2.06-.94-2.06-.94-.94-2.06-.94 2.06-2.06.94z\"/><path d=\"M17.41 7.96l-1.37-1.37c-.4-.4-.92-.59-1.43-.59-.52 0-1.04.2-1.43.59L10.3 9.45l-7.72 7.72c-.78.78-.78 2.05 0 2.83L4 21.41c.39.39.9.59 1.41.59.51 0 1.02-.2 1.41-.59l7.78-7.78 2.81-2.81c.8-.78.8-2.07 0-2.86zM5.41 20L4 18.59l7.72-7.72 1.47 1.35L5.41 20z\"/>\n",
       "  </svg>\n",
       "      </button>\n",
       "      \n",
       "  <style>\n",
       "    .colab-df-container {\n",
       "      display:flex;\n",
       "      flex-wrap:wrap;\n",
       "      gap: 12px;\n",
       "    }\n",
       "\n",
       "    .colab-df-convert {\n",
       "      background-color: #E8F0FE;\n",
       "      border: none;\n",
       "      border-radius: 50%;\n",
       "      cursor: pointer;\n",
       "      display: none;\n",
       "      fill: #1967D2;\n",
       "      height: 32px;\n",
       "      padding: 0 0 0 0;\n",
       "      width: 32px;\n",
       "    }\n",
       "\n",
       "    .colab-df-convert:hover {\n",
       "      background-color: #E2EBFA;\n",
       "      box-shadow: 0px 1px 2px rgba(60, 64, 67, 0.3), 0px 1px 3px 1px rgba(60, 64, 67, 0.15);\n",
       "      fill: #174EA6;\n",
       "    }\n",
       "\n",
       "    [theme=dark] .colab-df-convert {\n",
       "      background-color: #3B4455;\n",
       "      fill: #D2E3FC;\n",
       "    }\n",
       "\n",
       "    [theme=dark] .colab-df-convert:hover {\n",
       "      background-color: #434B5C;\n",
       "      box-shadow: 0px 1px 3px 1px rgba(0, 0, 0, 0.15);\n",
       "      filter: drop-shadow(0px 1px 2px rgba(0, 0, 0, 0.3));\n",
       "      fill: #FFFFFF;\n",
       "    }\n",
       "  </style>\n",
       "\n",
       "      <script>\n",
       "        const buttonEl =\n",
       "          document.querySelector('#df-a14c310b-1419-4809-b769-a0eea6b09a97 button.colab-df-convert');\n",
       "        buttonEl.style.display =\n",
       "          google.colab.kernel.accessAllowed ? 'block' : 'none';\n",
       "\n",
       "        async function convertToInteractive(key) {\n",
       "          const element = document.querySelector('#df-a14c310b-1419-4809-b769-a0eea6b09a97');\n",
       "          const dataTable =\n",
       "            await google.colab.kernel.invokeFunction('convertToInteractive',\n",
       "                                                     [key], {});\n",
       "          if (!dataTable) return;\n",
       "\n",
       "          const docLinkHtml = 'Like what you see? Visit the ' +\n",
       "            '<a target=\"_blank\" href=https://colab.research.google.com/notebooks/data_table.ipynb>data table notebook</a>'\n",
       "            + ' to learn more about interactive tables.';\n",
       "          element.innerHTML = '';\n",
       "          dataTable['output_type'] = 'display_data';\n",
       "          await google.colab.output.renderOutput(dataTable, element);\n",
       "          const docLink = document.createElement('div');\n",
       "          docLink.innerHTML = docLinkHtml;\n",
       "          element.appendChild(docLink);\n",
       "        }\n",
       "      </script>\n",
       "    </div>\n",
       "  </div>\n",
       "  "
      ],
      "text/plain": [
       "    drummer                session                        id          style  \\\n",
       "0  drummer1  drummer1/eval_session   drummer1/eval_session/1   funk/groove1   \n",
       "1  drummer1  drummer1/eval_session  drummer1/eval_session/10  soul/groove10   \n",
       "2  drummer1  drummer1/eval_session   drummer1/eval_session/2   funk/groove2   \n",
       "3  drummer1  drummer1/eval_session   drummer1/eval_session/3   soul/groove3   \n",
       "4  drummer1  drummer1/eval_session   drummer1/eval_session/4   soul/groove4   \n",
       "\n",
       "   bpm beat_type time_signature  \\\n",
       "0  138      beat            4-4   \n",
       "1  102      beat            4-4   \n",
       "2  105      beat            4-4   \n",
       "3   86      beat            4-4   \n",
       "4   80      beat            4-4   \n",
       "\n",
       "                                       midi_filename  \\\n",
       "0  drummer1/eval_session/1_funk-groove1_138_beat_...   \n",
       "1  drummer1/eval_session/10_soul-groove10_102_bea...   \n",
       "2  drummer1/eval_session/2_funk-groove2_105_beat_...   \n",
       "3  drummer1/eval_session/3_soul-groove3_86_beat_4...   \n",
       "4  drummer1/eval_session/4_soul-groove4_80_beat_4...   \n",
       "\n",
       "                                      audio_filename   duration split  \n",
       "0  drummer1/eval_session/1_funk-groove1_138_beat_...  27.872308  test  \n",
       "1  drummer1/eval_session/10_soul-groove10_102_bea...  37.691158  test  \n",
       "2  drummer1/eval_session/2_funk-groove2_105_beat_...  36.351218  test  \n",
       "3  drummer1/eval_session/3_soul-groove3_86_beat_4...  44.716543  test  \n",
       "4  drummer1/eval_session/4_soul-groove4_80_beat_4...  47.987500  test  "
      ]
     },
     "execution_count": 12,
     "metadata": {},
     "output_type": "execute_result"
    }
   ],
   "source": [
    "df = pd.read_csv(os.path.join(loc, 'info.csv'))\n",
    "df.head()"
   ]
  },
  {
   "cell_type": "code",
   "execution_count": null,
   "id": "91a7556c",
   "metadata": {
    "colab": {
     "base_uri": "https://localhost:8080/",
     "height": 206
    },
    "id": "91a7556c",
    "outputId": "6c105a65-0d59-47c5-be96-240c427896c9"
   },
   "outputs": [
    {
     "data": {
      "text/html": [
       "\n",
       "  <div id=\"df-19e91413-49c0-4782-bbd5-d91f93c711a1\">\n",
       "    <div class=\"colab-df-container\">\n",
       "      <div>\n",
       "<style scoped>\n",
       "    .dataframe tbody tr th:only-of-type {\n",
       "        vertical-align: middle;\n",
       "    }\n",
       "\n",
       "    .dataframe tbody tr th {\n",
       "        vertical-align: top;\n",
       "    }\n",
       "\n",
       "    .dataframe thead th {\n",
       "        text-align: right;\n",
       "    }\n",
       "</style>\n",
       "<table border=\"1\" class=\"dataframe\">\n",
       "  <thead>\n",
       "    <tr style=\"text-align: right;\">\n",
       "      <th></th>\n",
       "      <th>style</th>\n",
       "      <th>bpm</th>\n",
       "      <th>beat_type</th>\n",
       "      <th>time_signature</th>\n",
       "      <th>audio_filename</th>\n",
       "      <th>duration</th>\n",
       "    </tr>\n",
       "  </thead>\n",
       "  <tbody>\n",
       "    <tr>\n",
       "      <th>0</th>\n",
       "      <td>funk</td>\n",
       "      <td>138</td>\n",
       "      <td>beat</td>\n",
       "      <td>4-4</td>\n",
       "      <td>drummer1/eval_session/1_funk-groove1_138_beat_...</td>\n",
       "      <td>27.872308</td>\n",
       "    </tr>\n",
       "    <tr>\n",
       "      <th>1</th>\n",
       "      <td>soul</td>\n",
       "      <td>102</td>\n",
       "      <td>beat</td>\n",
       "      <td>4-4</td>\n",
       "      <td>drummer1/eval_session/10_soul-groove10_102_bea...</td>\n",
       "      <td>37.691158</td>\n",
       "    </tr>\n",
       "    <tr>\n",
       "      <th>2</th>\n",
       "      <td>funk</td>\n",
       "      <td>105</td>\n",
       "      <td>beat</td>\n",
       "      <td>4-4</td>\n",
       "      <td>drummer1/eval_session/2_funk-groove2_105_beat_...</td>\n",
       "      <td>36.351218</td>\n",
       "    </tr>\n",
       "    <tr>\n",
       "      <th>3</th>\n",
       "      <td>soul</td>\n",
       "      <td>86</td>\n",
       "      <td>beat</td>\n",
       "      <td>4-4</td>\n",
       "      <td>drummer1/eval_session/3_soul-groove3_86_beat_4...</td>\n",
       "      <td>44.716543</td>\n",
       "    </tr>\n",
       "    <tr>\n",
       "      <th>4</th>\n",
       "      <td>soul</td>\n",
       "      <td>80</td>\n",
       "      <td>beat</td>\n",
       "      <td>4-4</td>\n",
       "      <td>drummer1/eval_session/4_soul-groove4_80_beat_4...</td>\n",
       "      <td>47.987500</td>\n",
       "    </tr>\n",
       "  </tbody>\n",
       "</table>\n",
       "</div>\n",
       "      <button class=\"colab-df-convert\" onclick=\"convertToInteractive('df-19e91413-49c0-4782-bbd5-d91f93c711a1')\"\n",
       "              title=\"Convert this dataframe to an interactive table.\"\n",
       "              style=\"display:none;\">\n",
       "        \n",
       "  <svg xmlns=\"http://www.w3.org/2000/svg\" height=\"24px\"viewBox=\"0 0 24 24\"\n",
       "       width=\"24px\">\n",
       "    <path d=\"M0 0h24v24H0V0z\" fill=\"none\"/>\n",
       "    <path d=\"M18.56 5.44l.94 2.06.94-2.06 2.06-.94-2.06-.94-.94-2.06-.94 2.06-2.06.94zm-11 1L8.5 8.5l.94-2.06 2.06-.94-2.06-.94L8.5 2.5l-.94 2.06-2.06.94zm10 10l.94 2.06.94-2.06 2.06-.94-2.06-.94-.94-2.06-.94 2.06-2.06.94z\"/><path d=\"M17.41 7.96l-1.37-1.37c-.4-.4-.92-.59-1.43-.59-.52 0-1.04.2-1.43.59L10.3 9.45l-7.72 7.72c-.78.78-.78 2.05 0 2.83L4 21.41c.39.39.9.59 1.41.59.51 0 1.02-.2 1.41-.59l7.78-7.78 2.81-2.81c.8-.78.8-2.07 0-2.86zM5.41 20L4 18.59l7.72-7.72 1.47 1.35L5.41 20z\"/>\n",
       "  </svg>\n",
       "      </button>\n",
       "      \n",
       "  <style>\n",
       "    .colab-df-container {\n",
       "      display:flex;\n",
       "      flex-wrap:wrap;\n",
       "      gap: 12px;\n",
       "    }\n",
       "\n",
       "    .colab-df-convert {\n",
       "      background-color: #E8F0FE;\n",
       "      border: none;\n",
       "      border-radius: 50%;\n",
       "      cursor: pointer;\n",
       "      display: none;\n",
       "      fill: #1967D2;\n",
       "      height: 32px;\n",
       "      padding: 0 0 0 0;\n",
       "      width: 32px;\n",
       "    }\n",
       "\n",
       "    .colab-df-convert:hover {\n",
       "      background-color: #E2EBFA;\n",
       "      box-shadow: 0px 1px 2px rgba(60, 64, 67, 0.3), 0px 1px 3px 1px rgba(60, 64, 67, 0.15);\n",
       "      fill: #174EA6;\n",
       "    }\n",
       "\n",
       "    [theme=dark] .colab-df-convert {\n",
       "      background-color: #3B4455;\n",
       "      fill: #D2E3FC;\n",
       "    }\n",
       "\n",
       "    [theme=dark] .colab-df-convert:hover {\n",
       "      background-color: #434B5C;\n",
       "      box-shadow: 0px 1px 3px 1px rgba(0, 0, 0, 0.15);\n",
       "      filter: drop-shadow(0px 1px 2px rgba(0, 0, 0, 0.3));\n",
       "      fill: #FFFFFF;\n",
       "    }\n",
       "  </style>\n",
       "\n",
       "      <script>\n",
       "        const buttonEl =\n",
       "          document.querySelector('#df-19e91413-49c0-4782-bbd5-d91f93c711a1 button.colab-df-convert');\n",
       "        buttonEl.style.display =\n",
       "          google.colab.kernel.accessAllowed ? 'block' : 'none';\n",
       "\n",
       "        async function convertToInteractive(key) {\n",
       "          const element = document.querySelector('#df-19e91413-49c0-4782-bbd5-d91f93c711a1');\n",
       "          const dataTable =\n",
       "            await google.colab.kernel.invokeFunction('convertToInteractive',\n",
       "                                                     [key], {});\n",
       "          if (!dataTable) return;\n",
       "\n",
       "          const docLinkHtml = 'Like what you see? Visit the ' +\n",
       "            '<a target=\"_blank\" href=https://colab.research.google.com/notebooks/data_table.ipynb>data table notebook</a>'\n",
       "            + ' to learn more about interactive tables.';\n",
       "          element.innerHTML = '';\n",
       "          dataTable['output_type'] = 'display_data';\n",
       "          await google.colab.output.renderOutput(dataTable, element);\n",
       "          const docLink = document.createElement('div');\n",
       "          docLink.innerHTML = docLinkHtml;\n",
       "          element.appendChild(docLink);\n",
       "        }\n",
       "      </script>\n",
       "    </div>\n",
       "  </div>\n",
       "  "
      ],
      "text/plain": [
       "  style  bpm beat_type time_signature  \\\n",
       "0  funk  138      beat            4-4   \n",
       "1  soul  102      beat            4-4   \n",
       "2  funk  105      beat            4-4   \n",
       "3  soul   86      beat            4-4   \n",
       "4  soul   80      beat            4-4   \n",
       "\n",
       "                                      audio_filename   duration  \n",
       "0  drummer1/eval_session/1_funk-groove1_138_beat_...  27.872308  \n",
       "1  drummer1/eval_session/10_soul-groove10_102_bea...  37.691158  \n",
       "2  drummer1/eval_session/2_funk-groove2_105_beat_...  36.351218  \n",
       "3  drummer1/eval_session/3_soul-groove3_86_beat_4...  44.716543  \n",
       "4  drummer1/eval_session/4_soul-groove4_80_beat_4...  47.987500  "
      ]
     },
     "execution_count": 13,
     "metadata": {},
     "output_type": "execute_result"
    }
   ],
   "source": [
    "df_drummers = processing_drummers(df)\n",
    "df_drummers.head()"
   ]
  },
  {
   "cell_type": "code",
   "execution_count": null,
   "id": "f6528023",
   "metadata": {
    "colab": {
     "base_uri": "https://localhost:8080/"
    },
    "id": "f6528023",
    "outputId": "3106720d-1d42-49b5-c293-18e32b515894"
   },
   "outputs": [
    {
     "name": "stdout",
     "output_type": "stream",
     "text": [
      "<class 'pandas.core.frame.DataFrame'>\n",
      "Int64Index: 444 entries, 0 to 1133\n",
      "Data columns (total 6 columns):\n",
      " #   Column          Non-Null Count  Dtype  \n",
      "---  ------          --------------  -----  \n",
      " 0   style           444 non-null    object \n",
      " 1   bpm             444 non-null    int64  \n",
      " 2   beat_type       444 non-null    object \n",
      " 3   time_signature  444 non-null    object \n",
      " 4   audio_filename  444 non-null    object \n",
      " 5   duration        444 non-null    float64\n",
      "dtypes: float64(1), int64(1), object(4)\n",
      "memory usage: 24.3+ KB\n"
     ]
    }
   ],
   "source": [
    "df_drummers.info()"
   ]
  },
  {
   "cell_type": "code",
   "execution_count": null,
   "id": "9b3ef99a",
   "metadata": {
    "colab": {
     "base_uri": "https://localhost:8080/"
    },
    "id": "9b3ef99a",
    "outputId": "a1c81b9a-266d-492e-a683-d8a15dd448a4"
   },
   "outputs": [
    {
     "data": {
      "text/plain": [
       "style             0\n",
       "bpm               0\n",
       "beat_type         0\n",
       "time_signature    0\n",
       "audio_filename    0\n",
       "duration          0\n",
       "dtype: int64"
      ]
     },
     "execution_count": 15,
     "metadata": {},
     "output_type": "execute_result"
    }
   ],
   "source": [
    "df_drummers.isnull().sum()"
   ]
  },
  {
   "cell_type": "code",
   "execution_count": null,
   "id": "8d7ca868",
   "metadata": {
    "colab": {
     "base_uri": "https://localhost:8080/",
     "height": 614
    },
    "id": "8d7ca868",
    "outputId": "315f7697-bd19-476d-b674-2cefed652ab5"
   },
   "outputs": [
    {
     "data": {
      "text/html": [
       "\n",
       "  <div id=\"df-d49eea27-fb42-4c9c-bfe5-2d830c97a760\">\n",
       "    <div class=\"colab-df-container\">\n",
       "      <div>\n",
       "<style scoped>\n",
       "    .dataframe tbody tr th:only-of-type {\n",
       "        vertical-align: middle;\n",
       "    }\n",
       "\n",
       "    .dataframe tbody tr th {\n",
       "        vertical-align: top;\n",
       "    }\n",
       "\n",
       "    .dataframe thead th {\n",
       "        text-align: right;\n",
       "    }\n",
       "</style>\n",
       "<table border=\"1\" class=\"dataframe\">\n",
       "  <thead>\n",
       "    <tr style=\"text-align: right;\">\n",
       "      <th></th>\n",
       "      <th>bpm</th>\n",
       "      <th>beat_type</th>\n",
       "      <th>time_signature</th>\n",
       "      <th>audio_filename</th>\n",
       "      <th>duration</th>\n",
       "    </tr>\n",
       "    <tr>\n",
       "      <th>style</th>\n",
       "      <th></th>\n",
       "      <th></th>\n",
       "      <th></th>\n",
       "      <th></th>\n",
       "      <th></th>\n",
       "    </tr>\n",
       "  </thead>\n",
       "  <tbody>\n",
       "    <tr>\n",
       "      <th>afrobeat</th>\n",
       "      <td>4</td>\n",
       "      <td>4</td>\n",
       "      <td>4</td>\n",
       "      <td>4</td>\n",
       "      <td>4</td>\n",
       "    </tr>\n",
       "    <tr>\n",
       "      <th>afrocuban</th>\n",
       "      <td>7</td>\n",
       "      <td>7</td>\n",
       "      <td>7</td>\n",
       "      <td>7</td>\n",
       "      <td>7</td>\n",
       "    </tr>\n",
       "    <tr>\n",
       "      <th>blues</th>\n",
       "      <td>4</td>\n",
       "      <td>4</td>\n",
       "      <td>4</td>\n",
       "      <td>4</td>\n",
       "      <td>4</td>\n",
       "    </tr>\n",
       "    <tr>\n",
       "      <th>country</th>\n",
       "      <td>2</td>\n",
       "      <td>2</td>\n",
       "      <td>2</td>\n",
       "      <td>2</td>\n",
       "      <td>2</td>\n",
       "    </tr>\n",
       "    <tr>\n",
       "      <th>dance</th>\n",
       "      <td>5</td>\n",
       "      <td>5</td>\n",
       "      <td>5</td>\n",
       "      <td>5</td>\n",
       "      <td>5</td>\n",
       "    </tr>\n",
       "    <tr>\n",
       "      <th>funk</th>\n",
       "      <td>45</td>\n",
       "      <td>45</td>\n",
       "      <td>45</td>\n",
       "      <td>45</td>\n",
       "      <td>45</td>\n",
       "    </tr>\n",
       "    <tr>\n",
       "      <th>gospel</th>\n",
       "      <td>1</td>\n",
       "      <td>1</td>\n",
       "      <td>1</td>\n",
       "      <td>1</td>\n",
       "      <td>1</td>\n",
       "    </tr>\n",
       "    <tr>\n",
       "      <th>hiphop</th>\n",
       "      <td>32</td>\n",
       "      <td>32</td>\n",
       "      <td>32</td>\n",
       "      <td>32</td>\n",
       "      <td>32</td>\n",
       "    </tr>\n",
       "    <tr>\n",
       "      <th>jazz</th>\n",
       "      <td>50</td>\n",
       "      <td>50</td>\n",
       "      <td>50</td>\n",
       "      <td>50</td>\n",
       "      <td>50</td>\n",
       "    </tr>\n",
       "    <tr>\n",
       "      <th>latin</th>\n",
       "      <td>42</td>\n",
       "      <td>42</td>\n",
       "      <td>42</td>\n",
       "      <td>42</td>\n",
       "      <td>42</td>\n",
       "    </tr>\n",
       "    <tr>\n",
       "      <th>middleeastern</th>\n",
       "      <td>1</td>\n",
       "      <td>1</td>\n",
       "      <td>1</td>\n",
       "      <td>1</td>\n",
       "      <td>1</td>\n",
       "    </tr>\n",
       "    <tr>\n",
       "      <th>neworleans</th>\n",
       "      <td>11</td>\n",
       "      <td>11</td>\n",
       "      <td>11</td>\n",
       "      <td>11</td>\n",
       "      <td>11</td>\n",
       "    </tr>\n",
       "    <tr>\n",
       "      <th>pop</th>\n",
       "      <td>15</td>\n",
       "      <td>15</td>\n",
       "      <td>15</td>\n",
       "      <td>15</td>\n",
       "      <td>15</td>\n",
       "    </tr>\n",
       "    <tr>\n",
       "      <th>punk</th>\n",
       "      <td>7</td>\n",
       "      <td>7</td>\n",
       "      <td>7</td>\n",
       "      <td>7</td>\n",
       "      <td>7</td>\n",
       "    </tr>\n",
       "    <tr>\n",
       "      <th>reggae</th>\n",
       "      <td>4</td>\n",
       "      <td>4</td>\n",
       "      <td>4</td>\n",
       "      <td>4</td>\n",
       "      <td>4</td>\n",
       "    </tr>\n",
       "    <tr>\n",
       "      <th>rock</th>\n",
       "      <td>186</td>\n",
       "      <td>186</td>\n",
       "      <td>186</td>\n",
       "      <td>186</td>\n",
       "      <td>186</td>\n",
       "    </tr>\n",
       "    <tr>\n",
       "      <th>soul</th>\n",
       "      <td>28</td>\n",
       "      <td>28</td>\n",
       "      <td>28</td>\n",
       "      <td>28</td>\n",
       "      <td>28</td>\n",
       "    </tr>\n",
       "  </tbody>\n",
       "</table>\n",
       "</div>\n",
       "      <button class=\"colab-df-convert\" onclick=\"convertToInteractive('df-d49eea27-fb42-4c9c-bfe5-2d830c97a760')\"\n",
       "              title=\"Convert this dataframe to an interactive table.\"\n",
       "              style=\"display:none;\">\n",
       "        \n",
       "  <svg xmlns=\"http://www.w3.org/2000/svg\" height=\"24px\"viewBox=\"0 0 24 24\"\n",
       "       width=\"24px\">\n",
       "    <path d=\"M0 0h24v24H0V0z\" fill=\"none\"/>\n",
       "    <path d=\"M18.56 5.44l.94 2.06.94-2.06 2.06-.94-2.06-.94-.94-2.06-.94 2.06-2.06.94zm-11 1L8.5 8.5l.94-2.06 2.06-.94-2.06-.94L8.5 2.5l-.94 2.06-2.06.94zm10 10l.94 2.06.94-2.06 2.06-.94-2.06-.94-.94-2.06-.94 2.06-2.06.94z\"/><path d=\"M17.41 7.96l-1.37-1.37c-.4-.4-.92-.59-1.43-.59-.52 0-1.04.2-1.43.59L10.3 9.45l-7.72 7.72c-.78.78-.78 2.05 0 2.83L4 21.41c.39.39.9.59 1.41.59.51 0 1.02-.2 1.41-.59l7.78-7.78 2.81-2.81c.8-.78.8-2.07 0-2.86zM5.41 20L4 18.59l7.72-7.72 1.47 1.35L5.41 20z\"/>\n",
       "  </svg>\n",
       "      </button>\n",
       "      \n",
       "  <style>\n",
       "    .colab-df-container {\n",
       "      display:flex;\n",
       "      flex-wrap:wrap;\n",
       "      gap: 12px;\n",
       "    }\n",
       "\n",
       "    .colab-df-convert {\n",
       "      background-color: #E8F0FE;\n",
       "      border: none;\n",
       "      border-radius: 50%;\n",
       "      cursor: pointer;\n",
       "      display: none;\n",
       "      fill: #1967D2;\n",
       "      height: 32px;\n",
       "      padding: 0 0 0 0;\n",
       "      width: 32px;\n",
       "    }\n",
       "\n",
       "    .colab-df-convert:hover {\n",
       "      background-color: #E2EBFA;\n",
       "      box-shadow: 0px 1px 2px rgba(60, 64, 67, 0.3), 0px 1px 3px 1px rgba(60, 64, 67, 0.15);\n",
       "      fill: #174EA6;\n",
       "    }\n",
       "\n",
       "    [theme=dark] .colab-df-convert {\n",
       "      background-color: #3B4455;\n",
       "      fill: #D2E3FC;\n",
       "    }\n",
       "\n",
       "    [theme=dark] .colab-df-convert:hover {\n",
       "      background-color: #434B5C;\n",
       "      box-shadow: 0px 1px 3px 1px rgba(0, 0, 0, 0.15);\n",
       "      filter: drop-shadow(0px 1px 2px rgba(0, 0, 0, 0.3));\n",
       "      fill: #FFFFFF;\n",
       "    }\n",
       "  </style>\n",
       "\n",
       "      <script>\n",
       "        const buttonEl =\n",
       "          document.querySelector('#df-d49eea27-fb42-4c9c-bfe5-2d830c97a760 button.colab-df-convert');\n",
       "        buttonEl.style.display =\n",
       "          google.colab.kernel.accessAllowed ? 'block' : 'none';\n",
       "\n",
       "        async function convertToInteractive(key) {\n",
       "          const element = document.querySelector('#df-d49eea27-fb42-4c9c-bfe5-2d830c97a760');\n",
       "          const dataTable =\n",
       "            await google.colab.kernel.invokeFunction('convertToInteractive',\n",
       "                                                     [key], {});\n",
       "          if (!dataTable) return;\n",
       "\n",
       "          const docLinkHtml = 'Like what you see? Visit the ' +\n",
       "            '<a target=\"_blank\" href=https://colab.research.google.com/notebooks/data_table.ipynb>data table notebook</a>'\n",
       "            + ' to learn more about interactive tables.';\n",
       "          element.innerHTML = '';\n",
       "          dataTable['output_type'] = 'display_data';\n",
       "          await google.colab.output.renderOutput(dataTable, element);\n",
       "          const docLink = document.createElement('div');\n",
       "          docLink.innerHTML = docLinkHtml;\n",
       "          element.appendChild(docLink);\n",
       "        }\n",
       "      </script>\n",
       "    </div>\n",
       "  </div>\n",
       "  "
      ],
      "text/plain": [
       "               bpm  beat_type  time_signature  audio_filename  duration\n",
       "style                                                                  \n",
       "afrobeat         4          4               4               4         4\n",
       "afrocuban        7          7               7               7         7\n",
       "blues            4          4               4               4         4\n",
       "country          2          2               2               2         2\n",
       "dance            5          5               5               5         5\n",
       "funk            45         45              45              45        45\n",
       "gospel           1          1               1               1         1\n",
       "hiphop          32         32              32              32        32\n",
       "jazz            50         50              50              50        50\n",
       "latin           42         42              42              42        42\n",
       "middleeastern    1          1               1               1         1\n",
       "neworleans      11         11              11              11        11\n",
       "pop             15         15              15              15        15\n",
       "punk             7          7               7               7         7\n",
       "reggae           4          4               4               4         4\n",
       "rock           186        186             186             186       186\n",
       "soul            28         28              28              28        28"
      ]
     },
     "execution_count": 16,
     "metadata": {},
     "output_type": "execute_result"
    }
   ],
   "source": [
    "df_drummers.groupby(by='style').count()"
   ]
  },
  {
   "cell_type": "code",
   "execution_count": null,
   "id": "1b06d3e8",
   "metadata": {
    "id": "1b06d3e8"
   },
   "outputs": [],
   "source": [
    "df_train, df_test = train_test_split(df_drummers, test_size=0.2, random_state=7)"
   ]
  },
  {
   "cell_type": "code",
   "execution_count": null,
   "id": "6791f8b0",
   "metadata": {
    "colab": {
     "base_uri": "https://localhost:8080/"
    },
    "id": "6791f8b0",
    "outputId": "7ce76fbb-49a7-4a13-808d-69d26781b6ce",
    "scrolled": true
   },
   "outputs": [
    {
     "name": "stdout",
     "output_type": "stream",
     "text": [
      "<class 'pandas.core.frame.DataFrame'>\n",
      "Int64Index: 355 entries, 224 to 585\n",
      "Data columns (total 6 columns):\n",
      " #   Column          Non-Null Count  Dtype  \n",
      "---  ------          --------------  -----  \n",
      " 0   style           355 non-null    object \n",
      " 1   bpm             355 non-null    int64  \n",
      " 2   beat_type       355 non-null    object \n",
      " 3   time_signature  355 non-null    object \n",
      " 4   audio_filename  355 non-null    object \n",
      " 5   duration        355 non-null    float64\n",
      "dtypes: float64(1), int64(1), object(4)\n",
      "memory usage: 19.4+ KB\n"
     ]
    }
   ],
   "source": [
    "df_train.info()"
   ]
  },
  {
   "cell_type": "code",
   "execution_count": null,
   "id": "23469c0d",
   "metadata": {
    "colab": {
     "base_uri": "https://localhost:8080/"
    },
    "id": "23469c0d",
    "outputId": "6fe1bef2-3405-4e42-a17d-51777671bbd3"
   },
   "outputs": [
    {
     "data": {
      "text/plain": [
       "(355, 6)"
      ]
     },
     "execution_count": 19,
     "metadata": {},
     "output_type": "execute_result"
    }
   ],
   "source": [
    "df_train.shape"
   ]
  },
  {
   "cell_type": "code",
   "execution_count": null,
   "id": "-R327grYMThF",
   "metadata": {
    "id": "-R327grYMThF"
   },
   "outputs": [],
   "source": [
    "df_new = df_train[['audio_filename', 'style']].groupby(by='style').count() \n",
    "genres_list = df_new[df_new['audio_filename'] > 30].index\n"
   ]
  },
  {
   "cell_type": "code",
   "execution_count": null,
   "id": "DfZAdlwiMUP0",
   "metadata": {
    "colab": {
     "base_uri": "https://localhost:8080/",
     "height": 206
    },
    "id": "DfZAdlwiMUP0",
    "outputId": "cdcbc804-ec2b-4d06-ecac-b137a58a6ab8"
   },
   "outputs": [
    {
     "data": {
      "text/html": [
       "\n",
       "  <div id=\"df-70b9fdd3-e865-48df-863c-31acab4658c1\">\n",
       "    <div class=\"colab-df-container\">\n",
       "      <div>\n",
       "<style scoped>\n",
       "    .dataframe tbody tr th:only-of-type {\n",
       "        vertical-align: middle;\n",
       "    }\n",
       "\n",
       "    .dataframe tbody tr th {\n",
       "        vertical-align: top;\n",
       "    }\n",
       "\n",
       "    .dataframe thead th {\n",
       "        text-align: right;\n",
       "    }\n",
       "</style>\n",
       "<table border=\"1\" class=\"dataframe\">\n",
       "  <thead>\n",
       "    <tr style=\"text-align: right;\">\n",
       "      <th></th>\n",
       "      <th>bpm</th>\n",
       "      <th>beat_type</th>\n",
       "      <th>time_signature</th>\n",
       "      <th>audio_filename</th>\n",
       "      <th>duration</th>\n",
       "    </tr>\n",
       "    <tr>\n",
       "      <th>style</th>\n",
       "      <th></th>\n",
       "      <th></th>\n",
       "      <th></th>\n",
       "      <th></th>\n",
       "      <th></th>\n",
       "    </tr>\n",
       "  </thead>\n",
       "  <tbody>\n",
       "    <tr>\n",
       "      <th>funk</th>\n",
       "      <td>34</td>\n",
       "      <td>34</td>\n",
       "      <td>34</td>\n",
       "      <td>34</td>\n",
       "      <td>34</td>\n",
       "    </tr>\n",
       "    <tr>\n",
       "      <th>jazz</th>\n",
       "      <td>40</td>\n",
       "      <td>40</td>\n",
       "      <td>40</td>\n",
       "      <td>40</td>\n",
       "      <td>40</td>\n",
       "    </tr>\n",
       "    <tr>\n",
       "      <th>latin</th>\n",
       "      <td>31</td>\n",
       "      <td>31</td>\n",
       "      <td>31</td>\n",
       "      <td>31</td>\n",
       "      <td>31</td>\n",
       "    </tr>\n",
       "    <tr>\n",
       "      <th>rock</th>\n",
       "      <td>145</td>\n",
       "      <td>145</td>\n",
       "      <td>145</td>\n",
       "      <td>145</td>\n",
       "      <td>145</td>\n",
       "    </tr>\n",
       "  </tbody>\n",
       "</table>\n",
       "</div>\n",
       "      <button class=\"colab-df-convert\" onclick=\"convertToInteractive('df-70b9fdd3-e865-48df-863c-31acab4658c1')\"\n",
       "              title=\"Convert this dataframe to an interactive table.\"\n",
       "              style=\"display:none;\">\n",
       "        \n",
       "  <svg xmlns=\"http://www.w3.org/2000/svg\" height=\"24px\"viewBox=\"0 0 24 24\"\n",
       "       width=\"24px\">\n",
       "    <path d=\"M0 0h24v24H0V0z\" fill=\"none\"/>\n",
       "    <path d=\"M18.56 5.44l.94 2.06.94-2.06 2.06-.94-2.06-.94-.94-2.06-.94 2.06-2.06.94zm-11 1L8.5 8.5l.94-2.06 2.06-.94-2.06-.94L8.5 2.5l-.94 2.06-2.06.94zm10 10l.94 2.06.94-2.06 2.06-.94-2.06-.94-.94-2.06-.94 2.06-2.06.94z\"/><path d=\"M17.41 7.96l-1.37-1.37c-.4-.4-.92-.59-1.43-.59-.52 0-1.04.2-1.43.59L10.3 9.45l-7.72 7.72c-.78.78-.78 2.05 0 2.83L4 21.41c.39.39.9.59 1.41.59.51 0 1.02-.2 1.41-.59l7.78-7.78 2.81-2.81c.8-.78.8-2.07 0-2.86zM5.41 20L4 18.59l7.72-7.72 1.47 1.35L5.41 20z\"/>\n",
       "  </svg>\n",
       "      </button>\n",
       "      \n",
       "  <style>\n",
       "    .colab-df-container {\n",
       "      display:flex;\n",
       "      flex-wrap:wrap;\n",
       "      gap: 12px;\n",
       "    }\n",
       "\n",
       "    .colab-df-convert {\n",
       "      background-color: #E8F0FE;\n",
       "      border: none;\n",
       "      border-radius: 50%;\n",
       "      cursor: pointer;\n",
       "      display: none;\n",
       "      fill: #1967D2;\n",
       "      height: 32px;\n",
       "      padding: 0 0 0 0;\n",
       "      width: 32px;\n",
       "    }\n",
       "\n",
       "    .colab-df-convert:hover {\n",
       "      background-color: #E2EBFA;\n",
       "      box-shadow: 0px 1px 2px rgba(60, 64, 67, 0.3), 0px 1px 3px 1px rgba(60, 64, 67, 0.15);\n",
       "      fill: #174EA6;\n",
       "    }\n",
       "\n",
       "    [theme=dark] .colab-df-convert {\n",
       "      background-color: #3B4455;\n",
       "      fill: #D2E3FC;\n",
       "    }\n",
       "\n",
       "    [theme=dark] .colab-df-convert:hover {\n",
       "      background-color: #434B5C;\n",
       "      box-shadow: 0px 1px 3px 1px rgba(0, 0, 0, 0.15);\n",
       "      filter: drop-shadow(0px 1px 2px rgba(0, 0, 0, 0.3));\n",
       "      fill: #FFFFFF;\n",
       "    }\n",
       "  </style>\n",
       "\n",
       "      <script>\n",
       "        const buttonEl =\n",
       "          document.querySelector('#df-70b9fdd3-e865-48df-863c-31acab4658c1 button.colab-df-convert');\n",
       "        buttonEl.style.display =\n",
       "          google.colab.kernel.accessAllowed ? 'block' : 'none';\n",
       "\n",
       "        async function convertToInteractive(key) {\n",
       "          const element = document.querySelector('#df-70b9fdd3-e865-48df-863c-31acab4658c1');\n",
       "          const dataTable =\n",
       "            await google.colab.kernel.invokeFunction('convertToInteractive',\n",
       "                                                     [key], {});\n",
       "          if (!dataTable) return;\n",
       "\n",
       "          const docLinkHtml = 'Like what you see? Visit the ' +\n",
       "            '<a target=\"_blank\" href=https://colab.research.google.com/notebooks/data_table.ipynb>data table notebook</a>'\n",
       "            + ' to learn more about interactive tables.';\n",
       "          element.innerHTML = '';\n",
       "          dataTable['output_type'] = 'display_data';\n",
       "          await google.colab.output.renderOutput(dataTable, element);\n",
       "          const docLink = document.createElement('div');\n",
       "          docLink.innerHTML = docLinkHtml;\n",
       "          element.appendChild(docLink);\n",
       "        }\n",
       "      </script>\n",
       "    </div>\n",
       "  </div>\n",
       "  "
      ],
      "text/plain": [
       "       bpm  beat_type  time_signature  audio_filename  duration\n",
       "style                                                          \n",
       "funk    34         34              34              34        34\n",
       "jazz    40         40              40              40        40\n",
       "latin   31         31              31              31        31\n",
       "rock   145        145             145             145       145"
      ]
     },
     "execution_count": 21,
     "metadata": {},
     "output_type": "execute_result"
    }
   ],
   "source": [
    "df_train = df_train[df_train['style'].isin(genres_list)]\n",
    "df_train.groupby(by='style').count()"
   ]
  },
  {
   "cell_type": "code",
   "execution_count": null,
   "id": "8492829a",
   "metadata": {
    "colab": {
     "base_uri": "https://localhost:8080/"
    },
    "id": "8492829a",
    "outputId": "c82ab4c0-75bb-4e1f-be96-a8b700106909"
   },
   "outputs": [
    {
     "name": "stdout",
     "output_type": "stream",
     "text": [
      "<class 'pandas.core.frame.DataFrame'>\n",
      "Int64Index: 250 entries, 224 to 585\n",
      "Data columns (total 6 columns):\n",
      " #   Column          Non-Null Count  Dtype  \n",
      "---  ------          --------------  -----  \n",
      " 0   style           250 non-null    object \n",
      " 1   bpm             250 non-null    int64  \n",
      " 2   beat_type       250 non-null    object \n",
      " 3   time_signature  250 non-null    object \n",
      " 4   audio_filename  250 non-null    object \n",
      " 5   duration        250 non-null    float64\n",
      "dtypes: float64(1), int64(1), object(4)\n",
      "memory usage: 13.7+ KB\n"
     ]
    }
   ],
   "source": [
    "# slice_ = int(0.15 * df_train.shape[0])\n",
    "# df_slice = df_train.iloc[0:slice_]\n",
    "df_slice = df_train\n",
    "df_slice.info()"
   ]
  },
  {
   "cell_type": "code",
   "execution_count": null,
   "id": "lJaMGuaZNmXj",
   "metadata": {
    "id": "lJaMGuaZNmXj"
   },
   "outputs": [],
   "source": [
    "waveforms, sr = process_audiofiles(loc, df_slice)\n",
    "y = process_genres(df_slice)"
   ]
  },
  {
   "cell_type": "code",
   "execution_count": null,
   "id": "568bc61c",
   "metadata": {
    "colab": {
     "base_uri": "https://localhost:8080/"
    },
    "id": "568bc61c",
    "outputId": "34c968f4-7bc1-4012-9b50-1e940d296f31"
   },
   "outputs": [
    {
     "name": "stdout",
     "output_type": "stream",
     "text": [
      "(250, 132300)\n",
      "(250,)\n",
      "(250,)\n"
     ]
    }
   ],
   "source": [
    "print(waveforms.shape)\n",
    "print(sr.shape)\n",
    "print(y.shape)"
   ]
  },
  {
   "cell_type": "code",
   "execution_count": null,
   "id": "927df824",
   "metadata": {
    "id": "927df824"
   },
   "outputs": [],
   "source": [
    "mfccs = spectogram_mfccs(waveforms, sr)\n",
    "spectogram_feat = spectogram_stft(waveforms)\n",
    "melspect = spectogram_mel(waveforms, sr)\n",
    "chroma = spectogram_chroma(waveforms, sr)"
   ]
  },
  {
   "cell_type": "code",
   "execution_count": null,
   "id": "c08c5918",
   "metadata": {
    "colab": {
     "base_uri": "https://localhost:8080/"
    },
    "id": "c08c5918",
    "outputId": "d8f554d3-5e7d-4db2-e2e3-16e06f9f2533"
   },
   "outputs": [
    {
     "name": "stdout",
     "output_type": "stream",
     "text": [
      "(250, 128, 259)\n",
      "(250, 1025, 259)\n",
      "(250, 128, 259)\n",
      "(250, 12, 259)\n"
     ]
    }
   ],
   "source": [
    "print(mfccs.shape)\n",
    "print(spectogram_feat.shape)\n",
    "print(melspect.shape)\n",
    "print(chroma.shape)"
   ]
  },
  {
   "cell_type": "code",
   "execution_count": null,
   "id": "_BDDU-rXz3LJ",
   "metadata": {
    "colab": {
     "base_uri": "https://localhost:8080/"
    },
    "id": "_BDDU-rXz3LJ",
    "outputId": "920abb23-61ef-45d9-fd9b-366ce785ebb7"
   },
   "outputs": [
    {
     "name": "stdout",
     "output_type": "stream",
     "text": [
      "(250, 1, 259)\n",
      "(250, 1, 259)\n",
      "(250, 1, 259)\n",
      "(250, 1, 259)\n"
     ]
    }
   ],
   "source": [
    "specbw, speccen, zcrossr, specroff = extracting_features(waveforms, sr)\n",
    "print(specbw.shape)\n",
    "print(speccen.shape)\n",
    "print(zcrossr.shape)\n",
    "print(specroff.shape)"
   ]
  },
  {
   "cell_type": "code",
   "execution_count": null,
   "id": "I5Gp9uYp0CeC",
   "metadata": {
    "colab": {
     "base_uri": "https://localhost:8080/"
    },
    "id": "I5Gp9uYp0CeC",
    "outputId": "7cb463aa-11e1-4e9a-ae28-93f7bb4b56d9"
   },
   "outputs": [
    {
     "data": {
      "text/plain": [
       "(250, 16, 259)"
      ]
     },
     "execution_count": 28,
     "metadata": {},
     "output_type": "execute_result"
    }
   ],
   "source": [
    "concatenated_feat = np.concatenate(\n",
    "    (minmaxscaling(specbw), minmaxscaling(speccen), minmaxscaling(zcrossr), minmaxscaling(specroff), \n",
    "     minmaxscaling(chroma)), axis=1)\n",
    "concatenated_feat.shape"
   ]
  },
  {
   "cell_type": "code",
   "execution_count": null,
   "id": "24daee20",
   "metadata": {
    "colab": {
     "base_uri": "https://localhost:8080/"
    },
    "id": "24daee20",
    "outputId": "dd0d3e96-f4e7-4e0d-b695-3aca160cb5fd"
   },
   "outputs": [
    {
     "name": "stdout",
     "output_type": "stream",
     "text": [
      "(250, 128, 259)\n"
     ]
    },
    {
     "data": {
      "text/plain": [
       "(250, 128, 259)"
      ]
     },
     "execution_count": 29,
     "metadata": {},
     "output_type": "execute_result"
    }
   ],
   "source": [
    "chroma_padded = padding(chroma, size=mfccs.shape[1], axis=1)\n",
    "print(chroma_padded.shape)\n",
    "concatenated_feat_padded = padding(concatenated_feat, size=mfccs.shape[1], axis=1)\n",
    "concatenated_feat_padded.shape"
   ]
  },
  {
   "cell_type": "code",
   "execution_count": null,
   "id": "547271e8",
   "metadata": {
    "colab": {
     "base_uri": "https://localhost:8080/"
    },
    "id": "547271e8",
    "outputId": "b41a15ff-2ab8-4c8f-bfc1-b34915798445"
   },
   "outputs": [
    {
     "name": "stdout",
     "output_type": "stream",
     "text": [
      "(250, 1025, 259)\n",
      "(250, 128, 259)\n",
      "(250, 128, 259)\n",
      "(250, 128, 259)\n"
     ]
    }
   ],
   "source": [
    "spectogram_feat_norm = minmaxscaling(spectogram_feat)\n",
    "mfccs_norm = minmaxscaling(mfccs)\n",
    "melspect_norm = minmaxscaling(melspect)\n",
    "chroma_padded_norm = minmaxscaling(chroma_padded)\n",
    "print(spectogram_feat_norm.shape)\n",
    "print(mfccs_norm.shape)\n",
    "print(melspect_norm.shape)\n",
    "print(chroma_padded_norm.shape)"
   ]
  },
  {
   "cell_type": "code",
   "execution_count": null,
   "id": "e097aaca",
   "metadata": {
    "colab": {
     "base_uri": "https://localhost:8080/"
    },
    "id": "e097aaca",
    "outputId": "4bae444c-7508-483a-da50-4820047bc4b4"
   },
   "outputs": [
    {
     "name": "stdout",
     "output_type": "stream",
     "text": [
      "(250, 128, 259, 3)\n"
     ]
    },
    {
     "data": {
      "text/plain": [
       "(250, 1025, 259, 1)"
      ]
     },
     "execution_count": 31,
     "metadata": {},
     "output_type": "execute_result"
    }
   ],
   "source": [
    "stacked = librosa.util.stack([mfccs_norm, melspect_norm, chroma_padded_norm], axis=3)\n",
    "# stacked = librosa.util.stack([mfccs_norm, concatenated_feat_padded], axis=3)\n",
    "spectogram_feat_norm = np.expand_dims(spectogram_feat_norm, axis=-1)\n",
    "print(stacked.shape)\n",
    "spectogram_feat_norm.shape"
   ]
  },
  {
   "cell_type": "code",
   "execution_count": null,
   "id": "5371812f",
   "metadata": {
    "id": "5371812f"
   },
   "outputs": [],
   "source": [
    "encoder = LabelEncoder()\n",
    "encoder.fit(y)\n",
    "y_cat = to_categorical(encoder.transform(y))\n",
    "X_2 = stacked\n",
    "X_1 = spectogram_feat_norm"
   ]
  },
  {
   "cell_type": "code",
   "execution_count": null,
   "id": "0695031f",
   "metadata": {
    "id": "0695031f"
   },
   "outputs": [],
   "source": [
    "def initialize_CNNmodel_1(X, y):\n",
    "\n",
    "    '''\n",
    "    First CNN Architecture, simple to avoid overfitting.\n",
    "    We should add up complication step-by-step.\n",
    "    '''\n",
    "    # For this dummy we have taken into account the mfccs size for height and width parameters\n",
    "    input_shape=(X.shape[1:]) # (height, width, channels)\n",
    "    CNNmodel = models.Sequential()\n",
    "    CNNmodel.add(layers.Conv2D(32, kernel_size=(11, 11), activation='relu', input_shape=input_shape))\n",
    "    CNNmodel.add(layers.MaxPooling2D(pool_size=(4, 4)))\n",
    "    CNNmodel.add(layers.Conv2D(16, kernel_size=(7, 7), activation='relu'))\n",
    "    CNNmodel.add(layers.MaxPooling2D(pool_size=(2, 2)))\n",
    "    CNNmodel.add(layers.Conv2D(8, kernel_size=(3, 3), activation='relu'))\n",
    "    CNNmodel.add(layers.MaxPooling2D(pool_size=(2, 2)))\n",
    "    CNNmodel.add(layers.Conv2D(4, kernel_size=(3, 3), activation='relu'))\n",
    "    CNNmodel.add(layers.MaxPooling2D(pool_size=(2, 2)))\n",
    "    CNNmodel.add(layers.Flatten())\n",
    "    CNNmodel.add(layers.Dense(32, activation='relu'))\n",
    "    CNNmodel.add(layers.Dropout(rate=0.2))\n",
    "    CNNmodel.add(layers.Dense(16, activation='relu'))\n",
    "    CNNmodel.add(layers.Dropout(rate=0.2))\n",
    "\n",
    "#     CNNmodel.add(layers.Dense(y.shape[1], activation='softmax'))\n",
    "    \n",
    "#     CNNmodel.compile(loss='categorical_crossentropy', optimizer='adam', metrics=['accuracy', 'f1score'])\n",
    "    \n",
    "    return CNNmodel\n",
    "\n",
    "def initialize_CNNmodel_2(X, y):\n",
    "\n",
    "    '''\n",
    "    Second CNN Architecture, simple to avoid overfitting.\n",
    "    We should add up complication step-by-step.\n",
    "    '''\n",
    "    # For this dummy we have taken into account the mfccs size for height and width parameters\n",
    "    input_shape=(X.shape[1:]) # (height, width, channels)\n",
    "    CNNmodel = models.Sequential()\n",
    "    CNNmodel.add(layers.Conv2D(32, kernel_size=(3, 3), activation='relu', input_shape=input_shape))\n",
    "    CNNmodel.add(layers.MaxPooling2D(pool_size=(4, 4)))\n",
    "    CNNmodel.add(layers.Conv2D(16, kernel_size=(3, 3), activation='relu'))\n",
    "    CNNmodel.add(layers.MaxPooling2D(pool_size=(2, 2)))\n",
    "    CNNmodel.add(layers.Conv2D(8, kernel_size=(3, 3), activation='relu'))\n",
    "    CNNmodel.add(layers.MaxPooling2D(pool_size=(2, 2)))\n",
    "    CNNmodel.add(layers.Conv2D(4, kernel_size=(3, 3), activation='relu'))\n",
    "    CNNmodel.add(layers.MaxPooling2D(pool_size=(2, 2)))\n",
    "    CNNmodel.add(layers.Flatten())\n",
    "    CNNmodel.add(layers.Dense(32, activation='relu'))\n",
    "    CNNmodel.add(layers.Dropout(rate=0.2))\n",
    "    CNNmodel.add(layers.Dense(16, activation='relu'))\n",
    "    CNNmodel.add(layers.Dropout(rate=0.2))\n",
    "    \n",
    "    return CNNmodel"
   ]
  },
  {
   "cell_type": "code",
   "execution_count": null,
   "id": "2a54fa71",
   "metadata": {
    "id": "2a54fa71"
   },
   "outputs": [],
   "source": [
    "# Define Inputs and Outputs of both CNN networks\n",
    "\n",
    "CNNmodel_1 = initialize_CNNmodel_1(X_1, y_cat) # comment-out to keep pre-trained weights not to start from scratch\n",
    "input_CNN_1 = CNNmodel_1.input\n",
    "output_CNN_1 = CNNmodel_1.output\n",
    "\n",
    "CNNmodel_2 = initialize_CNNmodel_2(X_2, y_cat) # comment-out to keep pre-trained weights not to start from scratch\n",
    "input_CNN_2 = CNNmodel_2.input\n",
    "output_CNN_2 = CNNmodel_2.output"
   ]
  },
  {
   "cell_type": "code",
   "execution_count": null,
   "id": "9db3a8a7",
   "metadata": {
    "colab": {
     "base_uri": "https://localhost:8080/",
     "height": 1000
    },
    "id": "9db3a8a7",
    "outputId": "8dc0e117-c79e-40da-9c11-a319611efb54"
   },
   "outputs": [
    {
     "data": {
      "image/png": "[encoded data removed]",
      "text/plain": [
       "<IPython.core.display.Image object>"
      ]
     },
     "execution_count": 35,
     "metadata": {},
     "output_type": "execute_result"
    }
   ],
   "source": [
    "# Let's combine the two streams of data and add two dense layers on top!\n",
    "inputs = [input_CNN_1, input_CNN_2]\n",
    "\n",
    "combined = layers.concatenate([output_CNN_1, output_CNN_2])\n",
    "\n",
    "dropout = layers.Dropout(rate=0.2)(combined)\n",
    "\n",
    "dense = layers.Dense(16, activation='relu')(dropout)\n",
    "\n",
    "dropout = layers.Dropout(rate=0.2)(dense)\n",
    "\n",
    "outputs = layers.Dense(y_cat.shape[1], activation=\"softmax\")(dropout)\n",
    "\n",
    "CNNmodel_combined = models.Model(inputs=inputs, outputs=outputs)\n",
    "\n",
    "plot_model(CNNmodel_combined, \"multi_input_model.png\", show_shapes=True)"
   ]
  },
  {
   "cell_type": "code",
   "execution_count": null,
   "id": "e1ab0363",
   "metadata": {
    "colab": {
     "base_uri": "https://localhost:8080/",
     "height": 381
    },
    "id": "e1ab0363",
    "outputId": "21b6ad0c-f678-4316-abfa-63d71f272b2f"
   },
   "outputs": [
    {
     "ename": "TypeError",
     "evalue": "ignored",
     "output_type": "error",
     "traceback": [
      "\u001b[0;31m---------------------------------------------------------------------------\u001b[0m",
      "\u001b[0;31mTypeError\u001b[0m                                 Traceback (most recent call last)",
      "\u001b[0;32m<ipython-input-42-d64a70ba80ab>\u001b[0m in \u001b[0;36m<module>\u001b[0;34m\u001b[0m\n\u001b[1;32m     11\u001b[0m \u001b[0;34m\u001b[0m\u001b[0m\n\u001b[1;32m     12\u001b[0m \u001b[0;34m\u001b[0m\u001b[0m\n\u001b[0;32m---> 13\u001b[0;31m \u001b[0mCNNmodel_combined\u001b[0m\u001b[0;34m.\u001b[0m\u001b[0mcompile\u001b[0m\u001b[0;34m(\u001b[0m\u001b[0mloss\u001b[0m\u001b[0;34m=\u001b[0m\u001b[0;34m'categorical_crossentropy'\u001b[0m\u001b[0;34m,\u001b[0m \u001b[0moptimizer\u001b[0m\u001b[0;34m=\u001b[0m\u001b[0;34m'adam'\u001b[0m\u001b[0;34m,\u001b[0m \u001b[0mmetrics\u001b[0m\u001b[0;34m=\u001b[0m\u001b[0;34m[\u001b[0m\u001b[0;34m'accuracy'\u001b[0m\u001b[0;34m,\u001b[0m \u001b[0mF1Score\u001b[0m\u001b[0;34m(\u001b[0m\u001b[0maverage\u001b[0m \u001b[0;34m=\u001b[0m \u001b[0;34m'macro'\u001b[0m\u001b[0;34m)\u001b[0m\u001b[0;34m]\u001b[0m\u001b[0;34m)\u001b[0m\u001b[0;34m\u001b[0m\u001b[0;34m\u001b[0m\u001b[0m\n\u001b[0m\u001b[1;32m     14\u001b[0m \u001b[0;34m\u001b[0m\u001b[0m\n\u001b[1;32m     15\u001b[0m \u001b[0mhistory\u001b[0m \u001b[0;34m=\u001b[0m \u001b[0mCNNmodel_combined\u001b[0m\u001b[0;34m.\u001b[0m\u001b[0mfit\u001b[0m\u001b[0;34m(\u001b[0m\u001b[0mx\u001b[0m\u001b[0;34m=\u001b[0m\u001b[0;34m[\u001b[0m\u001b[0mX_1\u001b[0m\u001b[0;34m,\u001b[0m \u001b[0mX_2\u001b[0m\u001b[0;34m]\u001b[0m\u001b[0;34m,\u001b[0m \u001b[0my\u001b[0m\u001b[0;34m=\u001b[0m\u001b[0my_cat\u001b[0m\u001b[0;34m,\u001b[0m \u001b[0mbatch_size\u001b[0m\u001b[0;34m=\u001b[0m\u001b[0;36m16\u001b[0m\u001b[0;34m,\u001b[0m \u001b[0mvalidation_split\u001b[0m\u001b[0;34m=\u001b[0m\u001b[0;36m0.3\u001b[0m\u001b[0;34m,\u001b[0m \u001b[0mepochs\u001b[0m\u001b[0;34m=\u001b[0m\u001b[0;36m250\u001b[0m\u001b[0;34m,\u001b[0m \u001b[0mcallbacks\u001b[0m\u001b[0;34m=\u001b[0m\u001b[0;34m[\u001b[0m\u001b[0mes\u001b[0m\u001b[0;34m]\u001b[0m\u001b[0;34m,\u001b[0m \u001b[0mshuffle\u001b[0m\u001b[0;34m=\u001b[0m\u001b[0;32mTrue\u001b[0m\u001b[0;34m)\u001b[0m\u001b[0;34m\u001b[0m\u001b[0;34m\u001b[0m\u001b[0m\n",
      "\u001b[0;32m/usr/local/lib/python3.7/dist-packages/typeguard/__init__.py\u001b[0m in \u001b[0;36mwrapper\u001b[0;34m(*args, **kwargs)\u001b[0m\n\u001b[1;32m    806\u001b[0m \u001b[0;34m\u001b[0m\u001b[0m\n\u001b[1;32m    807\u001b[0m     \u001b[0;32mdef\u001b[0m \u001b[0mwrapper\u001b[0m\u001b[0;34m(\u001b[0m\u001b[0;34m*\u001b[0m\u001b[0margs\u001b[0m\u001b[0;34m,\u001b[0m \u001b[0;34m**\u001b[0m\u001b[0mkwargs\u001b[0m\u001b[0;34m)\u001b[0m\u001b[0;34m:\u001b[0m\u001b[0;34m\u001b[0m\u001b[0;34m\u001b[0m\u001b[0m\n\u001b[0;32m--> 808\u001b[0;31m         \u001b[0mmemo\u001b[0m \u001b[0;34m=\u001b[0m \u001b[0m_CallMemo\u001b[0m\u001b[0;34m(\u001b[0m\u001b[0mpython_func\u001b[0m\u001b[0;34m,\u001b[0m \u001b[0m_localns\u001b[0m\u001b[0;34m,\u001b[0m \u001b[0margs\u001b[0m\u001b[0;34m=\u001b[0m\u001b[0margs\u001b[0m\u001b[0;34m,\u001b[0m \u001b[0mkwargs\u001b[0m\u001b[0;34m=\u001b[0m\u001b[0mkwargs\u001b[0m\u001b[0;34m)\u001b[0m\u001b[0;34m\u001b[0m\u001b[0;34m\u001b[0m\u001b[0m\n\u001b[0m\u001b[1;32m    809\u001b[0m         \u001b[0mcheck_argument_types\u001b[0m\u001b[0;34m(\u001b[0m\u001b[0mmemo\u001b[0m\u001b[0;34m)\u001b[0m\u001b[0;34m\u001b[0m\u001b[0;34m\u001b[0m\u001b[0m\n\u001b[1;32m    810\u001b[0m         \u001b[0mretval\u001b[0m \u001b[0;34m=\u001b[0m \u001b[0mfunc\u001b[0m\u001b[0;34m(\u001b[0m\u001b[0;34m*\u001b[0m\u001b[0margs\u001b[0m\u001b[0;34m,\u001b[0m \u001b[0;34m**\u001b[0m\u001b[0mkwargs\u001b[0m\u001b[0;34m)\u001b[0m\u001b[0;34m\u001b[0m\u001b[0;34m\u001b[0m\u001b[0m\n",
      "\u001b[0;32m/usr/local/lib/python3.7/dist-packages/typeguard/__init__.py\u001b[0m in \u001b[0;36m__init__\u001b[0;34m(self, func, frame_locals, args, kwargs, forward_refs_policy)\u001b[0m\n\u001b[1;32m     91\u001b[0m \u001b[0;34m\u001b[0m\u001b[0m\n\u001b[1;32m     92\u001b[0m         \u001b[0;32mif\u001b[0m \u001b[0margs\u001b[0m \u001b[0;32mis\u001b[0m \u001b[0;32mnot\u001b[0m \u001b[0;32mNone\u001b[0m \u001b[0;32mand\u001b[0m \u001b[0mkwargs\u001b[0m \u001b[0;32mis\u001b[0m \u001b[0;32mnot\u001b[0m \u001b[0;32mNone\u001b[0m\u001b[0;34m:\u001b[0m\u001b[0;34m\u001b[0m\u001b[0;34m\u001b[0m\u001b[0m\n\u001b[0;32m---> 93\u001b[0;31m             \u001b[0mself\u001b[0m\u001b[0;34m.\u001b[0m\u001b[0marguments\u001b[0m \u001b[0;34m=\u001b[0m \u001b[0mself\u001b[0m\u001b[0;34m.\u001b[0m\u001b[0msignature\u001b[0m\u001b[0;34m.\u001b[0m\u001b[0mbind\u001b[0m\u001b[0;34m(\u001b[0m\u001b[0;34m*\u001b[0m\u001b[0margs\u001b[0m\u001b[0;34m,\u001b[0m \u001b[0;34m**\u001b[0m\u001b[0mkwargs\u001b[0m\u001b[0;34m)\u001b[0m\u001b[0;34m.\u001b[0m\u001b[0marguments\u001b[0m\u001b[0;34m\u001b[0m\u001b[0;34m\u001b[0m\u001b[0m\n\u001b[0m\u001b[1;32m     94\u001b[0m         \u001b[0;32melse\u001b[0m\u001b[0;34m:\u001b[0m\u001b[0;34m\u001b[0m\u001b[0;34m\u001b[0m\u001b[0m\n\u001b[1;32m     95\u001b[0m             \u001b[0;32massert\u001b[0m \u001b[0mframe_locals\u001b[0m \u001b[0;32mis\u001b[0m \u001b[0;32mnot\u001b[0m \u001b[0;32mNone\u001b[0m\u001b[0;34m,\u001b[0m \u001b[0;34m'frame must be specified if args or kwargs is None'\u001b[0m\u001b[0;34m\u001b[0m\u001b[0;34m\u001b[0m\u001b[0m\n",
      "\u001b[0;32m/usr/lib/python3.7/inspect.py\u001b[0m in \u001b[0;36mbind\u001b[0;34m(*args, **kwargs)\u001b[0m\n\u001b[1;32m   3013\u001b[0m         \u001b[0;32mif\u001b[0m \u001b[0mthe\u001b[0m \u001b[0mpassed\u001b[0m \u001b[0marguments\u001b[0m \u001b[0mcan\u001b[0m \u001b[0;32mnot\u001b[0m \u001b[0mbe\u001b[0m \u001b[0mbound\u001b[0m\u001b[0;34m.\u001b[0m\u001b[0;34m\u001b[0m\u001b[0;34m\u001b[0m\u001b[0m\n\u001b[1;32m   3014\u001b[0m         \"\"\"\n\u001b[0;32m-> 3015\u001b[0;31m         \u001b[0;32mreturn\u001b[0m \u001b[0margs\u001b[0m\u001b[0;34m[\u001b[0m\u001b[0;36m0\u001b[0m\u001b[0;34m]\u001b[0m\u001b[0;34m.\u001b[0m\u001b[0m_bind\u001b[0m\u001b[0;34m(\u001b[0m\u001b[0margs\u001b[0m\u001b[0;34m[\u001b[0m\u001b[0;36m1\u001b[0m\u001b[0;34m:\u001b[0m\u001b[0;34m]\u001b[0m\u001b[0;34m,\u001b[0m \u001b[0mkwargs\u001b[0m\u001b[0;34m)\u001b[0m\u001b[0;34m\u001b[0m\u001b[0;34m\u001b[0m\u001b[0m\n\u001b[0m\u001b[1;32m   3016\u001b[0m \u001b[0;34m\u001b[0m\u001b[0m\n\u001b[1;32m   3017\u001b[0m     \u001b[0;32mdef\u001b[0m \u001b[0mbind_partial\u001b[0m\u001b[0;34m(\u001b[0m\u001b[0;34m*\u001b[0m\u001b[0margs\u001b[0m\u001b[0;34m,\u001b[0m \u001b[0;34m**\u001b[0m\u001b[0mkwargs\u001b[0m\u001b[0;34m)\u001b[0m\u001b[0;34m:\u001b[0m\u001b[0;34m\u001b[0m\u001b[0;34m\u001b[0m\u001b[0m\n",
      "\u001b[0;32m/usr/lib/python3.7/inspect.py\u001b[0m in \u001b[0;36m_bind\u001b[0;34m(self, args, kwargs, partial)\u001b[0m\n\u001b[1;32m   2928\u001b[0m                             \u001b[0mmsg\u001b[0m \u001b[0;34m=\u001b[0m \u001b[0;34m'missing a required argument: {arg!r}'\u001b[0m\u001b[0;34m\u001b[0m\u001b[0;34m\u001b[0m\u001b[0m\n\u001b[1;32m   2929\u001b[0m                             \u001b[0mmsg\u001b[0m \u001b[0;34m=\u001b[0m \u001b[0mmsg\u001b[0m\u001b[0;34m.\u001b[0m\u001b[0mformat\u001b[0m\u001b[0;34m(\u001b[0m\u001b[0marg\u001b[0m\u001b[0;34m=\u001b[0m\u001b[0mparam\u001b[0m\u001b[0;34m.\u001b[0m\u001b[0mname\u001b[0m\u001b[0;34m)\u001b[0m\u001b[0;34m\u001b[0m\u001b[0;34m\u001b[0m\u001b[0m\n\u001b[0;32m-> 2930\u001b[0;31m                             \u001b[0;32mraise\u001b[0m \u001b[0mTypeError\u001b[0m\u001b[0;34m(\u001b[0m\u001b[0mmsg\u001b[0m\u001b[0;34m)\u001b[0m \u001b[0;32mfrom\u001b[0m \u001b[0;32mNone\u001b[0m\u001b[0;34m\u001b[0m\u001b[0;34m\u001b[0m\u001b[0m\n\u001b[0m\u001b[1;32m   2931\u001b[0m             \u001b[0;32melse\u001b[0m\u001b[0;34m:\u001b[0m\u001b[0;34m\u001b[0m\u001b[0;34m\u001b[0m\u001b[0m\n\u001b[1;32m   2932\u001b[0m                 \u001b[0;31m# We have a positional argument to process\u001b[0m\u001b[0;34m\u001b[0m\u001b[0;34m\u001b[0m\u001b[0;34m\u001b[0m\u001b[0m\n",
      "\u001b[0;31mTypeError\u001b[0m: missing a required argument: 'num_classes'"
     ]
    }
   ],
   "source": [
    "es = EarlyStopping(patience=50, restore_best_weights=True)\n",
    "\n",
    "optimizer_ = Adam(learning_rate=0.001)\n",
    "\n",
    "# initial_learning_rate = 0.001 # start with default Adam value\n",
    "\n",
    "# lr_schedule = ExponentialDecay(\n",
    "#     # Every 5000 iterations, multiply the learning rate by 0.7\n",
    "#     initial_learning_rate, decay_steps = 5000, decay_rate = 0.7,\n",
    "# )\n",
    "\n",
    "\n",
    "CNNmodel_combined.compile(loss='categorical_crossentropy', optimizer='adam', metrics=['accuracy', F1Score(average = 'macro')])\n",
    "\n",
    "history = CNNmodel_combined.fit(x=[X_1, X_2], y=y_cat, batch_size=16, validation_split=0.3, epochs=250, callbacks=[es], shuffle=True)\n",
    "\n"
   ]
  },
  {
   "cell_type": "code",
   "execution_count": null,
   "id": "8ffca596",
   "metadata": {
    "colab": {
     "base_uri": "https://localhost:8080/"
    },
    "id": "8ffca596",
    "outputId": "9998e712-3aa0-402f-fb37-ec82cd029fbf"
   },
   "outputs": [
    {
     "name": "stderr",
     "output_type": "stream",
     "text": [
      "WARNING:tensorflow:Compiled the loaded model, but the compiled metrics have yet to be built. `model.compile_metrics` will be empty until you train or evaluate the model.\n"
     ]
    }
   ],
   "source": [
    "# CNNmodel_combined.save('model_basic')"
   ]
  },
  {
   "cell_type": "code",
   "execution_count": null,
   "id": "2rk0TmzXvPXp",
   "metadata": {
    "colab": {
     "base_uri": "https://localhost:8080/"
    },
    "id": "2rk0TmzXvPXp",
    "outputId": "f43fdba0-1b22-472a-f411-02df0f5c429d"
   },
   "outputs": [
    {
     "data": {
      "text/plain": [
       "array([[0.10646071, 0.16155624, 0.12858158, 0.6034015 ],\n",
       "       [0.11981516, 0.17582786, 0.1442016 , 0.56015533],\n",
       "       [0.09736942, 0.14995043, 0.11692278, 0.6357574 ],\n",
       "       [0.11581546, 0.17271131, 0.13624765, 0.57522553],\n",
       "       [0.12215053, 0.17935045, 0.14457642, 0.5539226 ],\n",
       "       [0.1072077 , 0.1623085 , 0.12775362, 0.60273015],\n",
       "       [0.14135481, 0.1973385 , 0.15962599, 0.5016807 ],\n",
       "       [0.10924771, 0.16397904, 0.13177593, 0.59499735],\n",
       "       [0.10341873, 0.15581581, 0.12494237, 0.61582303],\n",
       "       [0.05593806, 0.09734086, 0.06786474, 0.77885634],\n",
       "       [0.09096497, 0.143692  , 0.10778362, 0.65755945],\n",
       "       [0.12372144, 0.18160065, 0.14557496, 0.5491029 ],\n",
       "       [0.11458373, 0.16949342, 0.13737586, 0.57854706],\n",
       "       [0.12247606, 0.1792136 , 0.1471076 , 0.5512028 ],\n",
       "       [0.09678811, 0.14833856, 0.11458613, 0.64028716],\n",
       "       [0.12831344, 0.18497546, 0.15149646, 0.53521466],\n",
       "       [0.04677995, 0.08409693, 0.05592019, 0.81320286],\n",
       "       [0.11538721, 0.17110789, 0.13765474, 0.5758502 ],\n",
       "       [0.10323126, 0.15742223, 0.12230925, 0.61703724],\n",
       "       [0.12138492, 0.17595817, 0.14328995, 0.55936694],\n",
       "       [0.1135279 , 0.17001392, 0.13416721, 0.582291  ],\n",
       "       [0.12183925, 0.17992692, 0.1431966 , 0.5550372 ],\n",
       "       [0.11145368, 0.16602284, 0.13404827, 0.58847517],\n",
       "       [0.08817841, 0.13753685, 0.10364484, 0.6706399 ],\n",
       "       [0.10143663, 0.1520279 , 0.12102251, 0.62551296],\n",
       "       [0.09547608, 0.14869568, 0.11106899, 0.64475924],\n",
       "       [0.13270867, 0.19001393, 0.15468101, 0.52259636],\n",
       "       [0.08636633, 0.13655673, 0.10055712, 0.6765199 ],\n",
       "       [0.13603574, 0.19244838, 0.15660073, 0.5149151 ],\n",
       "       [0.09892832, 0.15423213, 0.11700413, 0.6298354 ],\n",
       "       [0.08205705, 0.13379993, 0.09819256, 0.68595046],\n",
       "       [0.11803762, 0.1736103 , 0.1391076 , 0.56924444],\n",
       "       [0.13055278, 0.18698768, 0.15487869, 0.5275808 ],\n",
       "       [0.08925181, 0.14081755, 0.10886114, 0.66106945],\n",
       "       [0.12142577, 0.17917866, 0.14302415, 0.5563714 ],\n",
       "       [0.12236717, 0.17527276, 0.14557238, 0.5567876 ],\n",
       "       [0.1077696 , 0.16118209, 0.12746213, 0.6035862 ],\n",
       "       [0.10165381, 0.15451662, 0.12285218, 0.6209774 ],\n",
       "       [0.10962014, 0.16424908, 0.13048254, 0.5956482 ],\n",
       "       [0.08553866, 0.1343288 , 0.09956055, 0.680572  ],\n",
       "       [0.0823085 , 0.1290371 , 0.09903114, 0.6896233 ],\n",
       "       [0.12911353, 0.1871644 , 0.15240331, 0.5313187 ],\n",
       "       [0.13988231, 0.19723241, 0.1591346 , 0.50375074],\n",
       "       [0.1471236 , 0.20513421, 0.16465116, 0.4830911 ],\n",
       "       [0.09232897, 0.14196812, 0.10882638, 0.6568765 ],\n",
       "       [0.12275369, 0.17991848, 0.14421755, 0.5531103 ],\n",
       "       [0.08625996, 0.13816252, 0.10070405, 0.6748734 ],\n",
       "       [0.10652126, 0.16243911, 0.12601641, 0.60502326],\n",
       "       [0.09902821, 0.14551374, 0.11622791, 0.63923013],\n",
       "       [0.08914529, 0.14145437, 0.10554465, 0.66385573],\n",
       "       [0.13961637, 0.19668241, 0.15914421, 0.504557  ],\n",
       "       [0.11876445, 0.17531209, 0.13968895, 0.56623447],\n",
       "       [0.09391942, 0.14616477, 0.11193888, 0.64797693],\n",
       "       [0.1239172 , 0.17986877, 0.1482759 , 0.5479381 ],\n",
       "       [0.10570405, 0.15948693, 0.12707959, 0.6077295 ],\n",
       "       [0.05791964, 0.09900057, 0.06906841, 0.7740113 ],\n",
       "       [0.06412196, 0.10698137, 0.07614132, 0.75275534],\n",
       "       [0.03740728, 0.07271095, 0.04592837, 0.8439535 ],\n",
       "       [0.13961613, 0.19712916, 0.15966274, 0.50359195],\n",
       "       [0.07104079, 0.11780392, 0.08232088, 0.72883445],\n",
       "       [0.11012224, 0.16549511, 0.13192032, 0.59246236],\n",
       "       [0.11614061, 0.17209746, 0.13981356, 0.57194835],\n",
       "       [0.05652341, 0.09406412, 0.06405772, 0.78535473],\n",
       "       [0.13519135, 0.19285662, 0.15578689, 0.51616514],\n",
       "       [0.12140506, 0.17842272, 0.14430621, 0.555866  ],\n",
       "       [0.12818672, 0.18527496, 0.15234624, 0.5341921 ],\n",
       "       [0.11418749, 0.16945791, 0.13630292, 0.5800516 ],\n",
       "       [0.11985537, 0.17647018, 0.14246035, 0.5612141 ],\n",
       "       [0.09565172, 0.14626828, 0.11555629, 0.6425237 ],\n",
       "       [0.1200159 , 0.17660403, 0.14250532, 0.5608747 ],\n",
       "       [0.13220887, 0.18968901, 0.15364954, 0.5244526 ],\n",
       "       [0.12424792, 0.18190871, 0.14799282, 0.5458505 ],\n",
       "       [0.13318111, 0.19149572, 0.15644975, 0.51887345],\n",
       "       [0.05777507, 0.09936523, 0.06744333, 0.7754164 ],\n",
       "       [0.10914679, 0.16345431, 0.1310349 , 0.596364  ],\n",
       "       [0.12025722, 0.17670816, 0.14288981, 0.56014484],\n",
       "       [0.11855416, 0.1757584 , 0.13952854, 0.5661589 ],\n",
       "       [0.07935832, 0.12604386, 0.09308981, 0.701508  ],\n",
       "       [0.11252519, 0.16827352, 0.13373275, 0.5854686 ],\n",
       "       [0.11346081, 0.1680446 , 0.13617192, 0.58232266],\n",
       "       [0.1273575 , 0.18314962, 0.14999767, 0.5394952 ],\n",
       "       [0.11926094, 0.17560771, 0.14180882, 0.56332254],\n",
       "       [0.12647954, 0.18489791, 0.1488015 , 0.539821  ],\n",
       "       [0.13384612, 0.19182393, 0.15683915, 0.5174908 ],\n",
       "       [0.04188859, 0.07907359, 0.05154335, 0.82749444],\n",
       "       [0.11703763, 0.17353983, 0.1389311 , 0.57049143],\n",
       "       [0.10004854, 0.1547004 , 0.11811309, 0.62713796],\n",
       "       [0.11085792, 0.16746877, 0.13069338, 0.5909799 ],\n",
       "       [0.09757855, 0.14790039, 0.11418662, 0.6403344 ],\n",
       "       [0.13538976, 0.19316165, 0.15857463, 0.512874  ],\n",
       "       [0.13316993, 0.1906087 , 0.15540282, 0.52081853],\n",
       "       [0.1427529 , 0.19984557, 0.16131361, 0.49608794],\n",
       "       [0.08909063, 0.14278375, 0.10551604, 0.6626096 ],\n",
       "       [0.11343689, 0.16726348, 0.1343462 , 0.5849534 ],\n",
       "       [0.03938483, 0.07544857, 0.04802515, 0.83714145],\n",
       "       [0.10759959, 0.16257466, 0.12853539, 0.60129035],\n",
       "       [0.13436067, 0.1923963 , 0.1578282 , 0.51541483],\n",
       "       [0.08611746, 0.13878487, 0.10153583, 0.6735618 ],\n",
       "       [0.08803793, 0.13931352, 0.10582871, 0.6668198 ],\n",
       "       [0.10614999, 0.16197254, 0.12574822, 0.6061292 ],\n",
       "       [0.07409074, 0.12063164, 0.0857314 , 0.7195462 ],\n",
       "       [0.11986998, 0.1773495 , 0.14146268, 0.5613178 ],\n",
       "       [0.1352102 , 0.1926821 , 0.15676521, 0.5153425 ],\n",
       "       [0.07511852, 0.12359664, 0.0892269 , 0.71205795],\n",
       "       [0.1401253 , 0.19702585, 0.15959668, 0.5032522 ],\n",
       "       [0.06928951, 0.11699183, 0.08087964, 0.73283905],\n",
       "       [0.10019536, 0.15574707, 0.11933801, 0.62471956],\n",
       "       [0.11927371, 0.17682686, 0.14077583, 0.5631236 ],\n",
       "       [0.12251755, 0.17915809, 0.14551196, 0.5528124 ],\n",
       "       [0.08455948, 0.13559122, 0.1019423 , 0.677907  ],\n",
       "       [0.1021187 , 0.15720129, 0.12049237, 0.6201876 ],\n",
       "       [0.10011508, 0.15463853, 0.11782872, 0.6274177 ],\n",
       "       [0.04736318, 0.08676545, 0.05770173, 0.80816966],\n",
       "       [0.1073565 , 0.15812238, 0.12739521, 0.60712594],\n",
       "       [0.11790396, 0.17264861, 0.13901418, 0.57043326],\n",
       "       [0.13610716, 0.19399069, 0.15667564, 0.5132265 ],\n",
       "       [0.08449496, 0.13362616, 0.09877218, 0.68310666],\n",
       "       [0.10536012, 0.16084482, 0.12552033, 0.60827476],\n",
       "       [0.13176152, 0.189801  , 0.15541928, 0.5230182 ],\n",
       "       [0.10330801, 0.15919651, 0.1229681 , 0.61452746],\n",
       "       [0.10993998, 0.16596766, 0.13151048, 0.5925819 ],\n",
       "       [0.13174678, 0.18952811, 0.15447249, 0.52425265],\n",
       "       [0.11747617, 0.1736718 , 0.13867535, 0.5701768 ],\n",
       "       [0.11780541, 0.17309348, 0.13967624, 0.56942487],\n",
       "       [0.11466823, 0.17027257, 0.13667628, 0.5783829 ],\n",
       "       [0.05954251, 0.09800467, 0.06849811, 0.7739547 ],\n",
       "       [0.09966145, 0.15371089, 0.1179904 , 0.6286373 ],\n",
       "       [0.11022469, 0.16606238, 0.13108055, 0.59263235],\n",
       "       [0.14526173, 0.2017068 , 0.16116583, 0.4918657 ],\n",
       "       [0.12810908, 0.18472098, 0.15302229, 0.5341477 ],\n",
       "       [0.08141687, 0.13323829, 0.09536296, 0.6899819 ],\n",
       "       [0.12042182, 0.17796895, 0.14243135, 0.5591778 ],\n",
       "       [0.09548169, 0.14941193, 0.11243401, 0.6426724 ],\n",
       "       [0.1222726 , 0.17697008, 0.1440676 , 0.5566897 ],\n",
       "       [0.10718066, 0.16295928, 0.12856258, 0.60129744],\n",
       "       [0.09822957, 0.15277396, 0.11556923, 0.63342726],\n",
       "       [0.08180762, 0.13415633, 0.09685563, 0.6871804 ],\n",
       "       [0.13244298, 0.19008982, 0.15583237, 0.5216348 ],\n",
       "       [0.07076068, 0.11704589, 0.08329064, 0.72890276],\n",
       "       [0.07687347, 0.12705658, 0.09109125, 0.7049787 ],\n",
       "       [0.06158753, 0.10599064, 0.07219185, 0.76023   ],\n",
       "       [0.09712276, 0.15140755, 0.11512996, 0.6363398 ],\n",
       "       [0.08257835, 0.13202332, 0.09713341, 0.68826485],\n",
       "       [0.12151989, 0.17886613, 0.14361899, 0.555995  ],\n",
       "       [0.09826668, 0.15200314, 0.11695451, 0.63277566],\n",
       "       [0.09577344, 0.15085022, 0.11475641, 0.6386199 ],\n",
       "       [0.08519632, 0.13690808, 0.09995246, 0.6779431 ],\n",
       "       [0.089822  , 0.14047962, 0.10535212, 0.6643462 ],\n",
       "       [0.11453675, 0.16933796, 0.13641536, 0.57970995],\n",
       "       [0.13154721, 0.18903594, 0.15493177, 0.52448505],\n",
       "       [0.1489144 , 0.20545048, 0.16391246, 0.48172268],\n",
       "       [0.10595427, 0.15966944, 0.12470727, 0.60966897],\n",
       "       [0.07696007, 0.12444147, 0.0928734 , 0.7057251 ],\n",
       "       [0.10075148, 0.15437663, 0.11907616, 0.6257957 ],\n",
       "       [0.1446537 , 0.202645  , 0.16333126, 0.4893701 ],\n",
       "       [0.12006956, 0.17716977, 0.14184004, 0.5609206 ],\n",
       "       [0.09815159, 0.14775003, 0.114471  , 0.6396274 ],\n",
       "       [0.08386408, 0.13629468, 0.10262004, 0.67722124],\n",
       "       [0.06637519, 0.11369114, 0.07970893, 0.7402248 ],\n",
       "       [0.10507511, 0.15393978, 0.12378573, 0.61719936],\n",
       "       [0.06116706, 0.10293132, 0.07043979, 0.76546186],\n",
       "       [0.12884249, 0.18577471, 0.15182969, 0.5335531 ],\n",
       "       [0.09619544, 0.14995798, 0.11655185, 0.63729477],\n",
       "       [0.08933515, 0.14084682, 0.10895098, 0.6608671 ],\n",
       "       [0.0854798 , 0.13255349, 0.09890086, 0.68306583],\n",
       "       [0.12470081, 0.18262716, 0.14748222, 0.54518974],\n",
       "       [0.1342139 , 0.19121706, 0.15587933, 0.5186897 ],\n",
       "       [0.10277227, 0.15707774, 0.1220649 , 0.61808515],\n",
       "       [0.0971329 , 0.14756683, 0.11588313, 0.6394171 ],\n",
       "       [0.09424745, 0.14460136, 0.10981698, 0.65133417],\n",
       "       [0.07654525, 0.12461829, 0.0948165 , 0.70401996],\n",
       "       [0.12750678, 0.18465587, 0.1512144 , 0.53662294],\n",
       "       [0.11818169, 0.17337139, 0.14235264, 0.5660943 ],\n",
       "       [0.12854904, 0.18651621, 0.15098353, 0.5339512 ],\n",
       "       [0.06902144, 0.11489777, 0.08049175, 0.73558897],\n",
       "       [0.09881812, 0.15263376, 0.11810266, 0.63044536],\n",
       "       [0.12003605, 0.17757557, 0.1413127 , 0.5610757 ],\n",
       "       [0.10170981, 0.15630393, 0.12110351, 0.62088275],\n",
       "       [0.11243548, 0.16529004, 0.13386391, 0.58841056],\n",
       "       [0.13437292, 0.19186364, 0.15717599, 0.51658744],\n",
       "       [0.10098873, 0.15534048, 0.12078489, 0.6228858 ],\n",
       "       [0.03239338, 0.06487794, 0.03988935, 0.86283934],\n",
       "       [0.10375646, 0.15986165, 0.12573028, 0.61065155],\n",
       "       [0.08443569, 0.13742723, 0.1022743 , 0.67586285],\n",
       "       [0.09671482, 0.15264995, 0.117168  , 0.6334672 ],\n",
       "       [0.10274576, 0.15678841, 0.12316973, 0.61729616],\n",
       "       [0.05452636, 0.0963413 , 0.06619696, 0.7829354 ],\n",
       "       [0.13846959, 0.1958727 , 0.15780237, 0.50785536],\n",
       "       [0.06229001, 0.10962664, 0.07505739, 0.753026  ],\n",
       "       [0.11431559, 0.17030638, 0.13546082, 0.5799172 ],\n",
       "       [0.03846477, 0.07245888, 0.04572111, 0.8433553 ],\n",
       "       [0.11147653, 0.16789211, 0.13269189, 0.58793944],\n",
       "       [0.08359348, 0.1356126 , 0.10061637, 0.68017757],\n",
       "       [0.12077434, 0.17394531, 0.14225425, 0.5630261 ],\n",
       "       [0.09929872, 0.15288588, 0.11831757, 0.6294979 ],\n",
       "       [0.12866373, 0.18625677, 0.15146293, 0.5336166 ],\n",
       "       [0.10001162, 0.1510845 , 0.11976518, 0.6291387 ],\n",
       "       [0.11872131, 0.17396605, 0.14231639, 0.56499624],\n",
       "       [0.1087547 , 0.16290966, 0.13074952, 0.5975861 ],\n",
       "       [0.05870516, 0.1033265 , 0.07096653, 0.76700187],\n",
       "       [0.08172713, 0.13329276, 0.09816162, 0.68681854],\n",
       "       [0.12979439, 0.18644221, 0.15283781, 0.53092563],\n",
       "       [0.08909733, 0.14220783, 0.10646509, 0.66222984],\n",
       "       [0.1322168 , 0.1920439 , 0.15594585, 0.51979345],\n",
       "       [0.078679  , 0.12918574, 0.09563611, 0.69649917],\n",
       "       [0.11783093, 0.1752686 , 0.13991165, 0.5669888 ],\n",
       "       [0.09708972, 0.15183581, 0.11506906, 0.6360054 ],\n",
       "       [0.09080716, 0.14350846, 0.10757243, 0.6581119 ],\n",
       "       [0.12066082, 0.17736594, 0.1432314 , 0.55874187],\n",
       "       [0.11180993, 0.1676886 , 0.13287617, 0.5876253 ],\n",
       "       [0.08278777, 0.13227662, 0.09852788, 0.68640774],\n",
       "       [0.08808062, 0.13826494, 0.10396018, 0.6696943 ],\n",
       "       [0.12738621, 0.18444906, 0.15165764, 0.53650707],\n",
       "       [0.14324585, 0.20024079, 0.16184174, 0.49467158],\n",
       "       [0.11896665, 0.17438431, 0.14219706, 0.564452  ],\n",
       "       [0.11209243, 0.16861142, 0.13419579, 0.5851004 ],\n",
       "       [0.10960527, 0.16542898, 0.12971863, 0.5952471 ],\n",
       "       [0.06827559, 0.117124  , 0.08123814, 0.73336226],\n",
       "       [0.1229507 , 0.1773325 , 0.14321686, 0.5564999 ],\n",
       "       [0.09986101, 0.15524289, 0.12074131, 0.6241548 ],\n",
       "       [0.08293777, 0.13351993, 0.0970033 , 0.68653905],\n",
       "       [0.14359987, 0.20310897, 0.16347039, 0.48982084],\n",
       "       [0.10134362, 0.15660512, 0.1196031 , 0.62244827],\n",
       "       [0.12699637, 0.18484944, 0.1498622 , 0.538292  ],\n",
       "       [0.08346414, 0.13232273, 0.1010171 , 0.68319607],\n",
       "       [0.09694678, 0.14864685, 0.11744972, 0.63695663],\n",
       "       [0.08473171, 0.13715233, 0.10193185, 0.6761841 ],\n",
       "       [0.06572604, 0.10527345, 0.07496817, 0.7540323 ],\n",
       "       [0.12342003, 0.18000612, 0.14767326, 0.54890054],\n",
       "       [0.11501475, 0.17063166, 0.13741198, 0.5769416 ],\n",
       "       [0.08737078, 0.1378923 , 0.1052688 , 0.6694681 ],\n",
       "       [0.09458467, 0.14720665, 0.11315323, 0.6450554 ],\n",
       "       [0.13023916, 0.1879486 , 0.15384695, 0.5279653 ],\n",
       "       [0.10686693, 0.1611615 , 0.12609835, 0.6058733 ],\n",
       "       [0.09338786, 0.14642155, 0.11009087, 0.65009975],\n",
       "       [0.12609276, 0.18373723, 0.14884324, 0.54132676],\n",
       "       [0.1154687 , 0.17265038, 0.13644367, 0.57543725],\n",
       "       [0.10500062, 0.15880735, 0.12453306, 0.611659  ],\n",
       "       [0.1020119 , 0.15720272, 0.12370621, 0.6170792 ],\n",
       "       [0.0951711 , 0.14856526, 0.11654111, 0.6397225 ],\n",
       "       [0.08649231, 0.13690412, 0.10085123, 0.6757523 ],\n",
       "       [0.10297986, 0.15864603, 0.12460496, 0.6137691 ],\n",
       "       [0.11868754, 0.17379652, 0.14147496, 0.566041  ],\n",
       "       [0.0666187 , 0.1134574 , 0.07859856, 0.7413254 ],\n",
       "       [0.08459384, 0.13354759, 0.09904761, 0.6828109 ],\n",
       "       [0.10001242, 0.15034541, 0.12027656, 0.6293656 ],\n",
       "       [0.11204226, 0.16853018, 0.13256383, 0.58686376],\n",
       "       [0.13249749, 0.18945974, 0.15697555, 0.52106726],\n",
       "       [0.12169358, 0.17976902, 0.14299296, 0.55554444],\n",
       "       [0.1361245 , 0.1942721 , 0.15891004, 0.5106934 ]], dtype=float32)"
      ]
     },
     "execution_count": 48,
     "metadata": {},
     "output_type": "execute_result"
    }
   ],
   "source": [
    "CNNmodel_combined.predict([X_1, X_2])"
   ]
  },
  {
   "cell_type": "code",
   "execution_count": null,
   "id": "4c542059",
   "metadata": {
    "colab": {
     "base_uri": "https://localhost:8080/",
     "height": 17
    },
    "id": "4c542059",
    "outputId": "092af8e5-f274-46d9-8338-7b46057fcfe7"
   },
   "outputs": [
    {
     "data": {
      "application/javascript": [
       "\n",
       "    async function download(id, filename, size) {\n",
       "      if (!google.colab.kernel.accessAllowed) {\n",
       "        return;\n",
       "      }\n",
       "      const div = document.createElement('div');\n",
       "      const label = document.createElement('label');\n",
       "      label.textContent = `Downloading \"${filename}\": `;\n",
       "      div.appendChild(label);\n",
       "      const progress = document.createElement('progress');\n",
       "      progress.max = size;\n",
       "      div.appendChild(progress);\n",
       "      document.body.appendChild(div);\n",
       "\n",
       "      const buffers = [];\n",
       "      let downloaded = 0;\n",
       "\n",
       "      const channel = await google.colab.kernel.comms.open(id);\n",
       "      // Send a message to notify the kernel that we're ready.\n",
       "      channel.send({})\n",
       "\n",
       "      for await (const message of channel.messages) {\n",
       "        // Send a message to notify the kernel that we're ready.\n",
       "        channel.send({})\n",
       "        if (message.buffers) {\n",
       "          for (const buffer of message.buffers) {\n",
       "            buffers.push(buffer);\n",
       "            downloaded += buffer.byteLength;\n",
       "            progress.value = downloaded;\n",
       "          }\n",
       "        }\n",
       "      }\n",
       "      const blob = new Blob(buffers, {type: 'application/binary'});\n",
       "      const a = document.createElement('a');\n",
       "      a.href = window.URL.createObjectURL(blob);\n",
       "      a.download = filename;\n",
       "      div.appendChild(a);\n",
       "      a.click();\n",
       "      div.remove();\n",
       "    }\n",
       "  "
      ],
      "text/plain": [
       "<IPython.core.display.Javascript object>"
      ]
     },
     "metadata": {},
     "output_type": "display_data"
    },
    {
     "data": {
      "application/javascript": [
       "download(\"download_5d8fa967-5e3b-4d96-905e-39b7d18874c5\", \"saved_model.pb\", 363590)"
      ],
      "text/plain": [
       "<IPython.core.display.Javascript object>"
      ]
     },
     "metadata": {},
     "output_type": "display_data"
    }
   ],
   "source": [
    "# files.download('model_basic/saved_model.pb')"
   ]
  },
  {
   "cell_type": "code",
   "execution_count": null,
   "id": "TGuVxVxdZOWj",
   "metadata": {
    "id": "TGuVxVxdZOWj"
   },
   "outputs": [],
   "source": []
  },
  {
   "cell_type": "code",
   "execution_count": null,
   "id": "V4M5_ab8dYOr",
   "metadata": {
    "id": "V4M5_ab8dYOr"
   },
   "outputs": [],
   "source": []
  }
 ],
 "metadata": {
  "accelerator": "GPU",
  "colab": {
   "collapsed_sections": [],
   "provenance": []
  },
  "gpuClass": "standard",
  "kernelspec": {
   "display_name": "Python 3 (ipykernel)",
   "language": "python",
   "name": "python3"
  },
  "language_info": {
   "codemirror_mode": {
    "name": "ipython",
    "version": 3
   },
   "file_extension": ".py",
   "mimetype": "text/x-python",
   "name": "python",
   "nbconvert_exporter": "python",
   "pygments_lexer": "ipython3",
   "version": "3.8.12"
  },
  "toc": {
   "base_numbering": 1,
   "nav_menu": {},
   "number_sections": true,
   "sideBar": true,
   "skip_h1_title": false,
   "title_cell": "Table of Contents",
   "title_sidebar": "Contents",
   "toc_cell": false,
   "toc_position": {},
   "toc_section_display": true,
   "toc_window_display": false
  }
 },
 "nbformat": 4,
 "nbformat_minor": 5
}
