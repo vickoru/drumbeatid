{
 "cells": [
  {
   "cell_type": "markdown",
   "id": "4e7eeae9",
   "metadata": {},
   "source": [
    "## Preprocessing "
   ]
  },
  {
   "cell_type": "markdown",
   "id": "1e9e5c0d",
   "metadata": {},
   "source": [
    "### Steps in Main Jupyter Notebook"
   ]
  },
  {
   "cell_type": "code",
   "execution_count": null,
   "id": "c5dc774e",
   "metadata": {},
   "outputs": [],
   "source": [
    "## 1. functions used for the load the main features(e.g.mfccs, specbw)\n",
    "## 2. functions used to load the audio file and convert it to image(spectogram)\n",
    "## 3. padding for resize\n",
    "## 4. minmaxscale for scaling/normalising\n",
    "## 5. \n",
    "\n"
   ]
  }
 ],
 "metadata": {
  "kernelspec": {
   "display_name": "Python 3 (ipykernel)",
   "language": "python",
   "name": "python3"
  },
  "language_info": {
   "codemirror_mode": {
    "name": "ipython",
    "version": 3
   },
   "file_extension": ".py",
   "mimetype": "text/x-python",
   "name": "python",
   "nbconvert_exporter": "python",
   "pygments_lexer": "ipython3",
   "version": "3.8.12"
  },
  "toc": {
   "base_numbering": 1,
   "nav_menu": {},
   "number_sections": true,
   "sideBar": true,
   "skip_h1_title": false,
   "title_cell": "Table of Contents",
   "title_sidebar": "Contents",
   "toc_cell": false,
   "toc_position": {},
   "toc_section_display": true,
   "toc_window_display": false
  }
 },
 "nbformat": 4,
 "nbformat_minor": 5
}
