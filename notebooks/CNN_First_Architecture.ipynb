{
 "cells": [
  {
   "cell_type": "markdown",
   "id": "f3f598d2",
   "metadata": {},
   "source": [
    "## Import all Packages"
   ]
  },
  {
   "cell_type": "code",
   "execution_count": 3,
   "id": "026b40f0",
   "metadata": {},
   "outputs": [],
   "source": [
    "import numpy as np\n",
    "import matplotlib.pyplot as plt\n",
    "import scipy\n",
    "from scipy.io import wavfile\n",
    "from IPython.display import Audio\n",
    "from scipy import fft\n",
    "import librosa\n",
    "import librosa.display\n",
    "from wavinfo import WavInfoReader\n",
    "import pandas as pd"
   ]
  },
  {
   "cell_type": "markdown",
   "id": "4c6a98ac",
   "metadata": {},
   "source": [
    "## Load the Data"
   ]
  },
  {
   "cell_type": "code",
   "execution_count": 9,
   "id": "28700608",
   "metadata": {},
   "outputs": [],
   "source": [
    "df_drummers = pd.read_csv('/home/ioannis/code/vickoru/drumbeatid/raw_data/groove/info.csv')"
   ]
  },
  {
   "cell_type": "code",
   "execution_count": 34,
   "id": "121c3670",
   "metadata": {},
   "outputs": [
    {
     "data": {
      "text/html": [
       "<div>\n",
       "<style scoped>\n",
       "    .dataframe tbody tr th:only-of-type {\n",
       "        vertical-align: middle;\n",
       "    }\n",
       "\n",
       "    .dataframe tbody tr th {\n",
       "        vertical-align: top;\n",
       "    }\n",
       "\n",
       "    .dataframe thead th {\n",
       "        text-align: right;\n",
       "    }\n",
       "</style>\n",
       "<table border=\"1\" class=\"dataframe\">\n",
       "  <thead>\n",
       "    <tr style=\"text-align: right;\">\n",
       "      <th></th>\n",
       "      <th>drummer</th>\n",
       "      <th>id</th>\n",
       "      <th>style</th>\n",
       "      <th>bpm</th>\n",
       "      <th>time_signature</th>\n",
       "      <th>audio_filename</th>\n",
       "      <th>duration</th>\n",
       "    </tr>\n",
       "  </thead>\n",
       "  <tbody>\n",
       "    <tr>\n",
       "      <th>0</th>\n",
       "      <td>drummer1</td>\n",
       "      <td>drummer1/eval_session/1</td>\n",
       "      <td>funk/groove1</td>\n",
       "      <td>138</td>\n",
       "      <td>4-4</td>\n",
       "      <td>drummer1/eval_session/1_funk-groove1_138_beat_...</td>\n",
       "      <td>27.872308</td>\n",
       "    </tr>\n",
       "    <tr>\n",
       "      <th>1</th>\n",
       "      <td>drummer1</td>\n",
       "      <td>drummer1/eval_session/10</td>\n",
       "      <td>soul/groove10</td>\n",
       "      <td>102</td>\n",
       "      <td>4-4</td>\n",
       "      <td>drummer1/eval_session/10_soul-groove10_102_bea...</td>\n",
       "      <td>37.691158</td>\n",
       "    </tr>\n",
       "    <tr>\n",
       "      <th>2</th>\n",
       "      <td>drummer1</td>\n",
       "      <td>drummer1/eval_session/2</td>\n",
       "      <td>funk/groove2</td>\n",
       "      <td>105</td>\n",
       "      <td>4-4</td>\n",
       "      <td>drummer1/eval_session/2_funk-groove2_105_beat_...</td>\n",
       "      <td>36.351218</td>\n",
       "    </tr>\n",
       "    <tr>\n",
       "      <th>3</th>\n",
       "      <td>drummer1</td>\n",
       "      <td>drummer1/eval_session/3</td>\n",
       "      <td>soul/groove3</td>\n",
       "      <td>86</td>\n",
       "      <td>4-4</td>\n",
       "      <td>drummer1/eval_session/3_soul-groove3_86_beat_4...</td>\n",
       "      <td>44.716543</td>\n",
       "    </tr>\n",
       "    <tr>\n",
       "      <th>4</th>\n",
       "      <td>drummer1</td>\n",
       "      <td>drummer1/eval_session/4</td>\n",
       "      <td>soul/groove4</td>\n",
       "      <td>80</td>\n",
       "      <td>4-4</td>\n",
       "      <td>drummer1/eval_session/4_soul-groove4_80_beat_4...</td>\n",
       "      <td>47.987500</td>\n",
       "    </tr>\n",
       "  </tbody>\n",
       "</table>\n",
       "</div>"
      ],
      "text/plain": [
       "    drummer                        id          style  bpm time_signature  \\\n",
       "0  drummer1   drummer1/eval_session/1   funk/groove1  138            4-4   \n",
       "1  drummer1  drummer1/eval_session/10  soul/groove10  102            4-4   \n",
       "2  drummer1   drummer1/eval_session/2   funk/groove2  105            4-4   \n",
       "3  drummer1   drummer1/eval_session/3   soul/groove3   86            4-4   \n",
       "4  drummer1   drummer1/eval_session/4   soul/groove4   80            4-4   \n",
       "\n",
       "                                      audio_filename   duration  \n",
       "0  drummer1/eval_session/1_funk-groove1_138_beat_...  27.872308  \n",
       "1  drummer1/eval_session/10_soul-groove10_102_bea...  37.691158  \n",
       "2  drummer1/eval_session/2_funk-groove2_105_beat_...  36.351218  \n",
       "3  drummer1/eval_session/3_soul-groove3_86_beat_4...  44.716543  \n",
       "4  drummer1/eval_session/4_soul-groove4_80_beat_4...  47.987500  "
      ]
     },
     "execution_count": 34,
     "metadata": {},
     "output_type": "execute_result"
    }
   ],
   "source": [
    "df_drummers.head(5)"
   ]
  },
  {
   "cell_type": "code",
   "execution_count": 14,
   "id": "63ddefd4",
   "metadata": {},
   "outputs": [],
   "source": [
    "df_drummers = df_drummers.drop(columns=['beat_type', 'session', 'split', 'midi_filename'])"
   ]
  },
  {
   "cell_type": "code",
   "execution_count": 16,
   "id": "665aa418",
   "metadata": {},
   "outputs": [
    {
     "data": {
      "text/html": [
       "<div>\n",
       "<style scoped>\n",
       "    .dataframe tbody tr th:only-of-type {\n",
       "        vertical-align: middle;\n",
       "    }\n",
       "\n",
       "    .dataframe tbody tr th {\n",
       "        vertical-align: top;\n",
       "    }\n",
       "\n",
       "    .dataframe thead th {\n",
       "        text-align: right;\n",
       "    }\n",
       "</style>\n",
       "<table border=\"1\" class=\"dataframe\">\n",
       "  <thead>\n",
       "    <tr style=\"text-align: right;\">\n",
       "      <th></th>\n",
       "      <th>drummer</th>\n",
       "      <th>id</th>\n",
       "      <th>style</th>\n",
       "      <th>bpm</th>\n",
       "      <th>time_signature</th>\n",
       "      <th>audio_filename</th>\n",
       "      <th>duration</th>\n",
       "    </tr>\n",
       "  </thead>\n",
       "  <tbody>\n",
       "    <tr>\n",
       "      <th>0</th>\n",
       "      <td>drummer1</td>\n",
       "      <td>drummer1/eval_session/1</td>\n",
       "      <td>funk/groove1</td>\n",
       "      <td>138</td>\n",
       "      <td>4-4</td>\n",
       "      <td>drummer1/eval_session/1_funk-groove1_138_beat_...</td>\n",
       "      <td>27.872308</td>\n",
       "    </tr>\n",
       "    <tr>\n",
       "      <th>1</th>\n",
       "      <td>drummer1</td>\n",
       "      <td>drummer1/eval_session/10</td>\n",
       "      <td>soul/groove10</td>\n",
       "      <td>102</td>\n",
       "      <td>4-4</td>\n",
       "      <td>drummer1/eval_session/10_soul-groove10_102_bea...</td>\n",
       "      <td>37.691158</td>\n",
       "    </tr>\n",
       "    <tr>\n",
       "      <th>2</th>\n",
       "      <td>drummer1</td>\n",
       "      <td>drummer1/eval_session/2</td>\n",
       "      <td>funk/groove2</td>\n",
       "      <td>105</td>\n",
       "      <td>4-4</td>\n",
       "      <td>drummer1/eval_session/2_funk-groove2_105_beat_...</td>\n",
       "      <td>36.351218</td>\n",
       "    </tr>\n",
       "    <tr>\n",
       "      <th>3</th>\n",
       "      <td>drummer1</td>\n",
       "      <td>drummer1/eval_session/3</td>\n",
       "      <td>soul/groove3</td>\n",
       "      <td>86</td>\n",
       "      <td>4-4</td>\n",
       "      <td>drummer1/eval_session/3_soul-groove3_86_beat_4...</td>\n",
       "      <td>44.716543</td>\n",
       "    </tr>\n",
       "    <tr>\n",
       "      <th>4</th>\n",
       "      <td>drummer1</td>\n",
       "      <td>drummer1/eval_session/4</td>\n",
       "      <td>soul/groove4</td>\n",
       "      <td>80</td>\n",
       "      <td>4-4</td>\n",
       "      <td>drummer1/eval_session/4_soul-groove4_80_beat_4...</td>\n",
       "      <td>47.987500</td>\n",
       "    </tr>\n",
       "  </tbody>\n",
       "</table>\n",
       "</div>"
      ],
      "text/plain": [
       "    drummer                        id          style  bpm time_signature  \\\n",
       "0  drummer1   drummer1/eval_session/1   funk/groove1  138            4-4   \n",
       "1  drummer1  drummer1/eval_session/10  soul/groove10  102            4-4   \n",
       "2  drummer1   drummer1/eval_session/2   funk/groove2  105            4-4   \n",
       "3  drummer1   drummer1/eval_session/3   soul/groove3   86            4-4   \n",
       "4  drummer1   drummer1/eval_session/4   soul/groove4   80            4-4   \n",
       "\n",
       "                                      audio_filename   duration  \n",
       "0  drummer1/eval_session/1_funk-groove1_138_beat_...  27.872308  \n",
       "1  drummer1/eval_session/10_soul-groove10_102_bea...  37.691158  \n",
       "2  drummer1/eval_session/2_funk-groove2_105_beat_...  36.351218  \n",
       "3  drummer1/eval_session/3_soul-groove3_86_beat_4...  44.716543  \n",
       "4  drummer1/eval_session/4_soul-groove4_80_beat_4...  47.987500  "
      ]
     },
     "execution_count": 16,
     "metadata": {},
     "output_type": "execute_result"
    }
   ],
   "source": [
    "df_drummers.head()"
   ]
  },
  {
   "cell_type": "code",
   "execution_count": 33,
   "id": "e62e7afe",
   "metadata": {},
   "outputs": [
    {
     "data": {
      "text/plain": [
       "(1150, 7)"
      ]
     },
     "execution_count": 33,
     "metadata": {},
     "output_type": "execute_result"
    }
   ],
   "source": [
    "df_drummers.shape"
   ]
  },
  {
   "cell_type": "code",
   "execution_count": 27,
   "id": "f91512a4",
   "metadata": {},
   "outputs": [],
   "source": [
    "drumbeat = df_drummers.loc[1020, 'audio_filename']\n",
    "wavFile = '/home/ioannis/code/vickoru/drumbeatid/raw_data/groove/' + drumbeat"
   ]
  },
  {
   "cell_type": "code",
   "execution_count": 28,
   "id": "dfa8e559",
   "metadata": {},
   "outputs": [
    {
     "data": {
      "text/plain": [
       "array(['funk/groove1', 'soul/groove10', 'funk/groove2', 'soul/groove3',\n",
       "       'soul/groove4', 'funk/groove5', 'hiphop/groove6', 'pop/groove7',\n",
       "       'rock/groove8', 'soul/groove9', 'funk', 'jazz/funk',\n",
       "       'neworleans/secondline', 'dance/disco', 'funk/fast',\n",
       "       'latin/brazilian-baiao', 'afrocuban', 'reggae', 'reggae/slow',\n",
       "       'rock/halftime', 'funk/purdieshuffle', 'latin/samba', 'jazz',\n",
       "       'rock/shuffle', 'jazz/mediumfast', 'jazz/fast', 'latin/reggaeton',\n",
       "       'dance/breakbeat', 'neworleans/funk', 'latin/chacarera', 'country',\n",
       "       'funk/rock', 'rock/prog', 'afrocuban/bembe', 'gospel',\n",
       "       'afrocuban/rhumba', 'rock', 'punk', 'jazz/march', 'rock/folk',\n",
       "       'afrobeat', 'latin/bomba', 'afrocuban/calypso', 'jazz/swing',\n",
       "       'rock/rockabilly', 'jazz/linear', 'hiphop', 'jazz/klezmer',\n",
       "       'latin/brazilian', 'blues/shuffle', 'latin/merengue',\n",
       "       'latin/brazilian-bossa', 'latin/brazilian-sambareggae',\n",
       "       'latin/brazilian-songo', 'middleeastern', 'latin/brazilian-samba',\n",
       "       'latin/brazilian-maracatu', 'latin/venezuelan-merengue',\n",
       "       'latin/dominican-merengue', 'latin/venezuelan-sangueo', 'soul',\n",
       "       'latin/venezuelan-joropo', 'latin/ando', 'latin/brazilian-ijexa',\n",
       "       'latin/brazilian-frevo', 'neworleans/chacha', 'neworleans/shuffle',\n",
       "       'pop', 'soul/motown', 'jazz/fusion', 'pop/soft', 'rock/indie',\n",
       "       'latin', 'funk/latin', 'latin/bounce', 'highlife'], dtype=object)"
      ]
     },
     "execution_count": 28,
     "metadata": {},
     "output_type": "execute_result"
    }
   ],
   "source": [
    "df_drummers['style'].unique()"
   ]
  },
  {
   "cell_type": "code",
   "execution_count": 29,
   "id": "425bfe1f",
   "metadata": {},
   "outputs": [
    {
     "data": {
      "text/plain": [
       "'/home/ioannis/code/vickoru/drumbeatid/raw_data/groove/drummer7/session3/96_hiphop_70_fill_4-4.wav'"
      ]
     },
     "execution_count": 29,
     "metadata": {},
     "output_type": "execute_result"
    }
   ],
   "source": [
    "wavFile"
   ]
  },
  {
   "cell_type": "code",
   "execution_count": 30,
   "id": "927b33f3",
   "metadata": {},
   "outputs": [],
   "source": [
    "info = WavInfoReader(wavFile)"
   ]
  },
  {
   "cell_type": "code",
   "execution_count": 31,
   "id": "ab14b966",
   "metadata": {},
   "outputs": [
    {
     "data": {
      "text/plain": [
       "WavInfoReader(%s, %s, %s)"
      ]
     },
     "execution_count": 31,
     "metadata": {},
     "output_type": "execute_result"
    }
   ],
   "source": [
    "info"
   ]
  },
  {
   "cell_type": "code",
   "execution_count": 32,
   "id": "11a5c547",
   "metadata": {},
   "outputs": [],
   "source": [
    "y, sr = librosa.load(wavFile)"
   ]
  },
  {
   "cell_type": "markdown",
   "id": "53cdf3ea",
   "metadata": {},
   "source": [
    "## CNN Architecture"
   ]
  },
  {
   "cell_type": "code",
   "execution_count": null,
   "id": "e3be5519",
   "metadata": {},
   "outputs": [],
   "source": [
    "'''\n",
    "First CNN Architecture, simple to avoid overfitting.\n",
    "We should add up complication step-by-step.\n",
    "'''\n",
    "# For this dummy we have taken into account the mfccs size for height and width parameters\n",
    "input_shape=(1150, 40, 148, 3) # (batch size, height, width, channels-RGB)\n",
    "CNNmodel = models.Sequential()\n",
    "CNNmodel.add(layers.Conv2D(32, (3, 3), activation='relu', input_shape=input_shape))\n",
    "CNNmodel.add(layers.MaxPooling2D((2, 2)))\n",
    "CNNmodel.add(layers.Flatten())\n",
    "CNNmodel.add(layers.Dense(32, activation='relu'))\n",
    "CNNmodel.add(layers.Dense(24, activation='softmax'))\n",
    "CNNmodel.summary()"
   ]
  },
  {
   "cell_type": "markdown",
   "id": "6cefd464",
   "metadata": {},
   "source": [
    "## Compile the Model"
   ]
  },
  {
   "cell_type": "code",
   "execution_count": null,
   "id": "ba02ee62",
   "metadata": {},
   "outputs": [],
   "source": [
    "# depending on whether we work with tensorflow we can adjust the loss to 'tf.keras.losses.SparseCategoricalCrossentropy'\n",
    "CNNmodel.compile(optimizer='adam', loss='categorical_crossentropy', metrics=['accuracy']) # + f1 score"
   ]
  },
  {
   "cell_type": "markdown",
   "id": "7baf581d",
   "metadata": {},
   "source": [
    "## Fit the model"
   ]
  },
  {
   "cell_type": "code",
   "execution_count": null,
   "id": "522e6b84",
   "metadata": {},
   "outputs": [],
   "source": [
    "model = CNNmodel.fit(X_train, y_train, epochs=20, validation_data= ?)"
   ]
  }
 ],
 "metadata": {
  "kernelspec": {
   "display_name": "Python 3 (ipykernel)",
   "language": "python",
   "name": "python3"
  },
  "language_info": {
   "codemirror_mode": {
    "name": "ipython",
    "version": 3
   },
   "file_extension": ".py",
   "mimetype": "text/x-python",
   "name": "python",
   "nbconvert_exporter": "python",
   "pygments_lexer": "ipython3",
   "version": "3.8.12"
  },
  "toc": {
   "base_numbering": 1,
   "nav_menu": {},
   "number_sections": true,
   "sideBar": true,
   "skip_h1_title": false,
   "title_cell": "Table of Contents",
   "title_sidebar": "Contents",
   "toc_cell": false,
   "toc_position": {},
   "toc_section_display": true,
   "toc_window_display": false
  }
 },
 "nbformat": 4,
 "nbformat_minor": 5
}
