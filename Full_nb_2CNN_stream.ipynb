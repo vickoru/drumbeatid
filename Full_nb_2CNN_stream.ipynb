{
  "cells": [
    {
      "cell_type": "code",
      "execution_count": null,
      "metadata": {
        "colab": {
          "base_uri": "https://localhost:8080/"
        },
        "id": "_q8uOTzh5vwJ",
        "outputId": "24522e49-17cc-4d61-a2f0-a474047be06a"
      },
      "outputs": [
        {
          "output_type": "stream",
          "name": "stdout",
          "text": [
            "Drive already mounted at /content/drive; to attempt to forcibly remount, call drive.mount(\"/content/drive\", force_remount=True).\n"
          ]
        }
      ],
      "source": [
        "from google.colab import drive\n",
        "drive.mount('/content/drive')"
      ],
      "id": "_q8uOTzh5vwJ"
    },
    {
      "cell_type": "code",
      "execution_count": null,
      "id": "b1bca5c4",
      "metadata": {
        "id": "b1bca5c4"
      },
      "outputs": [],
      "source": [
        "%load_ext autoreload\n",
        "%autoreload 2"
      ]
    },
    {
      "cell_type": "code",
      "execution_count": null,
      "id": "db41e616",
      "metadata": {
        "id": "db41e616"
      },
      "outputs": [],
      "source": [
        "import numpy as np\n",
        "import matplotlib.pyplot as plt\n",
        "import scipy\n",
        "from scipy.io import wavfile\n",
        "from IPython.display import Audio\n",
        "from scipy import fft\n",
        "import librosa\n",
        "import librosa.display\n",
        "# from wavinfo import WavInfoReader\n",
        "import pandas as pd\n",
        "import os\n",
        "import sys\n",
        "import seaborn as sns\n",
        "\n",
        "from sklearn.preprocessing import LabelEncoder\n",
        "from sklearn.model_selection import train_test_split\n",
        "from tensorflow.keras import models,layers\n",
        "from tensorflow.keras.utils import to_categorical, plot_model\n",
        "from tensorflow.keras.callbacks import EarlyStopping\n"
      ]
    },
    {
      "cell_type": "code",
      "execution_count": null,
      "id": "8443d251",
      "metadata": {
        "id": "8443d251"
      },
      "outputs": [],
      "source": [
        "def calculate_mfccs(waveform, samplingrate, number_coeffs=128):\n",
        "    '''\n",
        "    Caluculate Mel frequency cepstral coefficients.\n",
        "    Input:\n",
        "    waveform: array representing the waveform originating from audio file\n",
        "    samplingrate: sampling rate from audio\n",
        "    number_coeffs: total number of coefficients to calculate, default is 20\n",
        "    Output: array of mfccs\n",
        "    '''\n",
        "    mfccs = librosa.feature.mfcc(y=waveform, sr=samplingrate,\n",
        "                                 n_mfcc=number_coeffs)\n",
        "    return mfccs\n",
        "\n",
        "\n",
        "def calculate_specbandwidth(waveform, samplingrate, order_p=2):\n",
        "    '''\n",
        "    Calculates spectral bandwithd of oder p\n",
        "    '''\n",
        "    specbw = librosa.feature.spectral_bandwidth(y=waveform, sr=samplingrate,\n",
        "                                                p=order_p)\n",
        "\n",
        "    return specbw\n",
        "\n",
        "\n",
        "def calculate_spectralcentroid(waveform, samplingrate, nfft=2048, hoplength=512):\n",
        "    '''\n",
        "    Calculate spectral centroid\n",
        "    '''\n",
        "    specent = librosa.feature.spectral_centroid(y=waveform,\n",
        "                                                sr=samplingrate, n_fft=nfft,\n",
        "                                                hop_length=hoplength)\n",
        "\n",
        "    return specent\n",
        "\n",
        "\n",
        "def calculate_chroma(waveform, samplingrate, nfft=2048, hoplength=512):\n",
        "    '''\n",
        "    Chroma Feature calculation with a hop length of 512 as default\n",
        "\n",
        "    '''\n",
        "    chromafeat = librosa.feature.chroma_stft(y=waveform, sr=samplingrate,\n",
        "                                             n_fft=nfft,\n",
        "                                             hop_length=hoplength)\n",
        "\n",
        "    return chromafeat\n",
        "\n",
        "\n",
        "def calculate_zerocrossrate(waveform, framelength=2048, hoplength=512,):\n",
        "    '''\n",
        "    Caluculate Zero crossing rate.\n",
        "\n",
        "    '''\n",
        "    zerocr = librosa.feature.zero_crossing_rate(y, frame_length=framelength,\n",
        "                                                hop_length=hoplength)\n",
        "\n",
        "    return zerocr\n",
        "\n",
        "\n",
        "def calculate_spectralroff(waveform, samplingrate, nfft=2048, hoplength=512):\n",
        "    '''\n",
        "    Calculate spectral roll off of the waveform\n",
        "    '''\n",
        "    specroff = librosa.feature.spectral_rolloff(y=waveform,\n",
        "                                                sr=samplingrate, n_fft=nfft,\n",
        "                                                hop_length=hoplength)\n",
        "\n",
        "    return specroff\n"
      ]
    },
    {
      "cell_type": "code",
      "execution_count": null,
      "id": "053f419f",
      "metadata": {
        "id": "053f419f"
      },
      "outputs": [],
      "source": [
        "def read_audio(audiofile_path, samplingrate=22050, duration=None):\n",
        "    '''\n",
        "    Reading in audiofile, returns 1-dimensional array x, sampling rate sr\n",
        "    '''\n",
        "\n",
        "    x , sr = librosa.load(audiofile_path, sr=samplingrate, duration=duration)\n",
        "    return x, sr\n",
        "\n",
        "\n",
        "def calculate_spectogram(waveform, nfft=2048, hoplength=512):\n",
        "    '''\n",
        "    ===  1 Spectogram  ===\n",
        "    requires 1-dimensional array x(timeseries), sampling rate sr\n",
        "    returns spectogram, a matplotlib.colormesh object\n",
        "\n",
        "    '''\n",
        "\n",
        "    #performing short time- Fourier analysis\n",
        "    X = librosa.stft(waveform, n_fft=nfft, hop_length=hoplength)\n",
        "\n",
        "    #amplitudes of given frequency at given time -> spectrogram\n",
        "    Xdb = librosa.amplitude_to_db(abs(X))\n",
        "\n",
        "    #plt.figure(figsize=(6, 5), frameon=False)\n",
        "    #librosa.display.specshow(Xdb, sr=sr, x_axis='time', y_axis='hz') # for demonstration purposes\n",
        "    \n",
        "#     spectogram = librosa.display.specshow(Xdb, sr=sr, x_axis=None, y_axis=None) # without axes\n",
        "    \n",
        "    return Xdb \n",
        "\n",
        "def calculate_melspect(waveform, samplingrate, nfft=2048, hoplength=512):\n",
        "    \n",
        "    melspec = librosa.feature.melspectrogram(y=waveform, sr=samplingrate, n_fft=nfft, hop_length=hoplength)\n",
        "    \n",
        "    melspec_dB = librosa.power_to_db(melspec)\n",
        "    \n",
        "    return melspec_dB\n"
      ]
    },
    {
      "cell_type": "code",
      "execution_count": null,
      "id": "db166808",
      "metadata": {
        "id": "db166808"
      },
      "outputs": [],
      "source": [
        "def padding(feat_matrix, size, axis):\n",
        "    \n",
        "    padded = librosa.util.pad_center(feat_matrix, size=size, axis=axis)\n",
        "    \n",
        "    return padded\n",
        "\n",
        "\n",
        "def padding_waveforms(waveforms, max_length=132300, axis=0):\n",
        "    for idx, values in enumerate(waveforms):\n",
        "        if values.shape[0] < max_length:\n",
        "            waveforms[idx] = librosa.util.pad_center(waveforms[idx], size=max_length, axis=axis)\n",
        "    \n",
        "    return np.array(waveforms)  \n",
        "\n",
        "\n",
        "def minmaxscaling(matrix):\n",
        "    max_ = np.max(matrix)\n",
        "    min_ = np.min(matrix)\n",
        "    norm = np.array((matrix - min_)/(max_ - min_))\n",
        "    \n",
        "    return norm \n"
      ]
    },
    {
      "cell_type": "code",
      "execution_count": null,
      "id": "96380f3e",
      "metadata": {
        "id": "96380f3e"
      },
      "outputs": [],
      "source": [
        "def processing_drummers(dataframe):\n",
        "    df_drummers = dataframe.drop(columns=['drummer', 'id', 'session', 'split', 'midi_filename'])\n",
        "    df_drummers = df_drummers.dropna()\n",
        "    df_drummers = df_drummers[df_drummers['beat_type'] == 'beat']\n",
        "    df_drummers['style_new'] = df_drummers['style'].apply(lambda x: x.split('/')[0]) \n",
        "    df_drummers['style'] = df_drummers['style_new']\n",
        "    \n",
        "    return df_drummers.drop(columns='style_new')   \n",
        "\n",
        "\n",
        "def process_audiofiles(loc, drummers_df, samplingrate=22050, duration=6):\n",
        "    \n",
        "    waveforms_ = drummers_df['audio_filename'].apply(\n",
        "        lambda x: librosa.load(os.path.join(loc, x), sr=samplingrate, duration=duration)).values\n",
        "    genres = drummers_df['style'].values    \n",
        "    \n",
        "    waveforms = []\n",
        "    sr = []\n",
        "    for values in waveforms_:\n",
        "        waveforms.append(values[0])\n",
        "        sr.append(values[1])\n",
        "    \n",
        "    waveforms_padded = padding_waveforms(waveforms, max_length=132300, axis=0) \n",
        "        \n",
        "    return waveforms_padded, np.array(sr), genres\n",
        "\n",
        "\n",
        "def spectogram_mfccs(waveform, sr):\n",
        "    mfccs = []\n",
        "    for idx in range(waveform.shape[0]):\n",
        "        mfccs.append(calculate_mfccs(waveform[idx], sr[idx], number_coeffs=128)) # mfccs\n",
        "    \n",
        "    return np.array(mfccs)\n",
        "\n",
        "\n",
        "def spectogram_chroma(waveform, sr):\n",
        "    chroma = []    \n",
        "    for idx in range(waveform.shape[0]):\n",
        "        chroma.append(calculate_chroma(waveform[idx], samplingrate=sr[idx]))\n",
        "    \n",
        "    return np.array(chroma)\n",
        "           \n",
        "\n",
        "def spectogram_stft(waveform):\n",
        "    spectogram_feat = []\n",
        "    for idx in range(waveform.shape[0]):\n",
        "        spectogram_feat.append(calculate_spectogram(waveform[idx]))\n",
        "    \n",
        "    return np.array(spectogram_feat)\n",
        "\n",
        "\n",
        "def spectogram_mel(waveform, sr):\n",
        "    melspect = [] \n",
        "    for idx in range(waveform.shape[0]):\n",
        "        melspect.append(calculate_melspect(waveform[idx], samplingrate=sr[idx]))\n",
        "    \n",
        "    return np.array(melspect)\n",
        "\n",
        "\n",
        "# def spectrograms(waveform, sr, how='all'):\n",
        "#     shape_ = waveform.shape[0]\n",
        "#     if how == 'all':\n",
        "#         return spectogram_stft(waveform), spe\n",
        "#         mfccs = []\n",
        "#         for idx in range(shape_):\n",
        "#             mfccs.append(calculate_mfccs(waveform[idx], sr[idx], number_coeffs=128)) # mfccs        \n",
        "    "
      ]
    },
    {
      "cell_type": "code",
      "execution_count": null,
      "id": "59f0ffd4",
      "metadata": {
        "id": "59f0ffd4"
      },
      "outputs": [],
      "source": [
        "# pwd = os.path.abspath('.')\n",
        "# loc = os.path.join(pwd, '..', '..', '..' , 'drumbeatid', 'raw_data', 'groove')\n",
        "# # loc_ = '../raw_data/groove/info.csv'\n",
        "# loc"
      ]
    },
    {
      "cell_type": "code",
      "source": [
        "loc = '/content/drive/MyDrive/Colab Notebooks/drumbeatid/raw_data/groove'\n",
        "# os.chdir('/content/drive/MyDrive/Colab Notebooks/drumbeatid/raw_data/groove' )"
      ],
      "metadata": {
        "id": "-fgDPKQRxR0r"
      },
      "id": "-fgDPKQRxR0r",
      "execution_count": null,
      "outputs": []
    },
    {
      "cell_type": "code",
      "source": [
        "df = pd.read_csv(os.path.join(loc, 'info.csv'))\n",
        "df.head()"
      ],
      "metadata": {
        "colab": {
          "base_uri": "https://localhost:8080/",
          "height": 357
        },
        "id": "vNzAj-MUxUA0",
        "outputId": "292b0bfa-f2d1-4c21-e3ab-627e25e17171"
      },
      "id": "vNzAj-MUxUA0",
      "execution_count": null,
      "outputs": [
        {
          "output_type": "execute_result",
          "data": {
            "text/plain": [
              "    drummer                session                        id          style  \\\n",
              "0  drummer1  drummer1/eval_session   drummer1/eval_session/1   funk/groove1   \n",
              "1  drummer1  drummer1/eval_session  drummer1/eval_session/10  soul/groove10   \n",
              "2  drummer1  drummer1/eval_session   drummer1/eval_session/2   funk/groove2   \n",
              "3  drummer1  drummer1/eval_session   drummer1/eval_session/3   soul/groove3   \n",
              "4  drummer1  drummer1/eval_session   drummer1/eval_session/4   soul/groove4   \n",
              "\n",
              "   bpm beat_type time_signature  \\\n",
              "0  138      beat            4-4   \n",
              "1  102      beat            4-4   \n",
              "2  105      beat            4-4   \n",
              "3   86      beat            4-4   \n",
              "4   80      beat            4-4   \n",
              "\n",
              "                                       midi_filename  \\\n",
              "0  drummer1/eval_session/1_funk-groove1_138_beat_...   \n",
              "1  drummer1/eval_session/10_soul-groove10_102_bea...   \n",
              "2  drummer1/eval_session/2_funk-groove2_105_beat_...   \n",
              "3  drummer1/eval_session/3_soul-groove3_86_beat_4...   \n",
              "4  drummer1/eval_session/4_soul-groove4_80_beat_4...   \n",
              "\n",
              "                                      audio_filename   duration split  \n",
              "0  drummer1/eval_session/1_funk-groove1_138_beat_...  27.872308  test  \n",
              "1  drummer1/eval_session/10_soul-groove10_102_bea...  37.691158  test  \n",
              "2  drummer1/eval_session/2_funk-groove2_105_beat_...  36.351218  test  \n",
              "3  drummer1/eval_session/3_soul-groove3_86_beat_4...  44.716543  test  \n",
              "4  drummer1/eval_session/4_soul-groove4_80_beat_4...  47.987500  test  "
            ],
            "text/html": [
              "\n",
              "  <div id=\"df-5dd5dc6d-3b9c-4a81-8e74-f3a2bfa9237c\">\n",
              "    <div class=\"colab-df-container\">\n",
              "      <div>\n",
              "<style scoped>\n",
              "    .dataframe tbody tr th:only-of-type {\n",
              "        vertical-align: middle;\n",
              "    }\n",
              "\n",
              "    .dataframe tbody tr th {\n",
              "        vertical-align: top;\n",
              "    }\n",
              "\n",
              "    .dataframe thead th {\n",
              "        text-align: right;\n",
              "    }\n",
              "</style>\n",
              "<table border=\"1\" class=\"dataframe\">\n",
              "  <thead>\n",
              "    <tr style=\"text-align: right;\">\n",
              "      <th></th>\n",
              "      <th>drummer</th>\n",
              "      <th>session</th>\n",
              "      <th>id</th>\n",
              "      <th>style</th>\n",
              "      <th>bpm</th>\n",
              "      <th>beat_type</th>\n",
              "      <th>time_signature</th>\n",
              "      <th>midi_filename</th>\n",
              "      <th>audio_filename</th>\n",
              "      <th>duration</th>\n",
              "      <th>split</th>\n",
              "    </tr>\n",
              "  </thead>\n",
              "  <tbody>\n",
              "    <tr>\n",
              "      <th>0</th>\n",
              "      <td>drummer1</td>\n",
              "      <td>drummer1/eval_session</td>\n",
              "      <td>drummer1/eval_session/1</td>\n",
              "      <td>funk/groove1</td>\n",
              "      <td>138</td>\n",
              "      <td>beat</td>\n",
              "      <td>4-4</td>\n",
              "      <td>drummer1/eval_session/1_funk-groove1_138_beat_...</td>\n",
              "      <td>drummer1/eval_session/1_funk-groove1_138_beat_...</td>\n",
              "      <td>27.872308</td>\n",
              "      <td>test</td>\n",
              "    </tr>\n",
              "    <tr>\n",
              "      <th>1</th>\n",
              "      <td>drummer1</td>\n",
              "      <td>drummer1/eval_session</td>\n",
              "      <td>drummer1/eval_session/10</td>\n",
              "      <td>soul/groove10</td>\n",
              "      <td>102</td>\n",
              "      <td>beat</td>\n",
              "      <td>4-4</td>\n",
              "      <td>drummer1/eval_session/10_soul-groove10_102_bea...</td>\n",
              "      <td>drummer1/eval_session/10_soul-groove10_102_bea...</td>\n",
              "      <td>37.691158</td>\n",
              "      <td>test</td>\n",
              "    </tr>\n",
              "    <tr>\n",
              "      <th>2</th>\n",
              "      <td>drummer1</td>\n",
              "      <td>drummer1/eval_session</td>\n",
              "      <td>drummer1/eval_session/2</td>\n",
              "      <td>funk/groove2</td>\n",
              "      <td>105</td>\n",
              "      <td>beat</td>\n",
              "      <td>4-4</td>\n",
              "      <td>drummer1/eval_session/2_funk-groove2_105_beat_...</td>\n",
              "      <td>drummer1/eval_session/2_funk-groove2_105_beat_...</td>\n",
              "      <td>36.351218</td>\n",
              "      <td>test</td>\n",
              "    </tr>\n",
              "    <tr>\n",
              "      <th>3</th>\n",
              "      <td>drummer1</td>\n",
              "      <td>drummer1/eval_session</td>\n",
              "      <td>drummer1/eval_session/3</td>\n",
              "      <td>soul/groove3</td>\n",
              "      <td>86</td>\n",
              "      <td>beat</td>\n",
              "      <td>4-4</td>\n",
              "      <td>drummer1/eval_session/3_soul-groove3_86_beat_4...</td>\n",
              "      <td>drummer1/eval_session/3_soul-groove3_86_beat_4...</td>\n",
              "      <td>44.716543</td>\n",
              "      <td>test</td>\n",
              "    </tr>\n",
              "    <tr>\n",
              "      <th>4</th>\n",
              "      <td>drummer1</td>\n",
              "      <td>drummer1/eval_session</td>\n",
              "      <td>drummer1/eval_session/4</td>\n",
              "      <td>soul/groove4</td>\n",
              "      <td>80</td>\n",
              "      <td>beat</td>\n",
              "      <td>4-4</td>\n",
              "      <td>drummer1/eval_session/4_soul-groove4_80_beat_4...</td>\n",
              "      <td>drummer1/eval_session/4_soul-groove4_80_beat_4...</td>\n",
              "      <td>47.987500</td>\n",
              "      <td>test</td>\n",
              "    </tr>\n",
              "  </tbody>\n",
              "</table>\n",
              "</div>\n",
              "      <button class=\"colab-df-convert\" onclick=\"convertToInteractive('df-5dd5dc6d-3b9c-4a81-8e74-f3a2bfa9237c')\"\n",
              "              title=\"Convert this dataframe to an interactive table.\"\n",
              "              style=\"display:none;\">\n",
              "        \n",
              "  <svg xmlns=\"http://www.w3.org/2000/svg\" height=\"24px\"viewBox=\"0 0 24 24\"\n",
              "       width=\"24px\">\n",
              "    <path d=\"M0 0h24v24H0V0z\" fill=\"none\"/>\n",
              "    <path d=\"M18.56 5.44l.94 2.06.94-2.06 2.06-.94-2.06-.94-.94-2.06-.94 2.06-2.06.94zm-11 1L8.5 8.5l.94-2.06 2.06-.94-2.06-.94L8.5 2.5l-.94 2.06-2.06.94zm10 10l.94 2.06.94-2.06 2.06-.94-2.06-.94-.94-2.06-.94 2.06-2.06.94z\"/><path d=\"M17.41 7.96l-1.37-1.37c-.4-.4-.92-.59-1.43-.59-.52 0-1.04.2-1.43.59L10.3 9.45l-7.72 7.72c-.78.78-.78 2.05 0 2.83L4 21.41c.39.39.9.59 1.41.59.51 0 1.02-.2 1.41-.59l7.78-7.78 2.81-2.81c.8-.78.8-2.07 0-2.86zM5.41 20L4 18.59l7.72-7.72 1.47 1.35L5.41 20z\"/>\n",
              "  </svg>\n",
              "      </button>\n",
              "      \n",
              "  <style>\n",
              "    .colab-df-container {\n",
              "      display:flex;\n",
              "      flex-wrap:wrap;\n",
              "      gap: 12px;\n",
              "    }\n",
              "\n",
              "    .colab-df-convert {\n",
              "      background-color: #E8F0FE;\n",
              "      border: none;\n",
              "      border-radius: 50%;\n",
              "      cursor: pointer;\n",
              "      display: none;\n",
              "      fill: #1967D2;\n",
              "      height: 32px;\n",
              "      padding: 0 0 0 0;\n",
              "      width: 32px;\n",
              "    }\n",
              "\n",
              "    .colab-df-convert:hover {\n",
              "      background-color: #E2EBFA;\n",
              "      box-shadow: 0px 1px 2px rgba(60, 64, 67, 0.3), 0px 1px 3px 1px rgba(60, 64, 67, 0.15);\n",
              "      fill: #174EA6;\n",
              "    }\n",
              "\n",
              "    [theme=dark] .colab-df-convert {\n",
              "      background-color: #3B4455;\n",
              "      fill: #D2E3FC;\n",
              "    }\n",
              "\n",
              "    [theme=dark] .colab-df-convert:hover {\n",
              "      background-color: #434B5C;\n",
              "      box-shadow: 0px 1px 3px 1px rgba(0, 0, 0, 0.15);\n",
              "      filter: drop-shadow(0px 1px 2px rgba(0, 0, 0, 0.3));\n",
              "      fill: #FFFFFF;\n",
              "    }\n",
              "  </style>\n",
              "\n",
              "      <script>\n",
              "        const buttonEl =\n",
              "          document.querySelector('#df-5dd5dc6d-3b9c-4a81-8e74-f3a2bfa9237c button.colab-df-convert');\n",
              "        buttonEl.style.display =\n",
              "          google.colab.kernel.accessAllowed ? 'block' : 'none';\n",
              "\n",
              "        async function convertToInteractive(key) {\n",
              "          const element = document.querySelector('#df-5dd5dc6d-3b9c-4a81-8e74-f3a2bfa9237c');\n",
              "          const dataTable =\n",
              "            await google.colab.kernel.invokeFunction('convertToInteractive',\n",
              "                                                     [key], {});\n",
              "          if (!dataTable) return;\n",
              "\n",
              "          const docLinkHtml = 'Like what you see? Visit the ' +\n",
              "            '<a target=\"_blank\" href=https://colab.research.google.com/notebooks/data_table.ipynb>data table notebook</a>'\n",
              "            + ' to learn more about interactive tables.';\n",
              "          element.innerHTML = '';\n",
              "          dataTable['output_type'] = 'display_data';\n",
              "          await google.colab.output.renderOutput(dataTable, element);\n",
              "          const docLink = document.createElement('div');\n",
              "          docLink.innerHTML = docLinkHtml;\n",
              "          element.appendChild(docLink);\n",
              "        }\n",
              "      </script>\n",
              "    </div>\n",
              "  </div>\n",
              "  "
            ]
          },
          "metadata": {},
          "execution_count": 10
        }
      ]
    },
    {
      "cell_type": "code",
      "execution_count": null,
      "id": "91a7556c",
      "metadata": {
        "colab": {
          "base_uri": "https://localhost:8080/",
          "height": 206
        },
        "id": "91a7556c",
        "outputId": "102a20f1-c5ae-485c-e93f-7dde757a1424"
      },
      "outputs": [
        {
          "output_type": "execute_result",
          "data": {
            "text/plain": [
              "  style  bpm beat_type time_signature  \\\n",
              "0  funk  138      beat            4-4   \n",
              "1  soul  102      beat            4-4   \n",
              "2  funk  105      beat            4-4   \n",
              "3  soul   86      beat            4-4   \n",
              "4  soul   80      beat            4-4   \n",
              "\n",
              "                                      audio_filename   duration  \n",
              "0  drummer1/eval_session/1_funk-groove1_138_beat_...  27.872308  \n",
              "1  drummer1/eval_session/10_soul-groove10_102_bea...  37.691158  \n",
              "2  drummer1/eval_session/2_funk-groove2_105_beat_...  36.351218  \n",
              "3  drummer1/eval_session/3_soul-groove3_86_beat_4...  44.716543  \n",
              "4  drummer1/eval_session/4_soul-groove4_80_beat_4...  47.987500  "
            ],
            "text/html": [
              "\n",
              "  <div id=\"df-487f1f44-9368-4dee-874e-21d5d7d4d299\">\n",
              "    <div class=\"colab-df-container\">\n",
              "      <div>\n",
              "<style scoped>\n",
              "    .dataframe tbody tr th:only-of-type {\n",
              "        vertical-align: middle;\n",
              "    }\n",
              "\n",
              "    .dataframe tbody tr th {\n",
              "        vertical-align: top;\n",
              "    }\n",
              "\n",
              "    .dataframe thead th {\n",
              "        text-align: right;\n",
              "    }\n",
              "</style>\n",
              "<table border=\"1\" class=\"dataframe\">\n",
              "  <thead>\n",
              "    <tr style=\"text-align: right;\">\n",
              "      <th></th>\n",
              "      <th>style</th>\n",
              "      <th>bpm</th>\n",
              "      <th>beat_type</th>\n",
              "      <th>time_signature</th>\n",
              "      <th>audio_filename</th>\n",
              "      <th>duration</th>\n",
              "    </tr>\n",
              "  </thead>\n",
              "  <tbody>\n",
              "    <tr>\n",
              "      <th>0</th>\n",
              "      <td>funk</td>\n",
              "      <td>138</td>\n",
              "      <td>beat</td>\n",
              "      <td>4-4</td>\n",
              "      <td>drummer1/eval_session/1_funk-groove1_138_beat_...</td>\n",
              "      <td>27.872308</td>\n",
              "    </tr>\n",
              "    <tr>\n",
              "      <th>1</th>\n",
              "      <td>soul</td>\n",
              "      <td>102</td>\n",
              "      <td>beat</td>\n",
              "      <td>4-4</td>\n",
              "      <td>drummer1/eval_session/10_soul-groove10_102_bea...</td>\n",
              "      <td>37.691158</td>\n",
              "    </tr>\n",
              "    <tr>\n",
              "      <th>2</th>\n",
              "      <td>funk</td>\n",
              "      <td>105</td>\n",
              "      <td>beat</td>\n",
              "      <td>4-4</td>\n",
              "      <td>drummer1/eval_session/2_funk-groove2_105_beat_...</td>\n",
              "      <td>36.351218</td>\n",
              "    </tr>\n",
              "    <tr>\n",
              "      <th>3</th>\n",
              "      <td>soul</td>\n",
              "      <td>86</td>\n",
              "      <td>beat</td>\n",
              "      <td>4-4</td>\n",
              "      <td>drummer1/eval_session/3_soul-groove3_86_beat_4...</td>\n",
              "      <td>44.716543</td>\n",
              "    </tr>\n",
              "    <tr>\n",
              "      <th>4</th>\n",
              "      <td>soul</td>\n",
              "      <td>80</td>\n",
              "      <td>beat</td>\n",
              "      <td>4-4</td>\n",
              "      <td>drummer1/eval_session/4_soul-groove4_80_beat_4...</td>\n",
              "      <td>47.987500</td>\n",
              "    </tr>\n",
              "  </tbody>\n",
              "</table>\n",
              "</div>\n",
              "      <button class=\"colab-df-convert\" onclick=\"convertToInteractive('df-487f1f44-9368-4dee-874e-21d5d7d4d299')\"\n",
              "              title=\"Convert this dataframe to an interactive table.\"\n",
              "              style=\"display:none;\">\n",
              "        \n",
              "  <svg xmlns=\"http://www.w3.org/2000/svg\" height=\"24px\"viewBox=\"0 0 24 24\"\n",
              "       width=\"24px\">\n",
              "    <path d=\"M0 0h24v24H0V0z\" fill=\"none\"/>\n",
              "    <path d=\"M18.56 5.44l.94 2.06.94-2.06 2.06-.94-2.06-.94-.94-2.06-.94 2.06-2.06.94zm-11 1L8.5 8.5l.94-2.06 2.06-.94-2.06-.94L8.5 2.5l-.94 2.06-2.06.94zm10 10l.94 2.06.94-2.06 2.06-.94-2.06-.94-.94-2.06-.94 2.06-2.06.94z\"/><path d=\"M17.41 7.96l-1.37-1.37c-.4-.4-.92-.59-1.43-.59-.52 0-1.04.2-1.43.59L10.3 9.45l-7.72 7.72c-.78.78-.78 2.05 0 2.83L4 21.41c.39.39.9.59 1.41.59.51 0 1.02-.2 1.41-.59l7.78-7.78 2.81-2.81c.8-.78.8-2.07 0-2.86zM5.41 20L4 18.59l7.72-7.72 1.47 1.35L5.41 20z\"/>\n",
              "  </svg>\n",
              "      </button>\n",
              "      \n",
              "  <style>\n",
              "    .colab-df-container {\n",
              "      display:flex;\n",
              "      flex-wrap:wrap;\n",
              "      gap: 12px;\n",
              "    }\n",
              "\n",
              "    .colab-df-convert {\n",
              "      background-color: #E8F0FE;\n",
              "      border: none;\n",
              "      border-radius: 50%;\n",
              "      cursor: pointer;\n",
              "      display: none;\n",
              "      fill: #1967D2;\n",
              "      height: 32px;\n",
              "      padding: 0 0 0 0;\n",
              "      width: 32px;\n",
              "    }\n",
              "\n",
              "    .colab-df-convert:hover {\n",
              "      background-color: #E2EBFA;\n",
              "      box-shadow: 0px 1px 2px rgba(60, 64, 67, 0.3), 0px 1px 3px 1px rgba(60, 64, 67, 0.15);\n",
              "      fill: #174EA6;\n",
              "    }\n",
              "\n",
              "    [theme=dark] .colab-df-convert {\n",
              "      background-color: #3B4455;\n",
              "      fill: #D2E3FC;\n",
              "    }\n",
              "\n",
              "    [theme=dark] .colab-df-convert:hover {\n",
              "      background-color: #434B5C;\n",
              "      box-shadow: 0px 1px 3px 1px rgba(0, 0, 0, 0.15);\n",
              "      filter: drop-shadow(0px 1px 2px rgba(0, 0, 0, 0.3));\n",
              "      fill: #FFFFFF;\n",
              "    }\n",
              "  </style>\n",
              "\n",
              "      <script>\n",
              "        const buttonEl =\n",
              "          document.querySelector('#df-487f1f44-9368-4dee-874e-21d5d7d4d299 button.colab-df-convert');\n",
              "        buttonEl.style.display =\n",
              "          google.colab.kernel.accessAllowed ? 'block' : 'none';\n",
              "\n",
              "        async function convertToInteractive(key) {\n",
              "          const element = document.querySelector('#df-487f1f44-9368-4dee-874e-21d5d7d4d299');\n",
              "          const dataTable =\n",
              "            await google.colab.kernel.invokeFunction('convertToInteractive',\n",
              "                                                     [key], {});\n",
              "          if (!dataTable) return;\n",
              "\n",
              "          const docLinkHtml = 'Like what you see? Visit the ' +\n",
              "            '<a target=\"_blank\" href=https://colab.research.google.com/notebooks/data_table.ipynb>data table notebook</a>'\n",
              "            + ' to learn more about interactive tables.';\n",
              "          element.innerHTML = '';\n",
              "          dataTable['output_type'] = 'display_data';\n",
              "          await google.colab.output.renderOutput(dataTable, element);\n",
              "          const docLink = document.createElement('div');\n",
              "          docLink.innerHTML = docLinkHtml;\n",
              "          element.appendChild(docLink);\n",
              "        }\n",
              "      </script>\n",
              "    </div>\n",
              "  </div>\n",
              "  "
            ]
          },
          "metadata": {},
          "execution_count": 11
        }
      ],
      "source": [
        "df_drummers = processing_drummers(df)\n",
        "df_drummers.head()"
      ]
    },
    {
      "cell_type": "code",
      "execution_count": null,
      "id": "f6528023",
      "metadata": {
        "colab": {
          "base_uri": "https://localhost:8080/"
        },
        "id": "f6528023",
        "outputId": "2e57b43e-6030-441e-94c1-35d7ec48138f"
      },
      "outputs": [
        {
          "output_type": "stream",
          "name": "stdout",
          "text": [
            "<class 'pandas.core.frame.DataFrame'>\n",
            "Int64Index: 444 entries, 0 to 1133\n",
            "Data columns (total 6 columns):\n",
            " #   Column          Non-Null Count  Dtype  \n",
            "---  ------          --------------  -----  \n",
            " 0   style           444 non-null    object \n",
            " 1   bpm             444 non-null    int64  \n",
            " 2   beat_type       444 non-null    object \n",
            " 3   time_signature  444 non-null    object \n",
            " 4   audio_filename  444 non-null    object \n",
            " 5   duration        444 non-null    float64\n",
            "dtypes: float64(1), int64(1), object(4)\n",
            "memory usage: 24.3+ KB\n"
          ]
        }
      ],
      "source": [
        "df_drummers.info()"
      ]
    },
    {
      "cell_type": "code",
      "execution_count": null,
      "id": "9b3ef99a",
      "metadata": {
        "colab": {
          "base_uri": "https://localhost:8080/"
        },
        "id": "9b3ef99a",
        "outputId": "1e488495-6aa2-4cfb-dfe6-b39a886b376a"
      },
      "outputs": [
        {
          "output_type": "execute_result",
          "data": {
            "text/plain": [
              "style             0\n",
              "bpm               0\n",
              "beat_type         0\n",
              "time_signature    0\n",
              "audio_filename    0\n",
              "duration          0\n",
              "dtype: int64"
            ]
          },
          "metadata": {},
          "execution_count": 13
        }
      ],
      "source": [
        "df_drummers.isnull().sum()"
      ]
    },
    {
      "cell_type": "code",
      "execution_count": null,
      "id": "8d7ca868",
      "metadata": {
        "colab": {
          "base_uri": "https://localhost:8080/",
          "height": 614
        },
        "id": "8d7ca868",
        "outputId": "105cc7a0-c50b-4e24-a2f9-3503c86f534e"
      },
      "outputs": [
        {
          "output_type": "execute_result",
          "data": {
            "text/plain": [
              "               bpm  beat_type  time_signature  audio_filename  duration\n",
              "style                                                                  \n",
              "afrobeat         4          4               4               4         4\n",
              "afrocuban        7          7               7               7         7\n",
              "blues            4          4               4               4         4\n",
              "country          2          2               2               2         2\n",
              "dance            5          5               5               5         5\n",
              "funk            45         45              45              45        45\n",
              "gospel           1          1               1               1         1\n",
              "hiphop          32         32              32              32        32\n",
              "jazz            50         50              50              50        50\n",
              "latin           42         42              42              42        42\n",
              "middleeastern    1          1               1               1         1\n",
              "neworleans      11         11              11              11        11\n",
              "pop             15         15              15              15        15\n",
              "punk             7          7               7               7         7\n",
              "reggae           4          4               4               4         4\n",
              "rock           186        186             186             186       186\n",
              "soul            28         28              28              28        28"
            ],
            "text/html": [
              "\n",
              "  <div id=\"df-bf7b3bb7-855f-45ed-b125-df64ffcb8d0e\">\n",
              "    <div class=\"colab-df-container\">\n",
              "      <div>\n",
              "<style scoped>\n",
              "    .dataframe tbody tr th:only-of-type {\n",
              "        vertical-align: middle;\n",
              "    }\n",
              "\n",
              "    .dataframe tbody tr th {\n",
              "        vertical-align: top;\n",
              "    }\n",
              "\n",
              "    .dataframe thead th {\n",
              "        text-align: right;\n",
              "    }\n",
              "</style>\n",
              "<table border=\"1\" class=\"dataframe\">\n",
              "  <thead>\n",
              "    <tr style=\"text-align: right;\">\n",
              "      <th></th>\n",
              "      <th>bpm</th>\n",
              "      <th>beat_type</th>\n",
              "      <th>time_signature</th>\n",
              "      <th>audio_filename</th>\n",
              "      <th>duration</th>\n",
              "    </tr>\n",
              "    <tr>\n",
              "      <th>style</th>\n",
              "      <th></th>\n",
              "      <th></th>\n",
              "      <th></th>\n",
              "      <th></th>\n",
              "      <th></th>\n",
              "    </tr>\n",
              "  </thead>\n",
              "  <tbody>\n",
              "    <tr>\n",
              "      <th>afrobeat</th>\n",
              "      <td>4</td>\n",
              "      <td>4</td>\n",
              "      <td>4</td>\n",
              "      <td>4</td>\n",
              "      <td>4</td>\n",
              "    </tr>\n",
              "    <tr>\n",
              "      <th>afrocuban</th>\n",
              "      <td>7</td>\n",
              "      <td>7</td>\n",
              "      <td>7</td>\n",
              "      <td>7</td>\n",
              "      <td>7</td>\n",
              "    </tr>\n",
              "    <tr>\n",
              "      <th>blues</th>\n",
              "      <td>4</td>\n",
              "      <td>4</td>\n",
              "      <td>4</td>\n",
              "      <td>4</td>\n",
              "      <td>4</td>\n",
              "    </tr>\n",
              "    <tr>\n",
              "      <th>country</th>\n",
              "      <td>2</td>\n",
              "      <td>2</td>\n",
              "      <td>2</td>\n",
              "      <td>2</td>\n",
              "      <td>2</td>\n",
              "    </tr>\n",
              "    <tr>\n",
              "      <th>dance</th>\n",
              "      <td>5</td>\n",
              "      <td>5</td>\n",
              "      <td>5</td>\n",
              "      <td>5</td>\n",
              "      <td>5</td>\n",
              "    </tr>\n",
              "    <tr>\n",
              "      <th>funk</th>\n",
              "      <td>45</td>\n",
              "      <td>45</td>\n",
              "      <td>45</td>\n",
              "      <td>45</td>\n",
              "      <td>45</td>\n",
              "    </tr>\n",
              "    <tr>\n",
              "      <th>gospel</th>\n",
              "      <td>1</td>\n",
              "      <td>1</td>\n",
              "      <td>1</td>\n",
              "      <td>1</td>\n",
              "      <td>1</td>\n",
              "    </tr>\n",
              "    <tr>\n",
              "      <th>hiphop</th>\n",
              "      <td>32</td>\n",
              "      <td>32</td>\n",
              "      <td>32</td>\n",
              "      <td>32</td>\n",
              "      <td>32</td>\n",
              "    </tr>\n",
              "    <tr>\n",
              "      <th>jazz</th>\n",
              "      <td>50</td>\n",
              "      <td>50</td>\n",
              "      <td>50</td>\n",
              "      <td>50</td>\n",
              "      <td>50</td>\n",
              "    </tr>\n",
              "    <tr>\n",
              "      <th>latin</th>\n",
              "      <td>42</td>\n",
              "      <td>42</td>\n",
              "      <td>42</td>\n",
              "      <td>42</td>\n",
              "      <td>42</td>\n",
              "    </tr>\n",
              "    <tr>\n",
              "      <th>middleeastern</th>\n",
              "      <td>1</td>\n",
              "      <td>1</td>\n",
              "      <td>1</td>\n",
              "      <td>1</td>\n",
              "      <td>1</td>\n",
              "    </tr>\n",
              "    <tr>\n",
              "      <th>neworleans</th>\n",
              "      <td>11</td>\n",
              "      <td>11</td>\n",
              "      <td>11</td>\n",
              "      <td>11</td>\n",
              "      <td>11</td>\n",
              "    </tr>\n",
              "    <tr>\n",
              "      <th>pop</th>\n",
              "      <td>15</td>\n",
              "      <td>15</td>\n",
              "      <td>15</td>\n",
              "      <td>15</td>\n",
              "      <td>15</td>\n",
              "    </tr>\n",
              "    <tr>\n",
              "      <th>punk</th>\n",
              "      <td>7</td>\n",
              "      <td>7</td>\n",
              "      <td>7</td>\n",
              "      <td>7</td>\n",
              "      <td>7</td>\n",
              "    </tr>\n",
              "    <tr>\n",
              "      <th>reggae</th>\n",
              "      <td>4</td>\n",
              "      <td>4</td>\n",
              "      <td>4</td>\n",
              "      <td>4</td>\n",
              "      <td>4</td>\n",
              "    </tr>\n",
              "    <tr>\n",
              "      <th>rock</th>\n",
              "      <td>186</td>\n",
              "      <td>186</td>\n",
              "      <td>186</td>\n",
              "      <td>186</td>\n",
              "      <td>186</td>\n",
              "    </tr>\n",
              "    <tr>\n",
              "      <th>soul</th>\n",
              "      <td>28</td>\n",
              "      <td>28</td>\n",
              "      <td>28</td>\n",
              "      <td>28</td>\n",
              "      <td>28</td>\n",
              "    </tr>\n",
              "  </tbody>\n",
              "</table>\n",
              "</div>\n",
              "      <button class=\"colab-df-convert\" onclick=\"convertToInteractive('df-bf7b3bb7-855f-45ed-b125-df64ffcb8d0e')\"\n",
              "              title=\"Convert this dataframe to an interactive table.\"\n",
              "              style=\"display:none;\">\n",
              "        \n",
              "  <svg xmlns=\"http://www.w3.org/2000/svg\" height=\"24px\"viewBox=\"0 0 24 24\"\n",
              "       width=\"24px\">\n",
              "    <path d=\"M0 0h24v24H0V0z\" fill=\"none\"/>\n",
              "    <path d=\"M18.56 5.44l.94 2.06.94-2.06 2.06-.94-2.06-.94-.94-2.06-.94 2.06-2.06.94zm-11 1L8.5 8.5l.94-2.06 2.06-.94-2.06-.94L8.5 2.5l-.94 2.06-2.06.94zm10 10l.94 2.06.94-2.06 2.06-.94-2.06-.94-.94-2.06-.94 2.06-2.06.94z\"/><path d=\"M17.41 7.96l-1.37-1.37c-.4-.4-.92-.59-1.43-.59-.52 0-1.04.2-1.43.59L10.3 9.45l-7.72 7.72c-.78.78-.78 2.05 0 2.83L4 21.41c.39.39.9.59 1.41.59.51 0 1.02-.2 1.41-.59l7.78-7.78 2.81-2.81c.8-.78.8-2.07 0-2.86zM5.41 20L4 18.59l7.72-7.72 1.47 1.35L5.41 20z\"/>\n",
              "  </svg>\n",
              "      </button>\n",
              "      \n",
              "  <style>\n",
              "    .colab-df-container {\n",
              "      display:flex;\n",
              "      flex-wrap:wrap;\n",
              "      gap: 12px;\n",
              "    }\n",
              "\n",
              "    .colab-df-convert {\n",
              "      background-color: #E8F0FE;\n",
              "      border: none;\n",
              "      border-radius: 50%;\n",
              "      cursor: pointer;\n",
              "      display: none;\n",
              "      fill: #1967D2;\n",
              "      height: 32px;\n",
              "      padding: 0 0 0 0;\n",
              "      width: 32px;\n",
              "    }\n",
              "\n",
              "    .colab-df-convert:hover {\n",
              "      background-color: #E2EBFA;\n",
              "      box-shadow: 0px 1px 2px rgba(60, 64, 67, 0.3), 0px 1px 3px 1px rgba(60, 64, 67, 0.15);\n",
              "      fill: #174EA6;\n",
              "    }\n",
              "\n",
              "    [theme=dark] .colab-df-convert {\n",
              "      background-color: #3B4455;\n",
              "      fill: #D2E3FC;\n",
              "    }\n",
              "\n",
              "    [theme=dark] .colab-df-convert:hover {\n",
              "      background-color: #434B5C;\n",
              "      box-shadow: 0px 1px 3px 1px rgba(0, 0, 0, 0.15);\n",
              "      filter: drop-shadow(0px 1px 2px rgba(0, 0, 0, 0.3));\n",
              "      fill: #FFFFFF;\n",
              "    }\n",
              "  </style>\n",
              "\n",
              "      <script>\n",
              "        const buttonEl =\n",
              "          document.querySelector('#df-bf7b3bb7-855f-45ed-b125-df64ffcb8d0e button.colab-df-convert');\n",
              "        buttonEl.style.display =\n",
              "          google.colab.kernel.accessAllowed ? 'block' : 'none';\n",
              "\n",
              "        async function convertToInteractive(key) {\n",
              "          const element = document.querySelector('#df-bf7b3bb7-855f-45ed-b125-df64ffcb8d0e');\n",
              "          const dataTable =\n",
              "            await google.colab.kernel.invokeFunction('convertToInteractive',\n",
              "                                                     [key], {});\n",
              "          if (!dataTable) return;\n",
              "\n",
              "          const docLinkHtml = 'Like what you see? Visit the ' +\n",
              "            '<a target=\"_blank\" href=https://colab.research.google.com/notebooks/data_table.ipynb>data table notebook</a>'\n",
              "            + ' to learn more about interactive tables.';\n",
              "          element.innerHTML = '';\n",
              "          dataTable['output_type'] = 'display_data';\n",
              "          await google.colab.output.renderOutput(dataTable, element);\n",
              "          const docLink = document.createElement('div');\n",
              "          docLink.innerHTML = docLinkHtml;\n",
              "          element.appendChild(docLink);\n",
              "        }\n",
              "      </script>\n",
              "    </div>\n",
              "  </div>\n",
              "  "
            ]
          },
          "metadata": {},
          "execution_count": 14
        }
      ],
      "source": [
        "df_drummers.groupby(by='style').count()"
      ]
    },
    {
      "cell_type": "code",
      "execution_count": null,
      "id": "1b06d3e8",
      "metadata": {
        "id": "1b06d3e8"
      },
      "outputs": [],
      "source": [
        "df_train, df_test = train_test_split(df_drummers, test_size=0.2, random_state=7)"
      ]
    },
    {
      "cell_type": "code",
      "execution_count": null,
      "id": "6791f8b0",
      "metadata": {
        "scrolled": true,
        "colab": {
          "base_uri": "https://localhost:8080/"
        },
        "id": "6791f8b0",
        "outputId": "c600c69f-bb5e-4fb2-81df-e5b0007454d9"
      },
      "outputs": [
        {
          "output_type": "stream",
          "name": "stdout",
          "text": [
            "<class 'pandas.core.frame.DataFrame'>\n",
            "Int64Index: 355 entries, 224 to 585\n",
            "Data columns (total 6 columns):\n",
            " #   Column          Non-Null Count  Dtype  \n",
            "---  ------          --------------  -----  \n",
            " 0   style           355 non-null    object \n",
            " 1   bpm             355 non-null    int64  \n",
            " 2   beat_type       355 non-null    object \n",
            " 3   time_signature  355 non-null    object \n",
            " 4   audio_filename  355 non-null    object \n",
            " 5   duration        355 non-null    float64\n",
            "dtypes: float64(1), int64(1), object(4)\n",
            "memory usage: 19.4+ KB\n"
          ]
        }
      ],
      "source": [
        "df_train.info()"
      ]
    },
    {
      "cell_type": "code",
      "execution_count": null,
      "id": "23469c0d",
      "metadata": {
        "colab": {
          "base_uri": "https://localhost:8080/"
        },
        "id": "23469c0d",
        "outputId": "5e8301ba-2933-4376-8551-84ae4d61771c"
      },
      "outputs": [
        {
          "output_type": "execute_result",
          "data": {
            "text/plain": [
              "(355, 6)"
            ]
          },
          "metadata": {},
          "execution_count": 17
        }
      ],
      "source": [
        "df_train.shape"
      ]
    },
    {
      "cell_type": "code",
      "execution_count": null,
      "id": "8492829a",
      "metadata": {
        "colab": {
          "base_uri": "https://localhost:8080/"
        },
        "id": "8492829a",
        "outputId": "115cf8b1-995e-4462-f497-223ff44d9c37"
      },
      "outputs": [
        {
          "output_type": "stream",
          "name": "stdout",
          "text": [
            "<class 'pandas.core.frame.DataFrame'>\n",
            "Int64Index: 355 entries, 224 to 585\n",
            "Data columns (total 6 columns):\n",
            " #   Column          Non-Null Count  Dtype  \n",
            "---  ------          --------------  -----  \n",
            " 0   style           355 non-null    object \n",
            " 1   bpm             355 non-null    int64  \n",
            " 2   beat_type       355 non-null    object \n",
            " 3   time_signature  355 non-null    object \n",
            " 4   audio_filename  355 non-null    object \n",
            " 5   duration        355 non-null    float64\n",
            "dtypes: float64(1), int64(1), object(4)\n",
            "memory usage: 19.4+ KB\n"
          ]
        }
      ],
      "source": [
        "# slice_ = int(0.6 * df_train.shape[0])\n",
        "# df_slice = df_train.iloc[0:slice_]\n",
        "df_slice = df_train\n",
        "df_slice.info()"
      ]
    },
    {
      "cell_type": "code",
      "execution_count": null,
      "id": "774c5aef",
      "metadata": {
        "id": "774c5aef"
      },
      "outputs": [],
      "source": [
        "waveforms, sr, y = process_audiofiles(loc, df_slice)"
      ]
    },
    {
      "cell_type": "code",
      "execution_count": null,
      "id": "568bc61c",
      "metadata": {
        "colab": {
          "base_uri": "https://localhost:8080/"
        },
        "id": "568bc61c",
        "outputId": "ba6f4652-3cf5-4436-9b0d-6a74c358fbf6"
      },
      "outputs": [
        {
          "output_type": "stream",
          "name": "stdout",
          "text": [
            "(355, 132300)\n",
            "(355,)\n",
            "(355,)\n"
          ]
        }
      ],
      "source": [
        "print(waveforms.shape)\n",
        "print(sr.shape)\n",
        "print(y.shape)"
      ]
    },
    {
      "cell_type": "code",
      "execution_count": null,
      "id": "927df824",
      "metadata": {
        "id": "927df824"
      },
      "outputs": [],
      "source": [
        "mfccs = spectogram_mfccs(waveforms, sr)\n",
        "spectogram_feat = spectogram_stft(waveforms)\n",
        "melspect = spectogram_mel(waveforms, sr)\n",
        "chroma = spectogram_chroma(waveforms, sr)"
      ]
    },
    {
      "cell_type": "code",
      "execution_count": null,
      "id": "c08c5918",
      "metadata": {
        "colab": {
          "base_uri": "https://localhost:8080/"
        },
        "id": "c08c5918",
        "outputId": "34e1f726-c2a3-4478-c824-43aea36d51f9"
      },
      "outputs": [
        {
          "output_type": "stream",
          "name": "stdout",
          "text": [
            "(355, 128, 259)\n",
            "(355, 1025, 259)\n",
            "(355, 128, 259)\n",
            "(355, 12, 259)\n"
          ]
        }
      ],
      "source": [
        "print(mfccs.shape)\n",
        "print(spectogram_feat.shape)\n",
        "print(melspect.shape)\n",
        "print(chroma.shape)"
      ]
    },
    {
      "cell_type": "code",
      "execution_count": null,
      "id": "24daee20",
      "metadata": {
        "colab": {
          "base_uri": "https://localhost:8080/"
        },
        "id": "24daee20",
        "outputId": "faeac791-f0ea-4761-b737-5e93403fa440"
      },
      "outputs": [
        {
          "output_type": "stream",
          "name": "stdout",
          "text": [
            "(355, 128, 259)\n"
          ]
        }
      ],
      "source": [
        "chroma_padded = padding(chroma, size=mfccs.shape[1], axis=1)\n",
        "print(chroma_padded.shape)"
      ]
    },
    {
      "cell_type": "code",
      "execution_count": null,
      "id": "547271e8",
      "metadata": {
        "colab": {
          "base_uri": "https://localhost:8080/"
        },
        "id": "547271e8",
        "outputId": "e93d8087-2f33-450b-ce2a-757fed883188"
      },
      "outputs": [
        {
          "output_type": "stream",
          "name": "stdout",
          "text": [
            "(355, 1025, 259)\n",
            "(355, 128, 259)\n",
            "(355, 128, 259)\n",
            "(355, 128, 259)\n"
          ]
        }
      ],
      "source": [
        "spectogram_feat_norm = minmaxscaling(spectogram_feat)\n",
        "mfccs_norm = minmaxscaling(mfccs)\n",
        "melspect_norm = minmaxscaling(melspect)\n",
        "chroma_padded_norm = minmaxscaling(chroma_padded)\n",
        "print(spectogram_feat_norm.shape)\n",
        "print(mfccs_norm.shape)\n",
        "print(melspect_norm.shape)\n",
        "print(chroma_padded_norm.shape)"
      ]
    },
    {
      "cell_type": "code",
      "execution_count": null,
      "id": "e097aaca",
      "metadata": {
        "colab": {
          "base_uri": "https://localhost:8080/"
        },
        "id": "e097aaca",
        "outputId": "c8306453-96ea-4d48-9262-6b373e0a5cf7"
      },
      "outputs": [
        {
          "output_type": "stream",
          "name": "stdout",
          "text": [
            "(355, 128, 259, 3)\n"
          ]
        },
        {
          "output_type": "execute_result",
          "data": {
            "text/plain": [
              "(355, 1025, 259, 1)"
            ]
          },
          "metadata": {},
          "execution_count": 28
        }
      ],
      "source": [
        "stacked = librosa.util.stack([mfccs_norm, melspect_norm, chroma_padded_norm], axis=3)\n",
        "spectogram_feat_norm = np.expand_dims(spectogram_feat_norm, axis=-1)\n",
        "print(stacked.shape)\n",
        "spectogram_feat_norm.shape"
      ]
    },
    {
      "cell_type": "code",
      "execution_count": null,
      "id": "5371812f",
      "metadata": {
        "id": "5371812f"
      },
      "outputs": [],
      "source": [
        "encoder = LabelEncoder()\n",
        "encoder.fit(y)\n",
        "y_cat = to_categorical(encoder.transform(y))\n",
        "X_2 = stacked\n",
        "X_1 = spectogram_feat_norm"
      ]
    },
    {
      "cell_type": "code",
      "execution_count": null,
      "id": "0695031f",
      "metadata": {
        "id": "0695031f"
      },
      "outputs": [],
      "source": [
        "def initialize_CNNmodel_1(X, y):\n",
        "\n",
        "    '''\n",
        "    First CNN Architecture, simple to avoid overfitting.\n",
        "    We should add up complication step-by-step.\n",
        "    '''\n",
        "    # For this dummy we have taken into account the mfccs size for height and width parameters\n",
        "    input_shape=(X.shape[1:]) # (height, width, channels)\n",
        "    CNNmodel = models.Sequential()\n",
        "    CNNmodel.add(layers.Conv2D(32, kernel_size=(11, 11), activation='relu', input_shape=input_shape))\n",
        "    CNNmodel.add(layers.MaxPooling2D(pool_size=(4, 4)))\n",
        "    CNNmodel.add(layers.Conv2D(16, kernel_size=(7, 7), activation='relu'))\n",
        "    CNNmodel.add(layers.MaxPooling2D(pool_size=(2, 2)))\n",
        "    CNNmodel.add(layers.Conv2D(8, kernel_size=(3, 3), activation='relu'))\n",
        "    CNNmodel.add(layers.MaxPooling2D(pool_size=(2, 2)))\n",
        "    CNNmodel.add(layers.Flatten())\n",
        "    CNNmodel.add(layers.Dense(32, activation='relu'))\n",
        "#     CNNmodel.add(layers.Dense(y.shape[1], activation='softmax'))\n",
        "    \n",
        "#     CNNmodel.compile(loss='categorical_crossentropy', optimizer='adam', metrics=['accuracy', 'f1score'])\n",
        "    \n",
        "    return CNNmodel\n",
        "\n",
        "def initialize_CNNmodel_2(X, y):\n",
        "\n",
        "    '''\n",
        "    Second CNN Architecture, simple to avoid overfitting.\n",
        "    We should add up complication step-by-step.\n",
        "    '''\n",
        "    # For this dummy we have taken into account the mfccs size for height and width parameters\n",
        "    input_shape=(X.shape[1:]) # (height, width, channels)\n",
        "    CNNmodel = models.Sequential()\n",
        "    CNNmodel.add(layers.Conv2D(32, kernel_size=(3, 3), activation='relu', input_shape=input_shape))\n",
        "    CNNmodel.add(layers.MaxPooling2D(pool_size=(4, 4)))\n",
        "    CNNmodel.add(layers.Conv2D(16, kernel_size=(3, 3), activation='relu'))\n",
        "    CNNmodel.add(layers.MaxPooling2D(pool_size=(2, 2)))\n",
        "    CNNmodel.add(layers.Conv2D(8, kernel_size=(3, 3), activation='relu'))\n",
        "    CNNmodel.add(layers.MaxPooling2D(pool_size=(2, 2)))\n",
        "    CNNmodel.add(layers.Flatten())\n",
        "    CNNmodel.add(layers.Dense(32, activation='relu'))\n",
        "#     CNNmodel.add(layers.Dense(y.shape[1], activation='softmax'))\n",
        "    \n",
        "#     CNNmodel.compile(loss='categorical_crossentropy', optimizer='adam', metrics=['accuracy', 'f1score'])\n",
        "    \n",
        "    return CNNmodel"
      ]
    },
    {
      "cell_type": "code",
      "execution_count": null,
      "id": "2a54fa71",
      "metadata": {
        "id": "2a54fa71"
      },
      "outputs": [],
      "source": [
        "# Define Inputs and Outputs of both CNN networks\n",
        "\n",
        "CNNmodel_1 = initialize_CNNmodel_1(X_1, y_cat) # comment-out to keep pre-trained weights not to start from scratch\n",
        "input_CNN_1 = CNNmodel_1.input\n",
        "output_CNN_1 = CNNmodel_1.output\n",
        "\n",
        "CNNmodel_2 = initialize_CNNmodel_2(X_2, y_cat) # comment-out to keep pre-trained weights not to start from scratch\n",
        "input_CNN_2 = CNNmodel_2.input\n",
        "output_CNN_2 = CNNmodel_2.output"
      ]
    },
    {
      "cell_type": "code",
      "execution_count": null,
      "id": "9db3a8a7",
      "metadata": {
        "colab": {
          "base_uri": "https://localhost:8080/",
          "height": 1000
        },
        "id": "9db3a8a7",
        "outputId": "d7058a99-a763-4a29-87bc-ec08ab7a520c"
      },
      "outputs": [
        {
          "output_type": "execute_result",
          "data": {
            "image/png": "[encoded data removed]",
            "text/plain": [
              "<IPython.core.display.Image object>"
            ]
          },
          "metadata": {},
          "execution_count": 32
        }
      ],
      "source": [
        "# Let's combine the two streams of data and add two dense layers on top!\n",
        "inputs = [input_CNN_1, input_CNN_2]\n",
        "\n",
        "combined = layers.concatenate([output_CNN_1, output_CNN_2])\n",
        "\n",
        "outputs = layers.Dense(y_cat.shape[1], activation=\"softmax\")(combined)\n",
        "\n",
        "CNNmodel_combined = models.Model(inputs=inputs, outputs=outputs)\n",
        "\n",
        "plot_model(CNNmodel_combined, \"multi_input_model.png\", show_shapes=True)"
      ]
    },
    {
      "cell_type": "code",
      "execution_count": null,
      "id": "e1ab0363",
      "metadata": {
        "colab": {
          "base_uri": "https://localhost:8080/"
        },
        "id": "e1ab0363",
        "outputId": "32ed36f0-0d68-49e8-eb4d-0279b151992e"
      },
      "outputs": [
        {
          "output_type": "stream",
          "name": "stdout",
          "text": [
            "Epoch 1/250\n",
            "16/16 [==============================] - 7s 204ms/step - loss: 2.2445 - accuracy: 0.3871 - val_loss: 2.3332 - val_accuracy: 0.4019\n",
            "Epoch 2/250\n",
            "16/16 [==============================] - 2s 118ms/step - loss: 2.0578 - accuracy: 0.4113 - val_loss: 2.3726 - val_accuracy: 0.4019\n",
            "Epoch 3/250\n",
            "16/16 [==============================] - 2s 118ms/step - loss: 1.9951 - accuracy: 0.4113 - val_loss: 2.3432 - val_accuracy: 0.4019\n",
            "Epoch 4/250\n",
            "16/16 [==============================] - 2s 118ms/step - loss: 2.0044 - accuracy: 0.4113 - val_loss: 2.3220 - val_accuracy: 0.4019\n",
            "Epoch 5/250\n",
            "16/16 [==============================] - 2s 117ms/step - loss: 1.9776 - accuracy: 0.4113 - val_loss: 2.3817 - val_accuracy: 0.4019\n",
            "Epoch 6/250\n",
            "16/16 [==============================] - 2s 118ms/step - loss: 1.9555 - accuracy: 0.4113 - val_loss: 2.3828 - val_accuracy: 0.4019\n",
            "Epoch 7/250\n",
            "16/16 [==============================] - 2s 118ms/step - loss: 1.9600 - accuracy: 0.4113 - val_loss: 2.3410 - val_accuracy: 0.4019\n",
            "Epoch 8/250\n",
            "16/16 [==============================] - 2s 118ms/step - loss: 1.9557 - accuracy: 0.4113 - val_loss: 2.3449 - val_accuracy: 0.4019\n",
            "Epoch 9/250\n",
            "16/16 [==============================] - 2s 119ms/step - loss: 1.9386 - accuracy: 0.4113 - val_loss: 2.3033 - val_accuracy: 0.4019\n",
            "Epoch 10/250\n",
            "16/16 [==============================] - 2s 119ms/step - loss: 1.9606 - accuracy: 0.4113 - val_loss: 2.3280 - val_accuracy: 0.4019\n",
            "Epoch 11/250\n",
            "16/16 [==============================] - 2s 118ms/step - loss: 1.9042 - accuracy: 0.4113 - val_loss: 2.3094 - val_accuracy: 0.4019\n",
            "Epoch 12/250\n",
            "16/16 [==============================] - 2s 118ms/step - loss: 1.8696 - accuracy: 0.4113 - val_loss: 2.3508 - val_accuracy: 0.3925\n",
            "Epoch 13/250\n",
            "16/16 [==============================] - 2s 118ms/step - loss: 1.8430 - accuracy: 0.4073 - val_loss: 2.3836 - val_accuracy: 0.4019\n",
            "Epoch 14/250\n",
            "16/16 [==============================] - 2s 120ms/step - loss: 1.8376 - accuracy: 0.3952 - val_loss: 2.3328 - val_accuracy: 0.4019\n",
            "Epoch 15/250\n",
            "16/16 [==============================] - 2s 119ms/step - loss: 1.8123 - accuracy: 0.4234 - val_loss: 2.4148 - val_accuracy: 0.3832\n",
            "Epoch 16/250\n",
            "16/16 [==============================] - 2s 118ms/step - loss: 1.7770 - accuracy: 0.4395 - val_loss: 2.4110 - val_accuracy: 0.3832\n",
            "Epoch 17/250\n",
            "16/16 [==============================] - 2s 120ms/step - loss: 1.6545 - accuracy: 0.4516 - val_loss: 2.3624 - val_accuracy: 0.3738\n",
            "Epoch 18/250\n",
            "16/16 [==============================] - 2s 119ms/step - loss: 1.5619 - accuracy: 0.4677 - val_loss: 2.2917 - val_accuracy: 0.4019\n",
            "Epoch 19/250\n",
            "16/16 [==============================] - 2s 118ms/step - loss: 1.4540 - accuracy: 0.5323 - val_loss: 2.5105 - val_accuracy: 0.3832\n",
            "Epoch 20/250\n",
            "16/16 [==============================] - 2s 119ms/step - loss: 1.3190 - accuracy: 0.5444 - val_loss: 2.4753 - val_accuracy: 0.4112\n",
            "Epoch 21/250\n",
            "16/16 [==============================] - 2s 119ms/step - loss: 1.1436 - accuracy: 0.6411 - val_loss: 2.6702 - val_accuracy: 0.3178\n",
            "Epoch 22/250\n",
            "16/16 [==============================] - 2s 119ms/step - loss: 1.0933 - accuracy: 0.6492 - val_loss: 2.6704 - val_accuracy: 0.3925\n",
            "Epoch 23/250\n",
            "16/16 [==============================] - 2s 119ms/step - loss: 1.1238 - accuracy: 0.6008 - val_loss: 2.8631 - val_accuracy: 0.3738\n",
            "Epoch 24/250\n",
            "16/16 [==============================] - 2s 119ms/step - loss: 0.8960 - accuracy: 0.6935 - val_loss: 3.2985 - val_accuracy: 0.3832\n",
            "Epoch 25/250\n",
            "16/16 [==============================] - 2s 120ms/step - loss: 0.8136 - accuracy: 0.7016 - val_loss: 2.9558 - val_accuracy: 0.4206\n",
            "Epoch 26/250\n",
            "16/16 [==============================] - 2s 119ms/step - loss: 0.6600 - accuracy: 0.7823 - val_loss: 3.2038 - val_accuracy: 0.4299\n",
            "Epoch 27/250\n",
            "16/16 [==============================] - 2s 121ms/step - loss: 0.5402 - accuracy: 0.8145 - val_loss: 3.9037 - val_accuracy: 0.3645\n",
            "Epoch 28/250\n",
            "16/16 [==============================] - 2s 119ms/step - loss: 0.4286 - accuracy: 0.8790 - val_loss: 3.8565 - val_accuracy: 0.4393\n",
            "Epoch 29/250\n",
            "16/16 [==============================] - 2s 119ms/step - loss: 0.3958 - accuracy: 0.8710 - val_loss: 4.3612 - val_accuracy: 0.2991\n",
            "Epoch 30/250\n",
            "16/16 [==============================] - 2s 120ms/step - loss: 0.4134 - accuracy: 0.8710 - val_loss: 4.2055 - val_accuracy: 0.4019\n",
            "Epoch 31/250\n",
            "16/16 [==============================] - 2s 122ms/step - loss: 0.3212 - accuracy: 0.9153 - val_loss: 4.7036 - val_accuracy: 0.4393\n",
            "Epoch 32/250\n",
            "16/16 [==============================] - 2s 122ms/step - loss: 0.2629 - accuracy: 0.9274 - val_loss: 4.8607 - val_accuracy: 0.4393\n",
            "Epoch 33/250\n",
            "16/16 [==============================] - 2s 121ms/step - loss: 0.1979 - accuracy: 0.9476 - val_loss: 5.2906 - val_accuracy: 0.4579\n",
            "Epoch 34/250\n",
            "16/16 [==============================] - 2s 121ms/step - loss: 0.1607 - accuracy: 0.9556 - val_loss: 5.6672 - val_accuracy: 0.4486\n",
            "Epoch 35/250\n",
            "16/16 [==============================] - 2s 121ms/step - loss: 0.1276 - accuracy: 0.9677 - val_loss: 6.1167 - val_accuracy: 0.4953\n",
            "Epoch 36/250\n",
            "16/16 [==============================] - 2s 121ms/step - loss: 0.0903 - accuracy: 0.9839 - val_loss: 6.4197 - val_accuracy: 0.4579\n",
            "Epoch 37/250\n",
            "16/16 [==============================] - 2s 121ms/step - loss: 0.0775 - accuracy: 0.9839 - val_loss: 6.3334 - val_accuracy: 0.4299\n",
            "Epoch 38/250\n",
            "16/16 [==============================] - 2s 122ms/step - loss: 0.0688 - accuracy: 0.9879 - val_loss: 6.8442 - val_accuracy: 0.4486\n",
            "Epoch 39/250\n",
            "16/16 [==============================] - 2s 123ms/step - loss: 0.0563 - accuracy: 0.9919 - val_loss: 6.9208 - val_accuracy: 0.4393\n",
            "Epoch 40/250\n",
            "16/16 [==============================] - 2s 122ms/step - loss: 0.0691 - accuracy: 0.9758 - val_loss: 7.3706 - val_accuracy: 0.4579\n",
            "Epoch 41/250\n",
            "16/16 [==============================] - 2s 121ms/step - loss: 0.0666 - accuracy: 0.9839 - val_loss: 7.1928 - val_accuracy: 0.4206\n",
            "Epoch 42/250\n",
            "16/16 [==============================] - 2s 121ms/step - loss: 0.0557 - accuracy: 0.9960 - val_loss: 7.5071 - val_accuracy: 0.4393\n",
            "Epoch 43/250\n",
            "16/16 [==============================] - 2s 121ms/step - loss: 0.0498 - accuracy: 0.9879 - val_loss: 7.8729 - val_accuracy: 0.4019\n"
          ]
        }
      ],
      "source": [
        "es = EarlyStopping(patience=25)\n",
        "\n",
        "CNNmodel_combined.compile(loss='categorical_crossentropy', optimizer='adam', metrics=['accuracy'])\n",
        "\n",
        "history = CNNmodel_combined.fit(x=[X_1, X_2], y=y_cat, batch_size=16, validation_split=0.3, epochs=250, callbacks=[es])\n",
        "\n"
      ]
    },
    {
      "cell_type": "code",
      "execution_count": null,
      "id": "8ffca596",
      "metadata": {
        "id": "8ffca596"
      },
      "outputs": [],
      "source": []
    },
    {
      "cell_type": "code",
      "execution_count": null,
      "id": "14d38ec5",
      "metadata": {
        "id": "14d38ec5"
      },
      "outputs": [],
      "source": []
    },
    {
      "cell_type": "code",
      "execution_count": null,
      "id": "4c542059",
      "metadata": {
        "id": "4c542059"
      },
      "outputs": [],
      "source": []
    }
  ],
  "metadata": {
    "kernelspec": {
      "display_name": "Python 3 (ipykernel)",
      "language": "python",
      "name": "python3"
    },
    "language_info": {
      "codemirror_mode": {
        "name": "ipython",
        "version": 3
      },
      "file_extension": ".py",
      "mimetype": "text/x-python",
      "name": "python",
      "nbconvert_exporter": "python",
      "pygments_lexer": "ipython3",
      "version": "3.8.12"
    },
    "toc": {
      "base_numbering": 1,
      "nav_menu": {},
      "number_sections": true,
      "sideBar": true,
      "skip_h1_title": false,
      "title_cell": "Table of Contents",
      "title_sidebar": "Contents",
      "toc_cell": false,
      "toc_position": {},
      "toc_section_display": true,
      "toc_window_display": false
    },
    "colab": {
      "provenance": [],
      "collapsed_sections": []
    },
    "accelerator": "GPU",
    "gpuClass": "standard"
  },
  "nbformat": 4,
  "nbformat_minor": 5
}