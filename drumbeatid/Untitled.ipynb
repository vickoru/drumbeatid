{
 "cells": [
  {
   "cell_type": "code",
   "execution_count": 26,
   "id": "c5edb592",
   "metadata": {},
   "outputs": [],
   "source": [
    "# num = 152\n",
    "# total = []\n",
    "def total_int(num):\n",
    "    for i in str(num):\n",
    "        total.append(int(i))\n",
    "        print(total)\n",
    "    return sum(total)\n",
    "\n"
   ]
  },
  {
   "cell_type": "code",
   "execution_count": 27,
   "id": "e16416c0",
   "metadata": {},
   "outputs": [
    {
     "name": "stdout",
     "output_type": "stream",
     "text": [
      "[1, 5, 2, 1, 5, 2, 1, 5, 2, 1, 5, 2, 1, 5, 2, 1, 5, 2, 1]\n",
      "[1, 5, 2, 1, 5, 2, 1, 5, 2, 1, 5, 2, 1, 5, 2, 1, 5, 2, 1, 5]\n",
      "[1, 5, 2, 1, 5, 2, 1, 5, 2, 1, 5, 2, 1, 5, 2, 1, 5, 2, 1, 5, 2]\n"
     ]
    },
    {
     "data": {
      "text/plain": [
       "56"
      ]
     },
     "execution_count": 27,
     "metadata": {},
     "output_type": "execute_result"
    }
   ],
   "source": [
    "total_int()"
   ]
  },
  {
   "cell_type": "code",
   "execution_count": 28,
   "id": "ac8c7d18",
   "metadata": {},
   "outputs": [],
   "source": [
    "num = 152"
   ]
  },
  {
   "cell_type": "code",
   "execution_count": 37,
   "id": "15683a11",
   "metadata": {},
   "outputs": [
    {
     "data": {
      "text/plain": [
       "1"
      ]
     },
     "execution_count": 37,
     "metadata": {},
     "output_type": "execute_result"
    }
   ],
   "source": [
    "len(str(7))"
   ]
  },
  {
   "cell_type": "code",
   "execution_count": 31,
   "id": "65199a42",
   "metadata": {},
   "outputs": [
    {
     "name": "stdout",
     "output_type": "stream",
     "text": [
      "[1, 5, 2, 1, 5, 2, 1, 5, 2, 1, 5, 2, 1, 5, 2, 1, 5, 2, 1, 5, 2, 3]\n",
      "[1, 5, 2, 1, 5, 2, 1, 5, 2, 1, 5, 2, 1, 5, 2, 1, 5, 2, 1, 5, 2, 3, 7]\n",
      "[1, 5, 2, 1, 5, 2, 1, 5, 2, 1, 5, 2, 1, 5, 2, 1, 5, 2, 1, 5, 2, 3, 7, 1]\n"
     ]
    },
    {
     "data": {
      "text/plain": [
       "67"
      ]
     },
     "execution_count": 31,
     "metadata": {},
     "output_type": "execute_result"
    }
   ],
   "source": [
    "total_int(371)"
   ]
  },
  {
   "cell_type": "code",
   "execution_count": 70,
   "id": "a5d4b3fc",
   "metadata": {},
   "outputs": [],
   "source": [
    "def narcissistic( num ):\n",
    "    total = []\n",
    "    digits = len(str(num))\n",
    "    digits = int(digits)\n",
    "    for i in str(num):\n",
    "        total.append(int(i)**digits)\n",
    "        final = sum(total)\n",
    "        if final == num:\n",
    "            result = True\n",
    "        else:\n",
    "            result = False\n",
    "    return result"
   ]
  },
  {
   "cell_type": "code",
   "execution_count": 72,
   "id": "bed2cf39",
   "metadata": {},
   "outputs": [
    {
     "data": {
      "text/plain": [
       "True"
      ]
     },
     "execution_count": 72,
     "metadata": {},
     "output_type": "execute_result"
    }
   ],
   "source": [
    "narcissistic(371)"
   ]
  },
  {
   "cell_type": "code",
   "execution_count": 47,
   "id": "a68de0f8",
   "metadata": {},
   "outputs": [
    {
     "data": {
      "text/plain": [
       "371"
      ]
     },
     "execution_count": 47,
     "metadata": {},
     "output_type": "execute_result"
    }
   ],
   "source": [
    "3**3+7**3+1**3"
   ]
  },
  {
   "cell_type": "code",
   "execution_count": null,
   "id": "cd4ae033",
   "metadata": {},
   "outputs": [],
   "source": []
  }
 ],
 "metadata": {
  "kernelspec": {
   "display_name": "Python 3 (ipykernel)",
   "language": "python",
   "name": "python3"
  },
  "language_info": {
   "codemirror_mode": {
    "name": "ipython",
    "version": 3
   },
   "file_extension": ".py",
   "mimetype": "text/x-python",
   "name": "python",
   "nbconvert_exporter": "python",
   "pygments_lexer": "ipython3",
   "version": "3.8.12"
  },
  "toc": {
   "base_numbering": 1,
   "nav_menu": {},
   "number_sections": true,
   "sideBar": true,
   "skip_h1_title": false,
   "title_cell": "Table of Contents",
   "title_sidebar": "Contents",
   "toc_cell": false,
   "toc_position": {},
   "toc_section_display": true,
   "toc_window_display": false
  }
 },
 "nbformat": 4,
 "nbformat_minor": 5
}
